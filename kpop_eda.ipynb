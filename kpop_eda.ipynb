{
 "cells": [
  {
   "cell_type": "markdown",
   "id": "8a83952a",
   "metadata": {},
   "source": [
    "# K-Pop Exploratory Data Analysis"
   ]
  },
  {
   "cell_type": "markdown",
   "id": "e6e61666",
   "metadata": {},
   "source": [
    "## Author: https://github.com/ssim3"
   ]
  },
  {
   "cell_type": "markdown",
   "id": "28913858",
   "metadata": {},
   "source": [
    "4 csv files and what their columns mean: <br><br>\n",
    "\n",
    "\n",
    "- kpop_music_videos.csv:\n",
    "\n",
    "    - Date - Release date of the Music Video <br>\n",
    "    - Artist - The Artist <br>\n",
    "    - Song Name - Title of the Music Video <br>\n",
    "    - Korean Name - Korean Title of the MV <br>\n",
    "    - Director - Director of the music video <br>\n",
    "    - Video - URL to the MV <br>\n",
    "    - Type - Genre of the Music Video <br>\n",
    "    - Release - Major / Minor / Japanese Release <br>\n",
    "\n",
    "<br>\n",
    "\n",
    "- kpop_idols_girl_groups.csv:\n",
    "\n",
    "    - Name - Name of the girl group <br>\n",
    "    - Short - Short Name of the girl group <br>\n",
    "    - Korean Name - Korean Name of the girl group <br>\n",
    "    - Debut - When the girl group Debuted <br>\n",
    "    - Company - Company the girl group is under <br>\n",
    "    - Members - No. of members in the GG <br>\n",
    "    - Fanclub Name - Fanclub Name of the GG <br>\n",
    "    - Active - Is the GG active? <br>\n",
    "\n",
    "<br>\n",
    "\n",
    "- kpop_idols_boy_groups.csv:\n",
    "    - Name - Name of the boy group <br>\n",
    "    - Short - Short Name of the boy group <br>\n",
    "    - Korean Name - Korean Name of the boy group <br>\n",
    "    - Debut - When the boy group Debuted <br>\n",
    "    - Company - Company the boy group is under <br>\n",
    "    - Members - No. of members in the BG <br>\n",
    "    - Fanclub Name - Fanclub Name of the BG <br>\n",
    "    - Active - Is the BG active? <br>\n",
    "    \n",
    "<br>\n",
    "\n",
    "- kpop_idols.csv\n",
    "    - Stage Name - Idol's stage name\n",
    "    - Full Name - Idol's Full Name\n",
    "    - Korean Name - Idol's Korean Name\n",
    "    - K. Stage Name - Idol's Korean Stage Name\n",
    "    - Date of Birth - Idol's DoB\n",
    "    - Group - Group the Idol is from\n",
    "    - Country - Where the idol operates\n",
    "    - Birthplace - Idol's Origin Country\n",
    "    - Other Group - Other groups the Idol belongs to\n",
    "    - Gender - Idol's Gender\n",
    "\n"
   ]
  },
  {
   "cell_type": "code",
   "execution_count": 89,
   "id": "bb6c83a5",
   "metadata": {},
   "outputs": [],
   "source": [
    "import pandas as pd\n",
    "import numpy as np\n",
    "import matplotlib.pyplot as plt\n",
    "from jupyterthemes import jtplot\n",
    "\n",
    "jtplot.style(theme='monokai')\n",
    "\n"
   ]
  },
  {
   "cell_type": "markdown",
   "id": "ee5b5a15",
   "metadata": {},
   "source": [
    "# Importing datasets"
   ]
  },
  {
   "cell_type": "code",
   "execution_count": 3,
   "id": "1e6f6427",
   "metadata": {},
   "outputs": [],
   "source": [
    "mv = pd.read_csv(\"kpop_music_videos.csv\")\n",
    "gg = pd.read_csv(\"kpop_idols_girl_groups.csv\")\n",
    "bg = pd.read_csv(\"kpop_idols_boy_groups.csv\")\n",
    "idols = pd.read_csv(\"kpop_idols.csv\")"
   ]
  },
  {
   "cell_type": "code",
   "execution_count": 4,
   "id": "f6dc4d4d",
   "metadata": {},
   "outputs": [
    {
     "data": {
      "text/html": [
       "<div>\n",
       "<style scoped>\n",
       "    .dataframe tbody tr th:only-of-type {\n",
       "        vertical-align: middle;\n",
       "    }\n",
       "\n",
       "    .dataframe tbody tr th {\n",
       "        vertical-align: top;\n",
       "    }\n",
       "\n",
       "    .dataframe thead th {\n",
       "        text-align: right;\n",
       "    }\n",
       "</style>\n",
       "<table border=\"1\" class=\"dataframe\">\n",
       "  <thead>\n",
       "    <tr style=\"text-align: right;\">\n",
       "      <th></th>\n",
       "      <th>Date</th>\n",
       "      <th>Artist</th>\n",
       "      <th>Song Name</th>\n",
       "      <th>Korean Name</th>\n",
       "      <th>Director</th>\n",
       "      <th>Video</th>\n",
       "      <th>Type</th>\n",
       "      <th>Release</th>\n",
       "    </tr>\n",
       "  </thead>\n",
       "  <tbody>\n",
       "    <tr>\n",
       "      <th>0</th>\n",
       "      <td>2020-05-22</td>\n",
       "      <td>Agust D</td>\n",
       "      <td>Daechwita</td>\n",
       "      <td>대취타</td>\n",
       "      <td>NaN</td>\n",
       "      <td>https://youtu.be/qGjAWJ2zWWI</td>\n",
       "      <td>Boy Solo</td>\n",
       "      <td>Major</td>\n",
       "    </tr>\n",
       "    <tr>\n",
       "      <th>1</th>\n",
       "      <td>2020-05-21</td>\n",
       "      <td>Yubin</td>\n",
       "      <td>yaya (Me Time)</td>\n",
       "      <td>넵넵</td>\n",
       "      <td>NaN</td>\n",
       "      <td>https://youtu.be/BJD0arHF_5c</td>\n",
       "      <td>Girl Solo</td>\n",
       "      <td>Major</td>\n",
       "    </tr>\n",
       "    <tr>\n",
       "      <th>2</th>\n",
       "      <td>2020-05-21</td>\n",
       "      <td>OnlyOneOf</td>\n",
       "      <td>Angel (prod. GRAY)</td>\n",
       "      <td>NaN</td>\n",
       "      <td>NaN</td>\n",
       "      <td>https://youtu.be/vVTo8p72FxQ</td>\n",
       "      <td>Boy</td>\n",
       "      <td>Major</td>\n",
       "    </tr>\n",
       "    <tr>\n",
       "      <th>3</th>\n",
       "      <td>2020-05-20</td>\n",
       "      <td>Ryu Sujeong</td>\n",
       "      <td>Tiger Eyes</td>\n",
       "      <td>NaN</td>\n",
       "      <td>NaN</td>\n",
       "      <td>https://youtu.be/aE6curPGQRY</td>\n",
       "      <td>Girl Solo</td>\n",
       "      <td>Major</td>\n",
       "    </tr>\n",
       "    <tr>\n",
       "      <th>4</th>\n",
       "      <td>2020-05-20</td>\n",
       "      <td>Crush</td>\n",
       "      <td>Mayday feat. Joy (Red Velvet)</td>\n",
       "      <td>자나깨나</td>\n",
       "      <td>NaN</td>\n",
       "      <td>https://youtu.be/29ycT6fA-Rs</td>\n",
       "      <td>Boy Solo</td>\n",
       "      <td>Major</td>\n",
       "    </tr>\n",
       "  </tbody>\n",
       "</table>\n",
       "</div>"
      ],
      "text/plain": [
       "         Date       Artist                      Song Name Korean Name  \\\n",
       "0  2020-05-22      Agust D                      Daechwita         대취타   \n",
       "1  2020-05-21        Yubin                 yaya (Me Time)          넵넵   \n",
       "2  2020-05-21    OnlyOneOf             Angel (prod. GRAY)         NaN   \n",
       "3  2020-05-20  Ryu Sujeong                     Tiger Eyes         NaN   \n",
       "4  2020-05-20        Crush  Mayday feat. Joy (Red Velvet)        자나깨나   \n",
       "\n",
       "  Director                         Video       Type Release  \n",
       "0      NaN  https://youtu.be/qGjAWJ2zWWI   Boy Solo   Major  \n",
       "1      NaN  https://youtu.be/BJD0arHF_5c  Girl Solo   Major  \n",
       "2      NaN  https://youtu.be/vVTo8p72FxQ        Boy   Major  \n",
       "3      NaN  https://youtu.be/aE6curPGQRY  Girl Solo   Major  \n",
       "4      NaN  https://youtu.be/29ycT6fA-Rs   Boy Solo   Major  "
      ]
     },
     "execution_count": 4,
     "metadata": {},
     "output_type": "execute_result"
    }
   ],
   "source": [
    "# Music Videos\n",
    "mv.head()"
   ]
  },
  {
   "cell_type": "code",
   "execution_count": 5,
   "id": "d03f1812",
   "metadata": {},
   "outputs": [
    {
     "data": {
      "text/html": [
       "<div>\n",
       "<style scoped>\n",
       "    .dataframe tbody tr th:only-of-type {\n",
       "        vertical-align: middle;\n",
       "    }\n",
       "\n",
       "    .dataframe tbody tr th {\n",
       "        vertical-align: top;\n",
       "    }\n",
       "\n",
       "    .dataframe thead th {\n",
       "        text-align: right;\n",
       "    }\n",
       "</style>\n",
       "<table border=\"1\" class=\"dataframe\">\n",
       "  <thead>\n",
       "    <tr style=\"text-align: right;\">\n",
       "      <th></th>\n",
       "      <th>Name</th>\n",
       "      <th>Short</th>\n",
       "      <th>Korean Name</th>\n",
       "      <th>Debut</th>\n",
       "      <th>Company</th>\n",
       "      <th>Members</th>\n",
       "      <th>Orig. Memb.</th>\n",
       "      <th>Fanclub Name</th>\n",
       "      <th>Active</th>\n",
       "    </tr>\n",
       "  </thead>\n",
       "  <tbody>\n",
       "    <tr>\n",
       "      <th>0</th>\n",
       "      <td>(G)I-DLE</td>\n",
       "      <td>NaN</td>\n",
       "      <td>(여자)아이들</td>\n",
       "      <td>2018-05-02</td>\n",
       "      <td>Cube</td>\n",
       "      <td>6</td>\n",
       "      <td>6</td>\n",
       "      <td>NaN</td>\n",
       "      <td>Yes</td>\n",
       "    </tr>\n",
       "    <tr>\n",
       "      <th>1</th>\n",
       "      <td>15&amp;</td>\n",
       "      <td>NaN</td>\n",
       "      <td>피프틴앤드</td>\n",
       "      <td>2012-10-05</td>\n",
       "      <td>JYP</td>\n",
       "      <td>2</td>\n",
       "      <td>2</td>\n",
       "      <td>NaN</td>\n",
       "      <td>No</td>\n",
       "    </tr>\n",
       "    <tr>\n",
       "      <th>2</th>\n",
       "      <td>2EYES</td>\n",
       "      <td>NaN</td>\n",
       "      <td>투아이즈</td>\n",
       "      <td>2013-07-20</td>\n",
       "      <td>SidusHQ</td>\n",
       "      <td>4</td>\n",
       "      <td>5</td>\n",
       "      <td>NaN</td>\n",
       "      <td>No</td>\n",
       "    </tr>\n",
       "    <tr>\n",
       "      <th>3</th>\n",
       "      <td>2NE1</td>\n",
       "      <td>NaN</td>\n",
       "      <td>투애니원</td>\n",
       "      <td>2009-05-06</td>\n",
       "      <td>YG</td>\n",
       "      <td>4</td>\n",
       "      <td>4</td>\n",
       "      <td>Blackjack</td>\n",
       "      <td>No</td>\n",
       "    </tr>\n",
       "    <tr>\n",
       "      <th>4</th>\n",
       "      <td>3YE</td>\n",
       "      <td>NaN</td>\n",
       "      <td>써드아이</td>\n",
       "      <td>2019-05-21</td>\n",
       "      <td>GH</td>\n",
       "      <td>3</td>\n",
       "      <td>3</td>\n",
       "      <td>NaN</td>\n",
       "      <td>Yes</td>\n",
       "    </tr>\n",
       "  </tbody>\n",
       "</table>\n",
       "</div>"
      ],
      "text/plain": [
       "       Name Short Korean Name       Debut  Company  Members  Orig. Memb.  \\\n",
       "0  (G)I-DLE   NaN     (여자)아이들  2018-05-02     Cube        6            6   \n",
       "1       15&   NaN       피프틴앤드  2012-10-05      JYP        2            2   \n",
       "2     2EYES   NaN        투아이즈  2013-07-20  SidusHQ        4            5   \n",
       "3      2NE1   NaN        투애니원  2009-05-06       YG        4            4   \n",
       "4       3YE   NaN        써드아이  2019-05-21       GH        3            3   \n",
       "\n",
       "  Fanclub Name Active  \n",
       "0          NaN    Yes  \n",
       "1          NaN     No  \n",
       "2          NaN     No  \n",
       "3    Blackjack     No  \n",
       "4          NaN    Yes  "
      ]
     },
     "execution_count": 5,
     "metadata": {},
     "output_type": "execute_result"
    }
   ],
   "source": [
    "# Girl Groups\n",
    "gg.head()"
   ]
  },
  {
   "cell_type": "code",
   "execution_count": 6,
   "id": "418c443b",
   "metadata": {},
   "outputs": [
    {
     "data": {
      "text/html": [
       "<div>\n",
       "<style scoped>\n",
       "    .dataframe tbody tr th:only-of-type {\n",
       "        vertical-align: middle;\n",
       "    }\n",
       "\n",
       "    .dataframe tbody tr th {\n",
       "        vertical-align: top;\n",
       "    }\n",
       "\n",
       "    .dataframe thead th {\n",
       "        text-align: right;\n",
       "    }\n",
       "</style>\n",
       "<table border=\"1\" class=\"dataframe\">\n",
       "  <thead>\n",
       "    <tr style=\"text-align: right;\">\n",
       "      <th></th>\n",
       "      <th>Name</th>\n",
       "      <th>Short</th>\n",
       "      <th>Korean Name</th>\n",
       "      <th>Debut</th>\n",
       "      <th>Company</th>\n",
       "      <th>Members</th>\n",
       "      <th>Orig. Memb.</th>\n",
       "      <th>Fanclub Name</th>\n",
       "      <th>Active</th>\n",
       "    </tr>\n",
       "  </thead>\n",
       "  <tbody>\n",
       "    <tr>\n",
       "      <th>0</th>\n",
       "      <td>100%</td>\n",
       "      <td>NaN</td>\n",
       "      <td>백퍼센트</td>\n",
       "      <td>2012-09-18</td>\n",
       "      <td>TOP Media</td>\n",
       "      <td>4</td>\n",
       "      <td>7</td>\n",
       "      <td>Perfection</td>\n",
       "      <td>Yes</td>\n",
       "    </tr>\n",
       "    <tr>\n",
       "      <th>1</th>\n",
       "      <td>14U</td>\n",
       "      <td>NaN</td>\n",
       "      <td>원포유</td>\n",
       "      <td>2017-04-17</td>\n",
       "      <td>BG</td>\n",
       "      <td>14</td>\n",
       "      <td>14</td>\n",
       "      <td>NaN</td>\n",
       "      <td>Yes</td>\n",
       "    </tr>\n",
       "    <tr>\n",
       "      <th>2</th>\n",
       "      <td>1the9</td>\n",
       "      <td>NaN</td>\n",
       "      <td>원더나인</td>\n",
       "      <td>2019-02-09</td>\n",
       "      <td>MBK</td>\n",
       "      <td>9</td>\n",
       "      <td>9</td>\n",
       "      <td>NaN</td>\n",
       "      <td>Yes</td>\n",
       "    </tr>\n",
       "    <tr>\n",
       "      <th>3</th>\n",
       "      <td>24K</td>\n",
       "      <td>NaN</td>\n",
       "      <td>투포케이</td>\n",
       "      <td>2012-09-06</td>\n",
       "      <td>Choeun</td>\n",
       "      <td>8</td>\n",
       "      <td>6</td>\n",
       "      <td>24U</td>\n",
       "      <td>Yes</td>\n",
       "    </tr>\n",
       "    <tr>\n",
       "      <th>4</th>\n",
       "      <td>2AM</td>\n",
       "      <td>NaN</td>\n",
       "      <td>투에이엠</td>\n",
       "      <td>2008-06-21</td>\n",
       "      <td>JYP, Big Hit</td>\n",
       "      <td>4</td>\n",
       "      <td>4</td>\n",
       "      <td>I Am</td>\n",
       "      <td>No</td>\n",
       "    </tr>\n",
       "  </tbody>\n",
       "</table>\n",
       "</div>"
      ],
      "text/plain": [
       "    Name Short Korean Name       Debut       Company  Members  Orig. Memb.  \\\n",
       "0   100%   NaN        백퍼센트  2012-09-18     TOP Media        4            7   \n",
       "1    14U   NaN         원포유  2017-04-17            BG       14           14   \n",
       "2  1the9   NaN        원더나인  2019-02-09           MBK        9            9   \n",
       "3    24K   NaN        투포케이  2012-09-06        Choeun        8            6   \n",
       "4    2AM   NaN        투에이엠  2008-06-21  JYP, Big Hit        4            4   \n",
       "\n",
       "  Fanclub Name Active  \n",
       "0   Perfection    Yes  \n",
       "1          NaN    Yes  \n",
       "2          NaN    Yes  \n",
       "3          24U    Yes  \n",
       "4         I Am     No  "
      ]
     },
     "execution_count": 6,
     "metadata": {},
     "output_type": "execute_result"
    }
   ],
   "source": [
    "# Boy Groups\n",
    "bg.head()"
   ]
  },
  {
   "cell_type": "code",
   "execution_count": 7,
   "id": "a4727e83",
   "metadata": {},
   "outputs": [
    {
     "data": {
      "text/html": [
       "<div>\n",
       "<style scoped>\n",
       "    .dataframe tbody tr th:only-of-type {\n",
       "        vertical-align: middle;\n",
       "    }\n",
       "\n",
       "    .dataframe tbody tr th {\n",
       "        vertical-align: top;\n",
       "    }\n",
       "\n",
       "    .dataframe thead th {\n",
       "        text-align: right;\n",
       "    }\n",
       "</style>\n",
       "<table border=\"1\" class=\"dataframe\">\n",
       "  <thead>\n",
       "    <tr style=\"text-align: right;\">\n",
       "      <th></th>\n",
       "      <th>Stage Name</th>\n",
       "      <th>Full Name</th>\n",
       "      <th>Korean Name</th>\n",
       "      <th>K. Stage Name</th>\n",
       "      <th>Date of Birth</th>\n",
       "      <th>Group</th>\n",
       "      <th>Country</th>\n",
       "      <th>Birthplace</th>\n",
       "      <th>Other Group</th>\n",
       "      <th>Gender</th>\n",
       "    </tr>\n",
       "  </thead>\n",
       "  <tbody>\n",
       "    <tr>\n",
       "      <th>0</th>\n",
       "      <td>A.M</td>\n",
       "      <td>Seong Hyunwoo</td>\n",
       "      <td>성현우</td>\n",
       "      <td>에이엠</td>\n",
       "      <td>1996-12-31</td>\n",
       "      <td>Limitless</td>\n",
       "      <td>South Korea</td>\n",
       "      <td>NaN</td>\n",
       "      <td>NaN</td>\n",
       "      <td>M</td>\n",
       "    </tr>\n",
       "    <tr>\n",
       "      <th>1</th>\n",
       "      <td>Ace</td>\n",
       "      <td>Jang Wooyoung</td>\n",
       "      <td>장우영</td>\n",
       "      <td>에이스</td>\n",
       "      <td>1992-08-28</td>\n",
       "      <td>VAV</td>\n",
       "      <td>South Korea</td>\n",
       "      <td>NaN</td>\n",
       "      <td>NaN</td>\n",
       "      <td>M</td>\n",
       "    </tr>\n",
       "    <tr>\n",
       "      <th>2</th>\n",
       "      <td>Aeji</td>\n",
       "      <td>Kwon Aeji</td>\n",
       "      <td>권애지</td>\n",
       "      <td>애지</td>\n",
       "      <td>1999-10-25</td>\n",
       "      <td>Hashtag</td>\n",
       "      <td>South Korea</td>\n",
       "      <td>Daegu</td>\n",
       "      <td>NaN</td>\n",
       "      <td>F</td>\n",
       "    </tr>\n",
       "    <tr>\n",
       "      <th>3</th>\n",
       "      <td>AhIn</td>\n",
       "      <td>Lee Ahin</td>\n",
       "      <td>이아인</td>\n",
       "      <td>아인</td>\n",
       "      <td>1999-09-27</td>\n",
       "      <td>MOMOLAND</td>\n",
       "      <td>South Korea</td>\n",
       "      <td>Wonju</td>\n",
       "      <td>NaN</td>\n",
       "      <td>F</td>\n",
       "    </tr>\n",
       "    <tr>\n",
       "      <th>4</th>\n",
       "      <td>Ahra</td>\n",
       "      <td>Go Ahra</td>\n",
       "      <td>고아라</td>\n",
       "      <td>아라</td>\n",
       "      <td>2001-02-21</td>\n",
       "      <td>Favorite</td>\n",
       "      <td>South Korea</td>\n",
       "      <td>Yeosu</td>\n",
       "      <td>NaN</td>\n",
       "      <td>F</td>\n",
       "    </tr>\n",
       "  </tbody>\n",
       "</table>\n",
       "</div>"
      ],
      "text/plain": [
       "  Stage Name      Full Name Korean Name K. Stage Name Date of Birth  \\\n",
       "0        A.M  Seong Hyunwoo         성현우           에이엠    1996-12-31   \n",
       "1        Ace  Jang Wooyoung         장우영           에이스    1992-08-28   \n",
       "2       Aeji      Kwon Aeji         권애지            애지    1999-10-25   \n",
       "3       AhIn       Lee Ahin         이아인            아인    1999-09-27   \n",
       "4       Ahra        Go Ahra         고아라            아라    2001-02-21   \n",
       "\n",
       "       Group      Country Birthplace Other Group Gender  \n",
       "0  Limitless  South Korea        NaN         NaN      M  \n",
       "1        VAV  South Korea        NaN         NaN      M  \n",
       "2    Hashtag  South Korea      Daegu         NaN      F  \n",
       "3   MOMOLAND  South Korea      Wonju         NaN      F  \n",
       "4   Favorite  South Korea      Yeosu         NaN      F  "
      ]
     },
     "execution_count": 7,
     "metadata": {},
     "output_type": "execute_result"
    }
   ],
   "source": [
    "# idols\n",
    "idols.head()"
   ]
  },
  {
   "cell_type": "code",
   "execution_count": 8,
   "id": "18d19fdc",
   "metadata": {},
   "outputs": [
    {
     "name": "stdout",
     "output_type": "stream",
     "text": [
      "<class 'pandas.core.frame.DataFrame'>\n",
      "RangeIndex: 3772 entries, 0 to 3771\n",
      "Data columns (total 8 columns):\n",
      " #   Column       Non-Null Count  Dtype \n",
      "---  ------       --------------  ----- \n",
      " 0   Date         3772 non-null   object\n",
      " 1   Artist       3772 non-null   object\n",
      " 2   Song Name    3771 non-null   object\n",
      " 3   Korean Name  2786 non-null   object\n",
      " 4   Director     627 non-null    object\n",
      " 5   Video        3772 non-null   object\n",
      " 6   Type         3772 non-null   object\n",
      " 7   Release      3759 non-null   object\n",
      "dtypes: object(8)\n",
      "memory usage: 235.9+ KB\n"
     ]
    }
   ],
   "source": [
    "# mv information\n",
    "\n",
    "mv.info()"
   ]
  },
  {
   "cell_type": "code",
   "execution_count": 9,
   "id": "aa930cc0",
   "metadata": {},
   "outputs": [
    {
     "name": "stdout",
     "output_type": "stream",
     "text": [
      "<class 'pandas.core.frame.DataFrame'>\n",
      "RangeIndex: 152 entries, 0 to 151\n",
      "Data columns (total 9 columns):\n",
      " #   Column        Non-Null Count  Dtype \n",
      "---  ------        --------------  ----- \n",
      " 0   Name          152 non-null    object\n",
      " 1   Short         21 non-null     object\n",
      " 2   Korean Name   152 non-null    object\n",
      " 3   Debut         152 non-null    object\n",
      " 4   Company       152 non-null    object\n",
      " 5   Members       152 non-null    int64 \n",
      " 6   Orig. Memb.   152 non-null    int64 \n",
      " 7   Fanclub Name  46 non-null     object\n",
      " 8   Active        152 non-null    object\n",
      "dtypes: int64(2), object(7)\n",
      "memory usage: 10.8+ KB\n"
     ]
    }
   ],
   "source": [
    "# gg information\n",
    "\n",
    "gg.info()"
   ]
  },
  {
   "cell_type": "code",
   "execution_count": 10,
   "id": "8a43fe01",
   "metadata": {},
   "outputs": [
    {
     "name": "stdout",
     "output_type": "stream",
     "text": [
      "<class 'pandas.core.frame.DataFrame'>\n",
      "RangeIndex: 147 entries, 0 to 146\n",
      "Data columns (total 9 columns):\n",
      " #   Column        Non-Null Count  Dtype \n",
      "---  ------        --------------  ----- \n",
      " 0   Name          147 non-null    object\n",
      " 1   Short         18 non-null     object\n",
      " 2   Korean Name   147 non-null    object\n",
      " 3   Debut         147 non-null    object\n",
      " 4   Company       146 non-null    object\n",
      " 5   Members       147 non-null    int64 \n",
      " 6   Orig. Memb.   147 non-null    int64 \n",
      " 7   Fanclub Name  61 non-null     object\n",
      " 8   Active        147 non-null    object\n",
      "dtypes: int64(2), object(7)\n",
      "memory usage: 10.5+ KB\n"
     ]
    }
   ],
   "source": [
    "#  bg information\n",
    "\n",
    "bg.info()"
   ]
  },
  {
   "cell_type": "code",
   "execution_count": 11,
   "id": "4ba70494",
   "metadata": {},
   "outputs": [
    {
     "name": "stdout",
     "output_type": "stream",
     "text": [
      "<class 'pandas.core.frame.DataFrame'>\n",
      "RangeIndex: 1310 entries, 0 to 1309\n",
      "Data columns (total 10 columns):\n",
      " #   Column         Non-Null Count  Dtype \n",
      "---  ------         --------------  ----- \n",
      " 0   Stage Name     1310 non-null   object\n",
      " 1   Full Name      1304 non-null   object\n",
      " 2   Korean Name    1304 non-null   object\n",
      " 3   K. Stage Name  1309 non-null   object\n",
      " 4   Date of Birth  1310 non-null   object\n",
      " 5   Group          1219 non-null   object\n",
      " 6   Country        1310 non-null   object\n",
      " 7   Birthplace     689 non-null    object\n",
      " 8   Other Group    122 non-null    object\n",
      " 9   Gender         1310 non-null   object\n",
      "dtypes: object(10)\n",
      "memory usage: 102.5+ KB\n"
     ]
    }
   ],
   "source": [
    "# idols information\n",
    "\n",
    "idols.info()"
   ]
  },
  {
   "cell_type": "markdown",
   "id": "92baf14c",
   "metadata": {},
   "source": [
    "## Cleaning up the MV dataset"
   ]
  },
  {
   "cell_type": "markdown",
   "id": "dba6e5fb",
   "metadata": {},
   "source": [
    "1. Dropping columns"
   ]
  },
  {
   "cell_type": "code",
   "execution_count": 12,
   "id": "d5cfcc99",
   "metadata": {},
   "outputs": [
    {
     "data": {
      "text/html": [
       "<div>\n",
       "<style scoped>\n",
       "    .dataframe tbody tr th:only-of-type {\n",
       "        vertical-align: middle;\n",
       "    }\n",
       "\n",
       "    .dataframe tbody tr th {\n",
       "        vertical-align: top;\n",
       "    }\n",
       "\n",
       "    .dataframe thead th {\n",
       "        text-align: right;\n",
       "    }\n",
       "</style>\n",
       "<table border=\"1\" class=\"dataframe\">\n",
       "  <thead>\n",
       "    <tr style=\"text-align: right;\">\n",
       "      <th></th>\n",
       "      <th>Date</th>\n",
       "      <th>Artist</th>\n",
       "      <th>Song Name</th>\n",
       "      <th>Type</th>\n",
       "      <th>Release</th>\n",
       "    </tr>\n",
       "  </thead>\n",
       "  <tbody>\n",
       "    <tr>\n",
       "      <th>0</th>\n",
       "      <td>2020-05-22</td>\n",
       "      <td>Agust D</td>\n",
       "      <td>Daechwita</td>\n",
       "      <td>Boy Solo</td>\n",
       "      <td>Major</td>\n",
       "    </tr>\n",
       "    <tr>\n",
       "      <th>1</th>\n",
       "      <td>2020-05-21</td>\n",
       "      <td>Yubin</td>\n",
       "      <td>yaya (Me Time)</td>\n",
       "      <td>Girl Solo</td>\n",
       "      <td>Major</td>\n",
       "    </tr>\n",
       "    <tr>\n",
       "      <th>2</th>\n",
       "      <td>2020-05-21</td>\n",
       "      <td>OnlyOneOf</td>\n",
       "      <td>Angel (prod. GRAY)</td>\n",
       "      <td>Boy</td>\n",
       "      <td>Major</td>\n",
       "    </tr>\n",
       "    <tr>\n",
       "      <th>3</th>\n",
       "      <td>2020-05-20</td>\n",
       "      <td>Ryu Sujeong</td>\n",
       "      <td>Tiger Eyes</td>\n",
       "      <td>Girl Solo</td>\n",
       "      <td>Major</td>\n",
       "    </tr>\n",
       "    <tr>\n",
       "      <th>4</th>\n",
       "      <td>2020-05-20</td>\n",
       "      <td>Crush</td>\n",
       "      <td>Mayday feat. Joy (Red Velvet)</td>\n",
       "      <td>Boy Solo</td>\n",
       "      <td>Major</td>\n",
       "    </tr>\n",
       "  </tbody>\n",
       "</table>\n",
       "</div>"
      ],
      "text/plain": [
       "         Date       Artist                      Song Name       Type Release\n",
       "0  2020-05-22      Agust D                      Daechwita   Boy Solo   Major\n",
       "1  2020-05-21        Yubin                 yaya (Me Time)  Girl Solo   Major\n",
       "2  2020-05-21    OnlyOneOf             Angel (prod. GRAY)        Boy   Major\n",
       "3  2020-05-20  Ryu Sujeong                     Tiger Eyes  Girl Solo   Major\n",
       "4  2020-05-20        Crush  Mayday feat. Joy (Red Velvet)   Boy Solo   Major"
      ]
     },
     "execution_count": 12,
     "metadata": {},
     "output_type": "execute_result"
    }
   ],
   "source": [
    "mv.drop([\"Korean Name\", \"Video\", \"Director\"], axis=1, inplace=True)\n",
    "\n",
    "mv.head()"
   ]
  },
  {
   "cell_type": "markdown",
   "id": "cf382f11",
   "metadata": {},
   "source": [
    "2. Change \"Date\" column dtype"
   ]
  },
  {
   "cell_type": "code",
   "execution_count": 13,
   "id": "6698bfa4",
   "metadata": {},
   "outputs": [
    {
     "data": {
      "text/plain": [
       "dtype('<M8[ns]')"
      ]
     },
     "execution_count": 13,
     "metadata": {},
     "output_type": "execute_result"
    }
   ],
   "source": [
    "mv[\"Date\"] = pd.to_datetime(mv[\"Date\"])\n",
    "mv.Date.dtype"
   ]
  },
  {
   "cell_type": "markdown",
   "id": "43f3b570",
   "metadata": {},
   "source": [
    "3. Song with NaN title will be dropped"
   ]
  },
  {
   "cell_type": "code",
   "execution_count": 14,
   "id": "85b9b747",
   "metadata": {},
   "outputs": [
    {
     "name": "stdout",
     "output_type": "stream",
     "text": [
      "<class 'pandas.core.frame.DataFrame'>\n",
      "Int64Index: 3771 entries, 0 to 3771\n",
      "Data columns (total 5 columns):\n",
      " #   Column     Non-Null Count  Dtype         \n",
      "---  ------     --------------  -----         \n",
      " 0   Date       3771 non-null   datetime64[ns]\n",
      " 1   Artist     3771 non-null   object        \n",
      " 2   Song Name  3771 non-null   object        \n",
      " 3   Type       3771 non-null   object        \n",
      " 4   Release    3758 non-null   object        \n",
      "dtypes: datetime64[ns](1), object(4)\n",
      "memory usage: 176.8+ KB\n"
     ]
    }
   ],
   "source": [
    "mv.loc[mv[\"Song Name\"].isna()]\n",
    "mv.drop(901, inplace=True)\n",
    "mv.info()"
   ]
  },
  {
   "cell_type": "markdown",
   "id": "05404add",
   "metadata": {},
   "source": [
    "4. MV's with NaN Releases will be dropped as well"
   ]
  },
  {
   "cell_type": "code",
   "execution_count": 15,
   "id": "1812cd11",
   "metadata": {},
   "outputs": [
    {
     "name": "stdout",
     "output_type": "stream",
     "text": [
      "<class 'pandas.core.frame.DataFrame'>\n",
      "Int64Index: 3758 entries, 0 to 3771\n",
      "Data columns (total 5 columns):\n",
      " #   Column     Non-Null Count  Dtype         \n",
      "---  ------     --------------  -----         \n",
      " 0   Date       3758 non-null   datetime64[ns]\n",
      " 1   Artist     3758 non-null   object        \n",
      " 2   Song Name  3758 non-null   object        \n",
      " 3   Type       3758 non-null   object        \n",
      " 4   Release    3758 non-null   object        \n",
      "dtypes: datetime64[ns](1), object(4)\n",
      "memory usage: 176.2+ KB\n"
     ]
    }
   ],
   "source": [
    "rows_to_drop = mv.loc[mv[\"Release\"].isna()].index\n",
    "mv.drop(rows_to_drop, inplace=True)\n",
    "\n",
    "mv.info() # No missing elements now"
   ]
  },
  {
   "cell_type": "code",
   "execution_count": 16,
   "id": "fd8d65ed",
   "metadata": {},
   "outputs": [
    {
     "data": {
      "text/html": [
       "<div>\n",
       "<style scoped>\n",
       "    .dataframe tbody tr th:only-of-type {\n",
       "        vertical-align: middle;\n",
       "    }\n",
       "\n",
       "    .dataframe tbody tr th {\n",
       "        vertical-align: top;\n",
       "    }\n",
       "\n",
       "    .dataframe thead th {\n",
       "        text-align: right;\n",
       "    }\n",
       "</style>\n",
       "<table border=\"1\" class=\"dataframe\">\n",
       "  <thead>\n",
       "    <tr style=\"text-align: right;\">\n",
       "      <th></th>\n",
       "      <th>Date</th>\n",
       "      <th>Artist</th>\n",
       "      <th>Song Name</th>\n",
       "      <th>Type</th>\n",
       "      <th>Release</th>\n",
       "    </tr>\n",
       "  </thead>\n",
       "  <tbody>\n",
       "    <tr>\n",
       "      <th>0</th>\n",
       "      <td>2020-05-22</td>\n",
       "      <td>Agust D</td>\n",
       "      <td>Daechwita</td>\n",
       "      <td>Boy Solo</td>\n",
       "      <td>Major</td>\n",
       "    </tr>\n",
       "    <tr>\n",
       "      <th>1</th>\n",
       "      <td>2020-05-21</td>\n",
       "      <td>Yubin</td>\n",
       "      <td>yaya (Me Time)</td>\n",
       "      <td>Girl Solo</td>\n",
       "      <td>Major</td>\n",
       "    </tr>\n",
       "    <tr>\n",
       "      <th>2</th>\n",
       "      <td>2020-05-21</td>\n",
       "      <td>OnlyOneOf</td>\n",
       "      <td>Angel (prod. GRAY)</td>\n",
       "      <td>Boy</td>\n",
       "      <td>Major</td>\n",
       "    </tr>\n",
       "    <tr>\n",
       "      <th>3</th>\n",
       "      <td>2020-05-20</td>\n",
       "      <td>Ryu Sujeong</td>\n",
       "      <td>Tiger Eyes</td>\n",
       "      <td>Girl Solo</td>\n",
       "      <td>Major</td>\n",
       "    </tr>\n",
       "    <tr>\n",
       "      <th>4</th>\n",
       "      <td>2020-05-20</td>\n",
       "      <td>Crush</td>\n",
       "      <td>Mayday feat. Joy (Red Velvet)</td>\n",
       "      <td>Boy Solo</td>\n",
       "      <td>Major</td>\n",
       "    </tr>\n",
       "  </tbody>\n",
       "</table>\n",
       "</div>"
      ],
      "text/plain": [
       "        Date       Artist                      Song Name       Type Release\n",
       "0 2020-05-22      Agust D                      Daechwita   Boy Solo   Major\n",
       "1 2020-05-21        Yubin                 yaya (Me Time)  Girl Solo   Major\n",
       "2 2020-05-21    OnlyOneOf             Angel (prod. GRAY)        Boy   Major\n",
       "3 2020-05-20  Ryu Sujeong                     Tiger Eyes  Girl Solo   Major\n",
       "4 2020-05-20        Crush  Mayday feat. Joy (Red Velvet)   Boy Solo   Major"
      ]
     },
     "execution_count": 16,
     "metadata": {},
     "output_type": "execute_result"
    }
   ],
   "source": [
    "mv.head()"
   ]
  },
  {
   "cell_type": "markdown",
   "id": "c51efd06",
   "metadata": {},
   "source": [
    "## Cleaning up GG dataframe"
   ]
  },
  {
   "cell_type": "markdown",
   "id": "8864f31f",
   "metadata": {},
   "source": [
    "1. Dropping unwanted columns "
   ]
  },
  {
   "cell_type": "code",
   "execution_count": 17,
   "id": "accd936c",
   "metadata": {},
   "outputs": [],
   "source": [
    "gg.columns\n",
    "gg.drop([\"Short\", \"Korean Name\", \"Fanclub Name\"], axis=1, inplace=True)"
   ]
  },
  {
   "cell_type": "markdown",
   "id": "f71b7184",
   "metadata": {},
   "source": [
    "2. Changing Debut column to DateTime"
   ]
  },
  {
   "cell_type": "code",
   "execution_count": 18,
   "id": "7ed7049c",
   "metadata": {},
   "outputs": [
    {
     "name": "stdout",
     "output_type": "stream",
     "text": [
      "<class 'pandas.core.frame.DataFrame'>\n",
      "RangeIndex: 152 entries, 0 to 151\n",
      "Data columns (total 6 columns):\n",
      " #   Column       Non-Null Count  Dtype         \n",
      "---  ------       --------------  -----         \n",
      " 0   Name         152 non-null    object        \n",
      " 1   Debut        152 non-null    datetime64[ns]\n",
      " 2   Company      152 non-null    object        \n",
      " 3   Members      152 non-null    int64         \n",
      " 4   Orig. Memb.  152 non-null    int64         \n",
      " 5   Active       152 non-null    object        \n",
      "dtypes: datetime64[ns](1), int64(2), object(3)\n",
      "memory usage: 7.2+ KB\n"
     ]
    }
   ],
   "source": [
    "gg.Debut = pd.to_datetime(gg[\"Debut\"])\n",
    "gg.info()"
   ]
  },
  {
   "cell_type": "code",
   "execution_count": 19,
   "id": "90fc2dec",
   "metadata": {},
   "outputs": [
    {
     "data": {
      "text/html": [
       "<div>\n",
       "<style scoped>\n",
       "    .dataframe tbody tr th:only-of-type {\n",
       "        vertical-align: middle;\n",
       "    }\n",
       "\n",
       "    .dataframe tbody tr th {\n",
       "        vertical-align: top;\n",
       "    }\n",
       "\n",
       "    .dataframe thead th {\n",
       "        text-align: right;\n",
       "    }\n",
       "</style>\n",
       "<table border=\"1\" class=\"dataframe\">\n",
       "  <thead>\n",
       "    <tr style=\"text-align: right;\">\n",
       "      <th></th>\n",
       "      <th>Name</th>\n",
       "      <th>Debut</th>\n",
       "      <th>Company</th>\n",
       "      <th>Members</th>\n",
       "      <th>Orig. Memb.</th>\n",
       "      <th>Active</th>\n",
       "    </tr>\n",
       "  </thead>\n",
       "  <tbody>\n",
       "    <tr>\n",
       "      <th>0</th>\n",
       "      <td>(G)I-DLE</td>\n",
       "      <td>2018-05-02</td>\n",
       "      <td>Cube</td>\n",
       "      <td>6</td>\n",
       "      <td>6</td>\n",
       "      <td>Yes</td>\n",
       "    </tr>\n",
       "    <tr>\n",
       "      <th>1</th>\n",
       "      <td>15&amp;</td>\n",
       "      <td>2012-10-05</td>\n",
       "      <td>JYP</td>\n",
       "      <td>2</td>\n",
       "      <td>2</td>\n",
       "      <td>No</td>\n",
       "    </tr>\n",
       "    <tr>\n",
       "      <th>2</th>\n",
       "      <td>2EYES</td>\n",
       "      <td>2013-07-20</td>\n",
       "      <td>SidusHQ</td>\n",
       "      <td>4</td>\n",
       "      <td>5</td>\n",
       "      <td>No</td>\n",
       "    </tr>\n",
       "    <tr>\n",
       "      <th>3</th>\n",
       "      <td>2NE1</td>\n",
       "      <td>2009-05-06</td>\n",
       "      <td>YG</td>\n",
       "      <td>4</td>\n",
       "      <td>4</td>\n",
       "      <td>No</td>\n",
       "    </tr>\n",
       "    <tr>\n",
       "      <th>4</th>\n",
       "      <td>3YE</td>\n",
       "      <td>2019-05-21</td>\n",
       "      <td>GH</td>\n",
       "      <td>3</td>\n",
       "      <td>3</td>\n",
       "      <td>Yes</td>\n",
       "    </tr>\n",
       "  </tbody>\n",
       "</table>\n",
       "</div>"
      ],
      "text/plain": [
       "       Name      Debut  Company  Members  Orig. Memb. Active\n",
       "0  (G)I-DLE 2018-05-02     Cube        6            6    Yes\n",
       "1       15& 2012-10-05      JYP        2            2     No\n",
       "2     2EYES 2013-07-20  SidusHQ        4            5     No\n",
       "3      2NE1 2009-05-06       YG        4            4     No\n",
       "4       3YE 2019-05-21       GH        3            3    Yes"
      ]
     },
     "execution_count": 19,
     "metadata": {},
     "output_type": "execute_result"
    }
   ],
   "source": [
    "gg.head() # All cleaned up"
   ]
  },
  {
   "cell_type": "markdown",
   "id": "45fc6ebc",
   "metadata": {},
   "source": [
    "## Same thing with BG dataframe"
   ]
  },
  {
   "cell_type": "markdown",
   "id": "092563fc",
   "metadata": {},
   "source": [
    "1. Dropping unwanted columns"
   ]
  },
  {
   "cell_type": "code",
   "execution_count": 20,
   "id": "cfffc0a2",
   "metadata": {},
   "outputs": [],
   "source": [
    "bg.columns\n",
    "bg.drop([\"Short\", \"Korean Name\", \"Fanclub Name\"], axis=1, inplace=True)"
   ]
  },
  {
   "cell_type": "markdown",
   "id": "0e5b4d60",
   "metadata": {},
   "source": [
    "2. Changing Debut column to datetime dtype"
   ]
  },
  {
   "cell_type": "code",
   "execution_count": 21,
   "id": "acec5ac0",
   "metadata": {},
   "outputs": [
    {
     "data": {
      "text/plain": [
       "dtype('<M8[ns]')"
      ]
     },
     "execution_count": 21,
     "metadata": {},
     "output_type": "execute_result"
    }
   ],
   "source": [
    "bg.Debut = pd.to_datetime(bg[\"Debut\"])\n",
    "bg.Debut.dtype"
   ]
  },
  {
   "cell_type": "markdown",
   "id": "468506c0",
   "metadata": {},
   "source": [
    "3. Dropping row with empty Company (row 63)"
   ]
  },
  {
   "cell_type": "code",
   "execution_count": 22,
   "id": "c56e90b7",
   "metadata": {},
   "outputs": [],
   "source": [
    "bg.drop(bg.loc[bg[\"Company\"].isna()].index, inplace=True)"
   ]
  },
  {
   "cell_type": "code",
   "execution_count": 23,
   "id": "29534162",
   "metadata": {},
   "outputs": [
    {
     "data": {
      "text/html": [
       "<div>\n",
       "<style scoped>\n",
       "    .dataframe tbody tr th:only-of-type {\n",
       "        vertical-align: middle;\n",
       "    }\n",
       "\n",
       "    .dataframe tbody tr th {\n",
       "        vertical-align: top;\n",
       "    }\n",
       "\n",
       "    .dataframe thead th {\n",
       "        text-align: right;\n",
       "    }\n",
       "</style>\n",
       "<table border=\"1\" class=\"dataframe\">\n",
       "  <thead>\n",
       "    <tr style=\"text-align: right;\">\n",
       "      <th></th>\n",
       "      <th>Name</th>\n",
       "      <th>Debut</th>\n",
       "      <th>Company</th>\n",
       "      <th>Members</th>\n",
       "      <th>Orig. Memb.</th>\n",
       "      <th>Active</th>\n",
       "    </tr>\n",
       "  </thead>\n",
       "  <tbody>\n",
       "    <tr>\n",
       "      <th>0</th>\n",
       "      <td>100%</td>\n",
       "      <td>2012-09-18</td>\n",
       "      <td>TOP Media</td>\n",
       "      <td>4</td>\n",
       "      <td>7</td>\n",
       "      <td>Yes</td>\n",
       "    </tr>\n",
       "    <tr>\n",
       "      <th>1</th>\n",
       "      <td>14U</td>\n",
       "      <td>2017-04-17</td>\n",
       "      <td>BG</td>\n",
       "      <td>14</td>\n",
       "      <td>14</td>\n",
       "      <td>Yes</td>\n",
       "    </tr>\n",
       "    <tr>\n",
       "      <th>2</th>\n",
       "      <td>1the9</td>\n",
       "      <td>2019-02-09</td>\n",
       "      <td>MBK</td>\n",
       "      <td>9</td>\n",
       "      <td>9</td>\n",
       "      <td>Yes</td>\n",
       "    </tr>\n",
       "    <tr>\n",
       "      <th>3</th>\n",
       "      <td>24K</td>\n",
       "      <td>2012-09-06</td>\n",
       "      <td>Choeun</td>\n",
       "      <td>8</td>\n",
       "      <td>6</td>\n",
       "      <td>Yes</td>\n",
       "    </tr>\n",
       "    <tr>\n",
       "      <th>4</th>\n",
       "      <td>2AM</td>\n",
       "      <td>2008-06-21</td>\n",
       "      <td>JYP, Big Hit</td>\n",
       "      <td>4</td>\n",
       "      <td>4</td>\n",
       "      <td>No</td>\n",
       "    </tr>\n",
       "  </tbody>\n",
       "</table>\n",
       "</div>"
      ],
      "text/plain": [
       "    Name      Debut       Company  Members  Orig. Memb. Active\n",
       "0   100% 2012-09-18     TOP Media        4            7    Yes\n",
       "1    14U 2017-04-17            BG       14           14    Yes\n",
       "2  1the9 2019-02-09           MBK        9            9    Yes\n",
       "3    24K 2012-09-06        Choeun        8            6    Yes\n",
       "4    2AM 2008-06-21  JYP, Big Hit        4            4     No"
      ]
     },
     "execution_count": 23,
     "metadata": {},
     "output_type": "execute_result"
    }
   ],
   "source": [
    "bg.head() # All cleaned up"
   ]
  },
  {
   "cell_type": "markdown",
   "id": "e7090832",
   "metadata": {},
   "source": [
    "## Cleaning up Idols DataFrame"
   ]
  },
  {
   "cell_type": "markdown",
   "id": "95a6f57f",
   "metadata": {},
   "source": [
    "1. Dropping unwanted columns"
   ]
  },
  {
   "cell_type": "code",
   "execution_count": 24,
   "id": "be2c90ee",
   "metadata": {},
   "outputs": [
    {
     "data": {
      "text/html": [
       "<div>\n",
       "<style scoped>\n",
       "    .dataframe tbody tr th:only-of-type {\n",
       "        vertical-align: middle;\n",
       "    }\n",
       "\n",
       "    .dataframe tbody tr th {\n",
       "        vertical-align: top;\n",
       "    }\n",
       "\n",
       "    .dataframe thead th {\n",
       "        text-align: right;\n",
       "    }\n",
       "</style>\n",
       "<table border=\"1\" class=\"dataframe\">\n",
       "  <thead>\n",
       "    <tr style=\"text-align: right;\">\n",
       "      <th></th>\n",
       "      <th>Stage Name</th>\n",
       "      <th>Date of Birth</th>\n",
       "      <th>Group</th>\n",
       "      <th>Country</th>\n",
       "      <th>Birthplace</th>\n",
       "      <th>Gender</th>\n",
       "    </tr>\n",
       "  </thead>\n",
       "  <tbody>\n",
       "    <tr>\n",
       "      <th>0</th>\n",
       "      <td>A.M</td>\n",
       "      <td>1996-12-31</td>\n",
       "      <td>Limitless</td>\n",
       "      <td>South Korea</td>\n",
       "      <td>NaN</td>\n",
       "      <td>M</td>\n",
       "    </tr>\n",
       "    <tr>\n",
       "      <th>1</th>\n",
       "      <td>Ace</td>\n",
       "      <td>1992-08-28</td>\n",
       "      <td>VAV</td>\n",
       "      <td>South Korea</td>\n",
       "      <td>NaN</td>\n",
       "      <td>M</td>\n",
       "    </tr>\n",
       "    <tr>\n",
       "      <th>2</th>\n",
       "      <td>Aeji</td>\n",
       "      <td>1999-10-25</td>\n",
       "      <td>Hashtag</td>\n",
       "      <td>South Korea</td>\n",
       "      <td>Daegu</td>\n",
       "      <td>F</td>\n",
       "    </tr>\n",
       "    <tr>\n",
       "      <th>3</th>\n",
       "      <td>AhIn</td>\n",
       "      <td>1999-09-27</td>\n",
       "      <td>MOMOLAND</td>\n",
       "      <td>South Korea</td>\n",
       "      <td>Wonju</td>\n",
       "      <td>F</td>\n",
       "    </tr>\n",
       "    <tr>\n",
       "      <th>4</th>\n",
       "      <td>Ahra</td>\n",
       "      <td>2001-02-21</td>\n",
       "      <td>Favorite</td>\n",
       "      <td>South Korea</td>\n",
       "      <td>Yeosu</td>\n",
       "      <td>F</td>\n",
       "    </tr>\n",
       "  </tbody>\n",
       "</table>\n",
       "</div>"
      ],
      "text/plain": [
       "  Stage Name Date of Birth      Group      Country Birthplace Gender\n",
       "0        A.M    1996-12-31  Limitless  South Korea        NaN      M\n",
       "1        Ace    1992-08-28        VAV  South Korea        NaN      M\n",
       "2       Aeji    1999-10-25    Hashtag  South Korea      Daegu      F\n",
       "3       AhIn    1999-09-27   MOMOLAND  South Korea      Wonju      F\n",
       "4       Ahra    2001-02-21   Favorite  South Korea      Yeosu      F"
      ]
     },
     "execution_count": 24,
     "metadata": {},
     "output_type": "execute_result"
    }
   ],
   "source": [
    "idols.columns\n",
    "idols.drop([\"Full Name\", \"Korean Name\", \"K. Stage Name\", \"Other Group\"], axis=1, inplace=True)\n",
    "idols.head()"
   ]
  },
  {
   "cell_type": "markdown",
   "id": "1b74a6a1",
   "metadata": {},
   "source": [
    "2. Since I removed the \"Full Name\" column, I renamed \"Stage Name\" as just \"Name\""
   ]
  },
  {
   "cell_type": "code",
   "execution_count": 25,
   "id": "c69e4b75",
   "metadata": {},
   "outputs": [],
   "source": [
    "idols.rename(columns = {\"Stage Name\":\"Name\"}, inplace = True)"
   ]
  },
  {
   "cell_type": "markdown",
   "id": "b992ed8f",
   "metadata": {},
   "source": [
    "3. Filled in N/A rows with some info "
   ]
  },
  {
   "cell_type": "code",
   "execution_count": 26,
   "id": "f7486b40",
   "metadata": {},
   "outputs": [
    {
     "name": "stdout",
     "output_type": "stream",
     "text": [
      "<class 'pandas.core.frame.DataFrame'>\n",
      "RangeIndex: 1310 entries, 0 to 1309\n",
      "Data columns (total 6 columns):\n",
      " #   Column         Non-Null Count  Dtype \n",
      "---  ------         --------------  ----- \n",
      " 0   Name           1310 non-null   object\n",
      " 1   Date of Birth  1310 non-null   object\n",
      " 2   Group          1310 non-null   object\n",
      " 3   Country        1310 non-null   object\n",
      " 4   Birthplace     1310 non-null   object\n",
      " 5   Gender         1310 non-null   object\n",
      "dtypes: object(6)\n",
      "memory usage: 61.5+ KB\n"
     ]
    }
   ],
   "source": [
    "idols[\"Group\"] = idols[\"Group\"].fillna(\"N/A\")\n",
    "idols[\"Birthplace\"] = idols[\"Birthplace\"].fillna(\"Unknown\")\n",
    "\n",
    "idols.info() # No more missing values"
   ]
  },
  {
   "cell_type": "code",
   "execution_count": 27,
   "id": "b6c6c481",
   "metadata": {},
   "outputs": [
    {
     "data": {
      "text/html": [
       "<div>\n",
       "<style scoped>\n",
       "    .dataframe tbody tr th:only-of-type {\n",
       "        vertical-align: middle;\n",
       "    }\n",
       "\n",
       "    .dataframe tbody tr th {\n",
       "        vertical-align: top;\n",
       "    }\n",
       "\n",
       "    .dataframe thead th {\n",
       "        text-align: right;\n",
       "    }\n",
       "</style>\n",
       "<table border=\"1\" class=\"dataframe\">\n",
       "  <thead>\n",
       "    <tr style=\"text-align: right;\">\n",
       "      <th></th>\n",
       "      <th>Name</th>\n",
       "      <th>Date of Birth</th>\n",
       "      <th>Group</th>\n",
       "      <th>Country</th>\n",
       "      <th>Birthplace</th>\n",
       "      <th>Gender</th>\n",
       "    </tr>\n",
       "  </thead>\n",
       "  <tbody>\n",
       "    <tr>\n",
       "      <th>0</th>\n",
       "      <td>A.M</td>\n",
       "      <td>1996-12-31</td>\n",
       "      <td>Limitless</td>\n",
       "      <td>South Korea</td>\n",
       "      <td>Unknown</td>\n",
       "      <td>M</td>\n",
       "    </tr>\n",
       "    <tr>\n",
       "      <th>1</th>\n",
       "      <td>Ace</td>\n",
       "      <td>1992-08-28</td>\n",
       "      <td>VAV</td>\n",
       "      <td>South Korea</td>\n",
       "      <td>Unknown</td>\n",
       "      <td>M</td>\n",
       "    </tr>\n",
       "    <tr>\n",
       "      <th>2</th>\n",
       "      <td>Aeji</td>\n",
       "      <td>1999-10-25</td>\n",
       "      <td>Hashtag</td>\n",
       "      <td>South Korea</td>\n",
       "      <td>Daegu</td>\n",
       "      <td>F</td>\n",
       "    </tr>\n",
       "    <tr>\n",
       "      <th>3</th>\n",
       "      <td>AhIn</td>\n",
       "      <td>1999-09-27</td>\n",
       "      <td>MOMOLAND</td>\n",
       "      <td>South Korea</td>\n",
       "      <td>Wonju</td>\n",
       "      <td>F</td>\n",
       "    </tr>\n",
       "    <tr>\n",
       "      <th>4</th>\n",
       "      <td>Ahra</td>\n",
       "      <td>2001-02-21</td>\n",
       "      <td>Favorite</td>\n",
       "      <td>South Korea</td>\n",
       "      <td>Yeosu</td>\n",
       "      <td>F</td>\n",
       "    </tr>\n",
       "  </tbody>\n",
       "</table>\n",
       "</div>"
      ],
      "text/plain": [
       "   Name Date of Birth      Group      Country Birthplace Gender\n",
       "0   A.M    1996-12-31  Limitless  South Korea    Unknown      M\n",
       "1   Ace    1992-08-28        VAV  South Korea    Unknown      M\n",
       "2  Aeji    1999-10-25    Hashtag  South Korea      Daegu      F\n",
       "3  AhIn    1999-09-27   MOMOLAND  South Korea      Wonju      F\n",
       "4  Ahra    2001-02-21   Favorite  South Korea      Yeosu      F"
      ]
     },
     "execution_count": 27,
     "metadata": {},
     "output_type": "execute_result"
    }
   ],
   "source": [
    "idols.head() # All cleaned up"
   ]
  },
  {
   "cell_type": "markdown",
   "id": "da38087c",
   "metadata": {},
   "source": [
    "# Merging DataFrames"
   ]
  },
  {
   "cell_type": "markdown",
   "id": "941c9b62",
   "metadata": {},
   "source": [
    "## Female Idols and their Groups"
   ]
  },
  {
   "cell_type": "markdown",
   "id": "22806feb",
   "metadata": {},
   "source": [
    "1. Merging Female Idols from Idols dframe to GG dframe"
   ]
  },
  {
   "cell_type": "code",
   "execution_count": 50,
   "id": "ae09a450",
   "metadata": {
    "scrolled": true
   },
   "outputs": [],
   "source": [
    "f_idols_n_groups = idols.merge(gg, how=\"left\", left_on=\"Group\", right_on=\"Name\", suffixes=[\"_Idol\", \"_Group\"])"
   ]
  },
  {
   "cell_type": "code",
   "execution_count": 51,
   "id": "a48c628e",
   "metadata": {},
   "outputs": [],
   "source": [
    "# Dropping Male idols\n",
    "f_idols_n_groups.drop(f_idols_n_groups[f_idols_n_groups[\"Gender\"] == \"M\"].index, inplace=True)"
   ]
  },
  {
   "cell_type": "code",
   "execution_count": 52,
   "id": "731f3f91",
   "metadata": {},
   "outputs": [
    {
     "data": {
      "text/html": [
       "<div>\n",
       "<style scoped>\n",
       "    .dataframe tbody tr th:only-of-type {\n",
       "        vertical-align: middle;\n",
       "    }\n",
       "\n",
       "    .dataframe tbody tr th {\n",
       "        vertical-align: top;\n",
       "    }\n",
       "\n",
       "    .dataframe thead th {\n",
       "        text-align: right;\n",
       "    }\n",
       "</style>\n",
       "<table border=\"1\" class=\"dataframe\">\n",
       "  <thead>\n",
       "    <tr style=\"text-align: right;\">\n",
       "      <th></th>\n",
       "      <th>Name_Idol</th>\n",
       "      <th>Date of Birth</th>\n",
       "      <th>Group</th>\n",
       "      <th>Country</th>\n",
       "      <th>Birthplace</th>\n",
       "      <th>Gender</th>\n",
       "      <th>Name_Group</th>\n",
       "      <th>Debut</th>\n",
       "      <th>Company</th>\n",
       "      <th>Members</th>\n",
       "      <th>Orig. Memb.</th>\n",
       "      <th>Active</th>\n",
       "    </tr>\n",
       "  </thead>\n",
       "  <tbody>\n",
       "    <tr>\n",
       "      <th>2</th>\n",
       "      <td>Aeji</td>\n",
       "      <td>1999-10-25</td>\n",
       "      <td>Hashtag</td>\n",
       "      <td>South Korea</td>\n",
       "      <td>Daegu</td>\n",
       "      <td>F</td>\n",
       "      <td>NaN</td>\n",
       "      <td>NaT</td>\n",
       "      <td>NaN</td>\n",
       "      <td>NaN</td>\n",
       "      <td>NaN</td>\n",
       "      <td>NaN</td>\n",
       "    </tr>\n",
       "    <tr>\n",
       "      <th>3</th>\n",
       "      <td>AhIn</td>\n",
       "      <td>1999-09-27</td>\n",
       "      <td>MOMOLAND</td>\n",
       "      <td>South Korea</td>\n",
       "      <td>Wonju</td>\n",
       "      <td>F</td>\n",
       "      <td>NaN</td>\n",
       "      <td>NaT</td>\n",
       "      <td>NaN</td>\n",
       "      <td>NaN</td>\n",
       "      <td>NaN</td>\n",
       "      <td>NaN</td>\n",
       "    </tr>\n",
       "    <tr>\n",
       "      <th>4</th>\n",
       "      <td>Ahra</td>\n",
       "      <td>2001-02-21</td>\n",
       "      <td>Favorite</td>\n",
       "      <td>South Korea</td>\n",
       "      <td>Yeosu</td>\n",
       "      <td>F</td>\n",
       "      <td>Favorite</td>\n",
       "      <td>2017-07-05</td>\n",
       "      <td>Astory</td>\n",
       "      <td>6.0</td>\n",
       "      <td>6.0</td>\n",
       "      <td>Yes</td>\n",
       "    </tr>\n",
       "    <tr>\n",
       "      <th>5</th>\n",
       "      <td>Ahyoung</td>\n",
       "      <td>1991-05-26</td>\n",
       "      <td>Dal Shabet</td>\n",
       "      <td>South Korea</td>\n",
       "      <td>Seoul</td>\n",
       "      <td>F</td>\n",
       "      <td>Dal Shabet</td>\n",
       "      <td>2011-01-03</td>\n",
       "      <td>Happy Face</td>\n",
       "      <td>4.0</td>\n",
       "      <td>6.0</td>\n",
       "      <td>Hiatus</td>\n",
       "    </tr>\n",
       "    <tr>\n",
       "      <th>6</th>\n",
       "      <td>Ahyung</td>\n",
       "      <td>1996-08-27</td>\n",
       "      <td>P.O.P</td>\n",
       "      <td>South Korea</td>\n",
       "      <td>Pohang</td>\n",
       "      <td>F</td>\n",
       "      <td>P.O.P</td>\n",
       "      <td>2017-07-26</td>\n",
       "      <td>DWM</td>\n",
       "      <td>6.0</td>\n",
       "      <td>6.0</td>\n",
       "      <td>Yes</td>\n",
       "    </tr>\n",
       "  </tbody>\n",
       "</table>\n",
       "</div>"
      ],
      "text/plain": [
       "  Name_Idol Date of Birth       Group      Country Birthplace Gender  \\\n",
       "2      Aeji    1999-10-25     Hashtag  South Korea      Daegu      F   \n",
       "3      AhIn    1999-09-27    MOMOLAND  South Korea      Wonju      F   \n",
       "4      Ahra    2001-02-21    Favorite  South Korea      Yeosu      F   \n",
       "5   Ahyoung    1991-05-26  Dal Shabet  South Korea      Seoul      F   \n",
       "6    Ahyung    1996-08-27       P.O.P  South Korea     Pohang      F   \n",
       "\n",
       "   Name_Group      Debut     Company  Members  Orig. Memb.  Active  \n",
       "2         NaN        NaT         NaN      NaN          NaN     NaN  \n",
       "3         NaN        NaT         NaN      NaN          NaN     NaN  \n",
       "4    Favorite 2017-07-05      Astory      6.0          6.0     Yes  \n",
       "5  Dal Shabet 2011-01-03  Happy Face      4.0          6.0  Hiatus  \n",
       "6       P.O.P 2017-07-26         DWM      6.0          6.0     Yes  "
      ]
     },
     "execution_count": 52,
     "metadata": {},
     "output_type": "execute_result"
    }
   ],
   "source": [
    "f_idols_n_groups.head()"
   ]
  },
  {
   "cell_type": "code",
   "execution_count": 65,
   "id": "8416d7fa",
   "metadata": {},
   "outputs": [
    {
     "name": "stdout",
     "output_type": "stream",
     "text": [
      "<class 'pandas.core.frame.DataFrame'>\n",
      "Int64Index: 634 entries, 2 to 1309\n",
      "Data columns (total 12 columns):\n",
      " #   Column         Non-Null Count  Dtype         \n",
      "---  ------         --------------  -----         \n",
      " 0   Name_Idol      634 non-null    object        \n",
      " 1   Date of Birth  634 non-null    object        \n",
      " 2   Group          634 non-null    object        \n",
      " 3   Country        634 non-null    object        \n",
      " 4   Birthplace     634 non-null    object        \n",
      " 5   Gender         634 non-null    object        \n",
      " 6   Name_Group     381 non-null    object        \n",
      " 7   Debut          381 non-null    datetime64[ns]\n",
      " 8   Company        381 non-null    object        \n",
      " 9   Members        381 non-null    float64       \n",
      " 10  Orig. Memb.    381 non-null    float64       \n",
      " 11  Active         381 non-null    object        \n",
      "dtypes: datetime64[ns](1), float64(2), object(9)\n",
      "memory usage: 80.6+ KB\n"
     ]
    }
   ],
   "source": [
    "f_idols_n_groups.info() # Over 200 missing rows / Soloists in the GG dataframe"
   ]
  },
  {
   "cell_type": "markdown",
   "id": "9d8d1b16",
   "metadata": {},
   "source": [
    "## Male Idols and their Groups"
   ]
  },
  {
   "cell_type": "markdown",
   "id": "39c6cf71",
   "metadata": {},
   "source": [
    "2. Merging the remaining idols with Boy Groups Dataframe"
   ]
  },
  {
   "cell_type": "code",
   "execution_count": 60,
   "id": "3801d591",
   "metadata": {},
   "outputs": [],
   "source": [
    "m_idols_n_groups = idols.merge(bg, how=\"left\", left_on=\"Group\", right_on=\"Name\", suffixes=[\"_Idol\", \"_Group\"])"
   ]
  },
  {
   "cell_type": "code",
   "execution_count": 61,
   "id": "0b586158",
   "metadata": {},
   "outputs": [],
   "source": [
    "m_idols_n_groups.drop(m_idols_n_groups[m_idols_n_groups[\"Gender\"] == \"F\"].index, inplace=True)"
   ]
  },
  {
   "cell_type": "code",
   "execution_count": 62,
   "id": "4cd35210",
   "metadata": {},
   "outputs": [
    {
     "data": {
      "text/html": [
       "<div>\n",
       "<style scoped>\n",
       "    .dataframe tbody tr th:only-of-type {\n",
       "        vertical-align: middle;\n",
       "    }\n",
       "\n",
       "    .dataframe tbody tr th {\n",
       "        vertical-align: top;\n",
       "    }\n",
       "\n",
       "    .dataframe thead th {\n",
       "        text-align: right;\n",
       "    }\n",
       "</style>\n",
       "<table border=\"1\" class=\"dataframe\">\n",
       "  <thead>\n",
       "    <tr style=\"text-align: right;\">\n",
       "      <th></th>\n",
       "      <th>Name_Idol</th>\n",
       "      <th>Date of Birth</th>\n",
       "      <th>Group</th>\n",
       "      <th>Country</th>\n",
       "      <th>Birthplace</th>\n",
       "      <th>Gender</th>\n",
       "      <th>Name_Group</th>\n",
       "      <th>Debut</th>\n",
       "      <th>Company</th>\n",
       "      <th>Members</th>\n",
       "      <th>Orig. Memb.</th>\n",
       "      <th>Active</th>\n",
       "    </tr>\n",
       "  </thead>\n",
       "  <tbody>\n",
       "    <tr>\n",
       "      <th>0</th>\n",
       "      <td>A.M</td>\n",
       "      <td>1996-12-31</td>\n",
       "      <td>Limitless</td>\n",
       "      <td>South Korea</td>\n",
       "      <td>Unknown</td>\n",
       "      <td>M</td>\n",
       "      <td>Limitless</td>\n",
       "      <td>2019-07-09</td>\n",
       "      <td>ONO</td>\n",
       "      <td>4.0</td>\n",
       "      <td>4.0</td>\n",
       "      <td>Yes</td>\n",
       "    </tr>\n",
       "    <tr>\n",
       "      <th>1</th>\n",
       "      <td>Ace</td>\n",
       "      <td>1992-08-28</td>\n",
       "      <td>VAV</td>\n",
       "      <td>South Korea</td>\n",
       "      <td>Unknown</td>\n",
       "      <td>M</td>\n",
       "      <td>VAV</td>\n",
       "      <td>2015-10-31</td>\n",
       "      <td>A team</td>\n",
       "      <td>7.0</td>\n",
       "      <td>6.0</td>\n",
       "      <td>Yes</td>\n",
       "    </tr>\n",
       "    <tr>\n",
       "      <th>12</th>\n",
       "      <td>Allen</td>\n",
       "      <td>1999-04-26</td>\n",
       "      <td>CRAVITY</td>\n",
       "      <td>USA</td>\n",
       "      <td>Unknown</td>\n",
       "      <td>M</td>\n",
       "      <td>CRAVITY</td>\n",
       "      <td>2020-04-04</td>\n",
       "      <td>Starship</td>\n",
       "      <td>9.0</td>\n",
       "      <td>9.0</td>\n",
       "      <td>Yes</td>\n",
       "    </tr>\n",
       "    <tr>\n",
       "      <th>15</th>\n",
       "      <td>Anthony</td>\n",
       "      <td>1998-03-12</td>\n",
       "      <td>VARSITY</td>\n",
       "      <td>China</td>\n",
       "      <td>Unknown</td>\n",
       "      <td>M</td>\n",
       "      <td>NaN</td>\n",
       "      <td>NaT</td>\n",
       "      <td>NaN</td>\n",
       "      <td>NaN</td>\n",
       "      <td>NaN</td>\n",
       "      <td>NaN</td>\n",
       "    </tr>\n",
       "    <tr>\n",
       "      <th>22</th>\n",
       "      <td>Aron</td>\n",
       "      <td>1993-05-21</td>\n",
       "      <td>NU'EST</td>\n",
       "      <td>South Korea</td>\n",
       "      <td>California</td>\n",
       "      <td>M</td>\n",
       "      <td>NU'EST</td>\n",
       "      <td>2012-03-15</td>\n",
       "      <td>Pledis</td>\n",
       "      <td>5.0</td>\n",
       "      <td>5.0</td>\n",
       "      <td>Yes</td>\n",
       "    </tr>\n",
       "  </tbody>\n",
       "</table>\n",
       "</div>"
      ],
      "text/plain": [
       "   Name_Idol Date of Birth      Group      Country  Birthplace Gender  \\\n",
       "0        A.M    1996-12-31  Limitless  South Korea     Unknown      M   \n",
       "1        Ace    1992-08-28        VAV  South Korea     Unknown      M   \n",
       "12     Allen    1999-04-26    CRAVITY          USA     Unknown      M   \n",
       "15   Anthony    1998-03-12    VARSITY        China     Unknown      M   \n",
       "22      Aron    1993-05-21     NU'EST  South Korea  California      M   \n",
       "\n",
       "   Name_Group      Debut   Company  Members  Orig. Memb. Active  \n",
       "0   Limitless 2019-07-09       ONO      4.0          4.0    Yes  \n",
       "1         VAV 2015-10-31    A team      7.0          6.0    Yes  \n",
       "12    CRAVITY 2020-04-04  Starship      9.0          9.0    Yes  \n",
       "15        NaN        NaT       NaN      NaN          NaN    NaN  \n",
       "22     NU'EST 2012-03-15    Pledis      5.0          5.0    Yes  "
      ]
     },
     "execution_count": 62,
     "metadata": {},
     "output_type": "execute_result"
    }
   ],
   "source": [
    "m_idols_n_groups.head()"
   ]
  },
  {
   "cell_type": "code",
   "execution_count": 64,
   "id": "ce8ccfb8",
   "metadata": {},
   "outputs": [
    {
     "name": "stdout",
     "output_type": "stream",
     "text": [
      "<class 'pandas.core.frame.DataFrame'>\n",
      "Int64Index: 676 entries, 0 to 1308\n",
      "Data columns (total 12 columns):\n",
      " #   Column         Non-Null Count  Dtype         \n",
      "---  ------         --------------  -----         \n",
      " 0   Name_Idol      676 non-null    object        \n",
      " 1   Date of Birth  676 non-null    object        \n",
      " 2   Group          676 non-null    object        \n",
      " 3   Country        676 non-null    object        \n",
      " 4   Birthplace     676 non-null    object        \n",
      " 5   Gender         676 non-null    object        \n",
      " 6   Name_Group     465 non-null    object        \n",
      " 7   Debut          465 non-null    datetime64[ns]\n",
      " 8   Company        465 non-null    object        \n",
      " 9   Members        465 non-null    float64       \n",
      " 10  Orig. Memb.    465 non-null    float64       \n",
      " 11  Active         465 non-null    object        \n",
      "dtypes: datetime64[ns](1), float64(2), object(9)\n",
      "memory usage: 68.7+ KB\n"
     ]
    }
   ],
   "source": [
    "m_idols_n_groups.info() # 200 missing rows / Soloists in the BG dataframe"
   ]
  },
  {
   "cell_type": "markdown",
   "id": "7f2d57e6",
   "metadata": {},
   "source": [
    "# Gathering Insights & Visualizations!!!!"
   ]
  },
  {
   "cell_type": "markdown",
   "id": "fdb897bc",
   "metadata": {},
   "source": [
    "## Music Videos:"
   ]
  },
  {
   "cell_type": "markdown",
   "id": "b8ae3478",
   "metadata": {},
   "source": [
    "Number of mvs release every year:"
   ]
  },
  {
   "cell_type": "code",
   "execution_count": 79,
   "id": "562bd337",
   "metadata": {},
   "outputs": [
    {
     "data": {
      "text/html": [
       "<div>\n",
       "<style scoped>\n",
       "    .dataframe tbody tr th:only-of-type {\n",
       "        vertical-align: middle;\n",
       "    }\n",
       "\n",
       "    .dataframe tbody tr th {\n",
       "        vertical-align: top;\n",
       "    }\n",
       "\n",
       "    .dataframe thead th {\n",
       "        text-align: right;\n",
       "    }\n",
       "</style>\n",
       "<table border=\"1\" class=\"dataframe\">\n",
       "  <thead>\n",
       "    <tr style=\"text-align: right;\">\n",
       "      <th></th>\n",
       "      <th>Date</th>\n",
       "      <th>Artist</th>\n",
       "      <th>Song Name</th>\n",
       "      <th>Type</th>\n",
       "      <th>Release</th>\n",
       "      <th>Year</th>\n",
       "    </tr>\n",
       "  </thead>\n",
       "  <tbody>\n",
       "    <tr>\n",
       "      <th>0</th>\n",
       "      <td>2020-05-22</td>\n",
       "      <td>Agust D</td>\n",
       "      <td>Daechwita</td>\n",
       "      <td>Boy Solo</td>\n",
       "      <td>Major</td>\n",
       "      <td>2020</td>\n",
       "    </tr>\n",
       "    <tr>\n",
       "      <th>1</th>\n",
       "      <td>2020-05-21</td>\n",
       "      <td>Yubin</td>\n",
       "      <td>yaya (Me Time)</td>\n",
       "      <td>Girl Solo</td>\n",
       "      <td>Major</td>\n",
       "      <td>2020</td>\n",
       "    </tr>\n",
       "    <tr>\n",
       "      <th>2</th>\n",
       "      <td>2020-05-21</td>\n",
       "      <td>OnlyOneOf</td>\n",
       "      <td>Angel (prod. GRAY)</td>\n",
       "      <td>Boy</td>\n",
       "      <td>Major</td>\n",
       "      <td>2020</td>\n",
       "    </tr>\n",
       "    <tr>\n",
       "      <th>3</th>\n",
       "      <td>2020-05-20</td>\n",
       "      <td>Ryu Sujeong</td>\n",
       "      <td>Tiger Eyes</td>\n",
       "      <td>Girl Solo</td>\n",
       "      <td>Major</td>\n",
       "      <td>2020</td>\n",
       "    </tr>\n",
       "    <tr>\n",
       "      <th>4</th>\n",
       "      <td>2020-05-20</td>\n",
       "      <td>Crush</td>\n",
       "      <td>Mayday feat. Joy (Red Velvet)</td>\n",
       "      <td>Boy Solo</td>\n",
       "      <td>Major</td>\n",
       "      <td>2020</td>\n",
       "    </tr>\n",
       "  </tbody>\n",
       "</table>\n",
       "</div>"
      ],
      "text/plain": [
       "        Date       Artist                      Song Name       Type Release  \\\n",
       "0 2020-05-22      Agust D                      Daechwita   Boy Solo   Major   \n",
       "1 2020-05-21        Yubin                 yaya (Me Time)  Girl Solo   Major   \n",
       "2 2020-05-21    OnlyOneOf             Angel (prod. GRAY)        Boy   Major   \n",
       "3 2020-05-20  Ryu Sujeong                     Tiger Eyes  Girl Solo   Major   \n",
       "4 2020-05-20        Crush  Mayday feat. Joy (Red Velvet)   Boy Solo   Major   \n",
       "\n",
       "   Year  \n",
       "0  2020  \n",
       "1  2020  \n",
       "2  2020  \n",
       "3  2020  \n",
       "4  2020  "
      ]
     },
     "execution_count": 79,
     "metadata": {},
     "output_type": "execute_result"
    }
   ],
   "source": [
    "mv.head()"
   ]
  },
  {
   "cell_type": "code",
   "execution_count": 110,
   "id": "211c7b65",
   "metadata": {},
   "outputs": [
    {
     "data": {
      "text/plain": [
       "Year\n",
       "1992      2\n",
       "1993      2\n",
       "1994      2\n",
       "1995      5\n",
       "1996      3\n",
       "1997      3\n",
       "1998      4\n",
       "1999      9\n",
       "2000      4\n",
       "2001      5\n",
       "2002      3\n",
       "2003      6\n",
       "2004     29\n",
       "2005     21\n",
       "2006     27\n",
       "2007     44\n",
       "2008     70\n",
       "2009     85\n",
       "2010    108\n",
       "2011    169\n",
       "2012    245\n",
       "2013    273\n",
       "2014    310\n",
       "2015    316\n",
       "2016    373\n",
       "2017    470\n",
       "2018    500\n",
       "2019    503\n",
       "2020    167\n",
       "Name: Song Name, dtype: int64"
      ]
     },
     "execution_count": 110,
     "metadata": {},
     "output_type": "execute_result"
    },
    {
     "data": {
      "image/png": "[encoded data removed]",
      "text/plain": [
       "<Figure size 460.8x403.2 with 1 Axes>"
      ]
     },
     "metadata": {},
     "output_type": "display_data"
    }
   ],
   "source": [
    "mv[\"Year\"] = mv[\"Date\"].dt.year # Creating new year column\n",
    "mv_by_year = mv.groupby(\"Year\")[\"Song Name\"].count() # Grouping MVs by year, then getting the total count\n",
    "\n",
    "plt.title(\"Kpop MVs releaesed by year\")\n",
    "plt.xlabel(\"Year\")\n",
    "plt.ylabel(\"Count of MVs\") \n",
    "mv_by_year.plot.line()\n",
    "\n",
    "mv_by_year"
   ]
  },
  {
   "cell_type": "code",
   "execution_count": null,
   "id": "e9a83bc4",
   "metadata": {},
   "outputs": [],
   "source": []
  },
  {
   "cell_type": "code",
   "execution_count": null,
   "id": "2703e797",
   "metadata": {},
   "outputs": [],
   "source": []
  }
 ],
 "metadata": {
  "kernelspec": {
   "display_name": "Python 3 (ipykernel)",
   "language": "python",
   "name": "python3"
  },
  "language_info": {
   "codemirror_mode": {
    "name": "ipython",
    "version": 3
   },
   "file_extension": ".py",
   "mimetype": "text/x-python",
   "name": "python",
   "nbconvert_exporter": "python",
   "pygments_lexer": "ipython3",
   "version": "3.9.7"
  }
 },
 "nbformat": 4,
 "nbformat_minor": 5
}
