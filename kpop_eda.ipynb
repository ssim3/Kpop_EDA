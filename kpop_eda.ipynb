{
 "cells": [
  {
   "cell_type": "markdown",
   "id": "8a83952a",
   "metadata": {},
   "source": [
    "# K-Pop Exploratory Data Analysis"
   ]
  },
  {
   "cell_type": "markdown",
   "id": "e6e61666",
   "metadata": {},
   "source": [
    "## Author: https://github.com/ssim3"
   ]
  },
  {
   "cell_type": "markdown",
   "id": "28913858",
   "metadata": {},
   "source": [
    "4 csv files and what their columns mean: <br><br>\n",
    "\n",
    "\n",
    "- kpop_music_videos.csv:\n",
    "\n",
    "    - Date - Release date of the Music Video <br>\n",
    "    - Artist - The Artist <br>\n",
    "    - Song Name - Title of the Music Video <br>\n",
    "    - Korean Name - Korean Title of the MV <br>\n",
    "    - Director - Director of the music video <br>\n",
    "    - Video - URL to the MV <br>\n",
    "    - Type - Genre of the Music Video <br>\n",
    "    - Release - Major / Minor / Japanese Release <br>\n",
    "\n",
    "<br>\n",
    "\n",
    "- kpop_idols_girl_groups.csv:\n",
    "\n",
    "    - Name - Name of the girl group <br>\n",
    "    - Short - Short Name of the girl group <br>\n",
    "    - Korean Name - Korean Name of the girl group <br>\n",
    "    - Debut - When the girl group Debuted <br>\n",
    "    - Company - Company the girl group is under <br>\n",
    "    - Members - No. of members in the GG <br>\n",
    "    - Fanclub Name - Fanclub Name of the GG <br>\n",
    "    - Active - Is the GG active? <br>\n",
    "\n",
    "<br>\n",
    "\n",
    "- kpop_idols_boy_groups.csv:\n",
    "    - Name - Name of the boy group <br>\n",
    "    - Short - Short Name of the boy group <br>\n",
    "    - Korean Name - Korean Name of the boy group <br>\n",
    "    - Debut - When the boy group Debuted <br>\n",
    "    - Company - Company the boy group is under <br>\n",
    "    - Members - No. of members in the BG <br>\n",
    "    - Fanclub Name - Fanclub Name of the BG <br>\n",
    "    - Active - Is the BG active? <br>\n",
    "    \n",
    "<br>\n",
    "\n",
    "- kpop_idols.csv\n",
    "    - Stage Name - Idol's stage name\n",
    "    - Full Name - Idol's Full Name\n",
    "    - Korean Name - Idol's Korean Name\n",
    "    - K. Stage Name - Idol's Korean Stage Name\n",
    "    - Date of Birth - Idol's DoB\n",
    "    - Group - Group the Idol is from\n",
    "    - Country - Where the idol operates\n",
    "    - Birthplace - Idol's Origin Country\n",
    "    - Other Group - Other groups the Idol belongs to\n",
    "    - Gender - Idol's Gender\n",
    "\n"
   ]
  },
  {
   "cell_type": "code",
   "execution_count": 2,
   "id": "bb6c83a5",
   "metadata": {},
   "outputs": [],
   "source": [
    "import pandas as pd\n",
    "import numpy as np\n",
    "import matplotlib.pyplot as plt\n",
    "from jupyterthemes import jtplot\n",
    "import datetime"
   ]
  },
  {
   "cell_type": "code",
   "execution_count": 3,
   "id": "b0d65dc0",
   "metadata": {},
   "outputs": [],
   "source": [
    "!jt -f ubuntu\n",
    "jtplot.style(theme=\"solarizedd\")"
   ]
  },
  {
   "cell_type": "markdown",
   "id": "ee5b5a15",
   "metadata": {},
   "source": [
    "# Importing datasets"
   ]
  },
  {
   "cell_type": "code",
   "execution_count": 4,
   "id": "1e6f6427",
   "metadata": {},
   "outputs": [],
   "source": [
    "mv = pd.read_csv(\"kpop_music_videos.csv\")\n",
    "gg = pd.read_csv(\"kpop_idols_girl_groups.csv\")\n",
    "bg = pd.read_csv(\"kpop_idols_boy_groups.csv\")\n",
    "idols = pd.read_csv(\"kpop_idols.csv\")"
   ]
  },
  {
   "cell_type": "code",
   "execution_count": 5,
   "id": "f6dc4d4d",
   "metadata": {},
   "outputs": [
    {
     "data": {
      "text/html": [
       "<div>\n",
       "<style scoped>\n",
       "    .dataframe tbody tr th:only-of-type {\n",
       "        vertical-align: middle;\n",
       "    }\n",
       "\n",
       "    .dataframe tbody tr th {\n",
       "        vertical-align: top;\n",
       "    }\n",
       "\n",
       "    .dataframe thead th {\n",
       "        text-align: right;\n",
       "    }\n",
       "</style>\n",
       "<table border=\"1\" class=\"dataframe\">\n",
       "  <thead>\n",
       "    <tr style=\"text-align: right;\">\n",
       "      <th></th>\n",
       "      <th>Date</th>\n",
       "      <th>Artist</th>\n",
       "      <th>Song Name</th>\n",
       "      <th>Korean Name</th>\n",
       "      <th>Director</th>\n",
       "      <th>Video</th>\n",
       "      <th>Type</th>\n",
       "      <th>Release</th>\n",
       "    </tr>\n",
       "  </thead>\n",
       "  <tbody>\n",
       "    <tr>\n",
       "      <th>0</th>\n",
       "      <td>2020-05-22</td>\n",
       "      <td>Agust D</td>\n",
       "      <td>Daechwita</td>\n",
       "      <td>대취타</td>\n",
       "      <td>NaN</td>\n",
       "      <td>https://youtu.be/qGjAWJ2zWWI</td>\n",
       "      <td>Boy Solo</td>\n",
       "      <td>Major</td>\n",
       "    </tr>\n",
       "    <tr>\n",
       "      <th>1</th>\n",
       "      <td>2020-05-21</td>\n",
       "      <td>Yubin</td>\n",
       "      <td>yaya (Me Time)</td>\n",
       "      <td>넵넵</td>\n",
       "      <td>NaN</td>\n",
       "      <td>https://youtu.be/BJD0arHF_5c</td>\n",
       "      <td>Girl Solo</td>\n",
       "      <td>Major</td>\n",
       "    </tr>\n",
       "    <tr>\n",
       "      <th>2</th>\n",
       "      <td>2020-05-21</td>\n",
       "      <td>OnlyOneOf</td>\n",
       "      <td>Angel (prod. GRAY)</td>\n",
       "      <td>NaN</td>\n",
       "      <td>NaN</td>\n",
       "      <td>https://youtu.be/vVTo8p72FxQ</td>\n",
       "      <td>Boy</td>\n",
       "      <td>Major</td>\n",
       "    </tr>\n",
       "    <tr>\n",
       "      <th>3</th>\n",
       "      <td>2020-05-20</td>\n",
       "      <td>Ryu Sujeong</td>\n",
       "      <td>Tiger Eyes</td>\n",
       "      <td>NaN</td>\n",
       "      <td>NaN</td>\n",
       "      <td>https://youtu.be/aE6curPGQRY</td>\n",
       "      <td>Girl Solo</td>\n",
       "      <td>Major</td>\n",
       "    </tr>\n",
       "    <tr>\n",
       "      <th>4</th>\n",
       "      <td>2020-05-20</td>\n",
       "      <td>Crush</td>\n",
       "      <td>Mayday feat. Joy (Red Velvet)</td>\n",
       "      <td>자나깨나</td>\n",
       "      <td>NaN</td>\n",
       "      <td>https://youtu.be/29ycT6fA-Rs</td>\n",
       "      <td>Boy Solo</td>\n",
       "      <td>Major</td>\n",
       "    </tr>\n",
       "  </tbody>\n",
       "</table>\n",
       "</div>"
      ],
      "text/plain": [
       "         Date       Artist                      Song Name Korean Name  \\\n",
       "0  2020-05-22      Agust D                      Daechwita         대취타   \n",
       "1  2020-05-21        Yubin                 yaya (Me Time)          넵넵   \n",
       "2  2020-05-21    OnlyOneOf             Angel (prod. GRAY)         NaN   \n",
       "3  2020-05-20  Ryu Sujeong                     Tiger Eyes         NaN   \n",
       "4  2020-05-20        Crush  Mayday feat. Joy (Red Velvet)        자나깨나   \n",
       "\n",
       "  Director                         Video       Type Release  \n",
       "0      NaN  https://youtu.be/qGjAWJ2zWWI   Boy Solo   Major  \n",
       "1      NaN  https://youtu.be/BJD0arHF_5c  Girl Solo   Major  \n",
       "2      NaN  https://youtu.be/vVTo8p72FxQ        Boy   Major  \n",
       "3      NaN  https://youtu.be/aE6curPGQRY  Girl Solo   Major  \n",
       "4      NaN  https://youtu.be/29ycT6fA-Rs   Boy Solo   Major  "
      ]
     },
     "execution_count": 5,
     "metadata": {},
     "output_type": "execute_result"
    }
   ],
   "source": [
    "# Music Videos\n",
    "mv.head()"
   ]
  },
  {
   "cell_type": "code",
   "execution_count": 6,
   "id": "d03f1812",
   "metadata": {},
   "outputs": [
    {
     "data": {
      "text/html": [
       "<div>\n",
       "<style scoped>\n",
       "    .dataframe tbody tr th:only-of-type {\n",
       "        vertical-align: middle;\n",
       "    }\n",
       "\n",
       "    .dataframe tbody tr th {\n",
       "        vertical-align: top;\n",
       "    }\n",
       "\n",
       "    .dataframe thead th {\n",
       "        text-align: right;\n",
       "    }\n",
       "</style>\n",
       "<table border=\"1\" class=\"dataframe\">\n",
       "  <thead>\n",
       "    <tr style=\"text-align: right;\">\n",
       "      <th></th>\n",
       "      <th>Name</th>\n",
       "      <th>Short</th>\n",
       "      <th>Korean Name</th>\n",
       "      <th>Debut</th>\n",
       "      <th>Company</th>\n",
       "      <th>Members</th>\n",
       "      <th>Orig. Memb.</th>\n",
       "      <th>Fanclub Name</th>\n",
       "      <th>Active</th>\n",
       "    </tr>\n",
       "  </thead>\n",
       "  <tbody>\n",
       "    <tr>\n",
       "      <th>0</th>\n",
       "      <td>(G)I-DLE</td>\n",
       "      <td>NaN</td>\n",
       "      <td>(여자)아이들</td>\n",
       "      <td>2018-05-02</td>\n",
       "      <td>Cube</td>\n",
       "      <td>6</td>\n",
       "      <td>6</td>\n",
       "      <td>NaN</td>\n",
       "      <td>Yes</td>\n",
       "    </tr>\n",
       "    <tr>\n",
       "      <th>1</th>\n",
       "      <td>15&amp;</td>\n",
       "      <td>NaN</td>\n",
       "      <td>피프틴앤드</td>\n",
       "      <td>2012-10-05</td>\n",
       "      <td>JYP</td>\n",
       "      <td>2</td>\n",
       "      <td>2</td>\n",
       "      <td>NaN</td>\n",
       "      <td>No</td>\n",
       "    </tr>\n",
       "    <tr>\n",
       "      <th>2</th>\n",
       "      <td>2EYES</td>\n",
       "      <td>NaN</td>\n",
       "      <td>투아이즈</td>\n",
       "      <td>2013-07-20</td>\n",
       "      <td>SidusHQ</td>\n",
       "      <td>4</td>\n",
       "      <td>5</td>\n",
       "      <td>NaN</td>\n",
       "      <td>No</td>\n",
       "    </tr>\n",
       "    <tr>\n",
       "      <th>3</th>\n",
       "      <td>2NE1</td>\n",
       "      <td>NaN</td>\n",
       "      <td>투애니원</td>\n",
       "      <td>2009-05-06</td>\n",
       "      <td>YG</td>\n",
       "      <td>4</td>\n",
       "      <td>4</td>\n",
       "      <td>Blackjack</td>\n",
       "      <td>No</td>\n",
       "    </tr>\n",
       "    <tr>\n",
       "      <th>4</th>\n",
       "      <td>3YE</td>\n",
       "      <td>NaN</td>\n",
       "      <td>써드아이</td>\n",
       "      <td>2019-05-21</td>\n",
       "      <td>GH</td>\n",
       "      <td>3</td>\n",
       "      <td>3</td>\n",
       "      <td>NaN</td>\n",
       "      <td>Yes</td>\n",
       "    </tr>\n",
       "  </tbody>\n",
       "</table>\n",
       "</div>"
      ],
      "text/plain": [
       "       Name Short Korean Name       Debut  Company  Members  Orig. Memb.  \\\n",
       "0  (G)I-DLE   NaN     (여자)아이들  2018-05-02     Cube        6            6   \n",
       "1       15&   NaN       피프틴앤드  2012-10-05      JYP        2            2   \n",
       "2     2EYES   NaN        투아이즈  2013-07-20  SidusHQ        4            5   \n",
       "3      2NE1   NaN        투애니원  2009-05-06       YG        4            4   \n",
       "4       3YE   NaN        써드아이  2019-05-21       GH        3            3   \n",
       "\n",
       "  Fanclub Name Active  \n",
       "0          NaN    Yes  \n",
       "1          NaN     No  \n",
       "2          NaN     No  \n",
       "3    Blackjack     No  \n",
       "4          NaN    Yes  "
      ]
     },
     "execution_count": 6,
     "metadata": {},
     "output_type": "execute_result"
    }
   ],
   "source": [
    "# Girl Groups\n",
    "gg.head()"
   ]
  },
  {
   "cell_type": "code",
   "execution_count": 7,
   "id": "418c443b",
   "metadata": {},
   "outputs": [
    {
     "data": {
      "text/html": [
       "<div>\n",
       "<style scoped>\n",
       "    .dataframe tbody tr th:only-of-type {\n",
       "        vertical-align: middle;\n",
       "    }\n",
       "\n",
       "    .dataframe tbody tr th {\n",
       "        vertical-align: top;\n",
       "    }\n",
       "\n",
       "    .dataframe thead th {\n",
       "        text-align: right;\n",
       "    }\n",
       "</style>\n",
       "<table border=\"1\" class=\"dataframe\">\n",
       "  <thead>\n",
       "    <tr style=\"text-align: right;\">\n",
       "      <th></th>\n",
       "      <th>Name</th>\n",
       "      <th>Short</th>\n",
       "      <th>Korean Name</th>\n",
       "      <th>Debut</th>\n",
       "      <th>Company</th>\n",
       "      <th>Members</th>\n",
       "      <th>Orig. Memb.</th>\n",
       "      <th>Fanclub Name</th>\n",
       "      <th>Active</th>\n",
       "    </tr>\n",
       "  </thead>\n",
       "  <tbody>\n",
       "    <tr>\n",
       "      <th>0</th>\n",
       "      <td>100%</td>\n",
       "      <td>NaN</td>\n",
       "      <td>백퍼센트</td>\n",
       "      <td>2012-09-18</td>\n",
       "      <td>TOP Media</td>\n",
       "      <td>4</td>\n",
       "      <td>7</td>\n",
       "      <td>Perfection</td>\n",
       "      <td>Yes</td>\n",
       "    </tr>\n",
       "    <tr>\n",
       "      <th>1</th>\n",
       "      <td>14U</td>\n",
       "      <td>NaN</td>\n",
       "      <td>원포유</td>\n",
       "      <td>2017-04-17</td>\n",
       "      <td>BG</td>\n",
       "      <td>14</td>\n",
       "      <td>14</td>\n",
       "      <td>NaN</td>\n",
       "      <td>Yes</td>\n",
       "    </tr>\n",
       "    <tr>\n",
       "      <th>2</th>\n",
       "      <td>1the9</td>\n",
       "      <td>NaN</td>\n",
       "      <td>원더나인</td>\n",
       "      <td>2019-02-09</td>\n",
       "      <td>MBK</td>\n",
       "      <td>9</td>\n",
       "      <td>9</td>\n",
       "      <td>NaN</td>\n",
       "      <td>Yes</td>\n",
       "    </tr>\n",
       "    <tr>\n",
       "      <th>3</th>\n",
       "      <td>24K</td>\n",
       "      <td>NaN</td>\n",
       "      <td>투포케이</td>\n",
       "      <td>2012-09-06</td>\n",
       "      <td>Choeun</td>\n",
       "      <td>8</td>\n",
       "      <td>6</td>\n",
       "      <td>24U</td>\n",
       "      <td>Yes</td>\n",
       "    </tr>\n",
       "    <tr>\n",
       "      <th>4</th>\n",
       "      <td>2AM</td>\n",
       "      <td>NaN</td>\n",
       "      <td>투에이엠</td>\n",
       "      <td>2008-06-21</td>\n",
       "      <td>JYP, Big Hit</td>\n",
       "      <td>4</td>\n",
       "      <td>4</td>\n",
       "      <td>I Am</td>\n",
       "      <td>No</td>\n",
       "    </tr>\n",
       "  </tbody>\n",
       "</table>\n",
       "</div>"
      ],
      "text/plain": [
       "    Name Short Korean Name       Debut       Company  Members  Orig. Memb.  \\\n",
       "0   100%   NaN        백퍼센트  2012-09-18     TOP Media        4            7   \n",
       "1    14U   NaN         원포유  2017-04-17            BG       14           14   \n",
       "2  1the9   NaN        원더나인  2019-02-09           MBK        9            9   \n",
       "3    24K   NaN        투포케이  2012-09-06        Choeun        8            6   \n",
       "4    2AM   NaN        투에이엠  2008-06-21  JYP, Big Hit        4            4   \n",
       "\n",
       "  Fanclub Name Active  \n",
       "0   Perfection    Yes  \n",
       "1          NaN    Yes  \n",
       "2          NaN    Yes  \n",
       "3          24U    Yes  \n",
       "4         I Am     No  "
      ]
     },
     "execution_count": 7,
     "metadata": {},
     "output_type": "execute_result"
    }
   ],
   "source": [
    "# Boy Groups\n",
    "bg.head()"
   ]
  },
  {
   "cell_type": "code",
   "execution_count": 8,
   "id": "a4727e83",
   "metadata": {},
   "outputs": [
    {
     "data": {
      "text/html": [
       "<div>\n",
       "<style scoped>\n",
       "    .dataframe tbody tr th:only-of-type {\n",
       "        vertical-align: middle;\n",
       "    }\n",
       "\n",
       "    .dataframe tbody tr th {\n",
       "        vertical-align: top;\n",
       "    }\n",
       "\n",
       "    .dataframe thead th {\n",
       "        text-align: right;\n",
       "    }\n",
       "</style>\n",
       "<table border=\"1\" class=\"dataframe\">\n",
       "  <thead>\n",
       "    <tr style=\"text-align: right;\">\n",
       "      <th></th>\n",
       "      <th>Stage Name</th>\n",
       "      <th>Full Name</th>\n",
       "      <th>Korean Name</th>\n",
       "      <th>K. Stage Name</th>\n",
       "      <th>Date of Birth</th>\n",
       "      <th>Group</th>\n",
       "      <th>Country</th>\n",
       "      <th>Birthplace</th>\n",
       "      <th>Other Group</th>\n",
       "      <th>Gender</th>\n",
       "    </tr>\n",
       "  </thead>\n",
       "  <tbody>\n",
       "    <tr>\n",
       "      <th>0</th>\n",
       "      <td>A.M</td>\n",
       "      <td>Seong Hyunwoo</td>\n",
       "      <td>성현우</td>\n",
       "      <td>에이엠</td>\n",
       "      <td>1996-12-31</td>\n",
       "      <td>Limitless</td>\n",
       "      <td>South Korea</td>\n",
       "      <td>NaN</td>\n",
       "      <td>NaN</td>\n",
       "      <td>M</td>\n",
       "    </tr>\n",
       "    <tr>\n",
       "      <th>1</th>\n",
       "      <td>Ace</td>\n",
       "      <td>Jang Wooyoung</td>\n",
       "      <td>장우영</td>\n",
       "      <td>에이스</td>\n",
       "      <td>1992-08-28</td>\n",
       "      <td>VAV</td>\n",
       "      <td>South Korea</td>\n",
       "      <td>NaN</td>\n",
       "      <td>NaN</td>\n",
       "      <td>M</td>\n",
       "    </tr>\n",
       "    <tr>\n",
       "      <th>2</th>\n",
       "      <td>Aeji</td>\n",
       "      <td>Kwon Aeji</td>\n",
       "      <td>권애지</td>\n",
       "      <td>애지</td>\n",
       "      <td>1999-10-25</td>\n",
       "      <td>Hashtag</td>\n",
       "      <td>South Korea</td>\n",
       "      <td>Daegu</td>\n",
       "      <td>NaN</td>\n",
       "      <td>F</td>\n",
       "    </tr>\n",
       "    <tr>\n",
       "      <th>3</th>\n",
       "      <td>AhIn</td>\n",
       "      <td>Lee Ahin</td>\n",
       "      <td>이아인</td>\n",
       "      <td>아인</td>\n",
       "      <td>1999-09-27</td>\n",
       "      <td>MOMOLAND</td>\n",
       "      <td>South Korea</td>\n",
       "      <td>Wonju</td>\n",
       "      <td>NaN</td>\n",
       "      <td>F</td>\n",
       "    </tr>\n",
       "    <tr>\n",
       "      <th>4</th>\n",
       "      <td>Ahra</td>\n",
       "      <td>Go Ahra</td>\n",
       "      <td>고아라</td>\n",
       "      <td>아라</td>\n",
       "      <td>2001-02-21</td>\n",
       "      <td>Favorite</td>\n",
       "      <td>South Korea</td>\n",
       "      <td>Yeosu</td>\n",
       "      <td>NaN</td>\n",
       "      <td>F</td>\n",
       "    </tr>\n",
       "  </tbody>\n",
       "</table>\n",
       "</div>"
      ],
      "text/plain": [
       "  Stage Name      Full Name Korean Name K. Stage Name Date of Birth  \\\n",
       "0        A.M  Seong Hyunwoo         성현우           에이엠    1996-12-31   \n",
       "1        Ace  Jang Wooyoung         장우영           에이스    1992-08-28   \n",
       "2       Aeji      Kwon Aeji         권애지            애지    1999-10-25   \n",
       "3       AhIn       Lee Ahin         이아인            아인    1999-09-27   \n",
       "4       Ahra        Go Ahra         고아라            아라    2001-02-21   \n",
       "\n",
       "       Group      Country Birthplace Other Group Gender  \n",
       "0  Limitless  South Korea        NaN         NaN      M  \n",
       "1        VAV  South Korea        NaN         NaN      M  \n",
       "2    Hashtag  South Korea      Daegu         NaN      F  \n",
       "3   MOMOLAND  South Korea      Wonju         NaN      F  \n",
       "4   Favorite  South Korea      Yeosu         NaN      F  "
      ]
     },
     "execution_count": 8,
     "metadata": {},
     "output_type": "execute_result"
    }
   ],
   "source": [
    "# idols\n",
    "idols.head()"
   ]
  },
  {
   "cell_type": "code",
   "execution_count": 9,
   "id": "18d19fdc",
   "metadata": {},
   "outputs": [
    {
     "name": "stdout",
     "output_type": "stream",
     "text": [
      "<class 'pandas.core.frame.DataFrame'>\n",
      "RangeIndex: 3772 entries, 0 to 3771\n",
      "Data columns (total 8 columns):\n",
      " #   Column       Non-Null Count  Dtype \n",
      "---  ------       --------------  ----- \n",
      " 0   Date         3772 non-null   object\n",
      " 1   Artist       3772 non-null   object\n",
      " 2   Song Name    3771 non-null   object\n",
      " 3   Korean Name  2786 non-null   object\n",
      " 4   Director     627 non-null    object\n",
      " 5   Video        3772 non-null   object\n",
      " 6   Type         3772 non-null   object\n",
      " 7   Release      3759 non-null   object\n",
      "dtypes: object(8)\n",
      "memory usage: 235.9+ KB\n"
     ]
    }
   ],
   "source": [
    "# mv information\n",
    "\n",
    "mv.info()"
   ]
  },
  {
   "cell_type": "code",
   "execution_count": 10,
   "id": "aa930cc0",
   "metadata": {},
   "outputs": [
    {
     "name": "stdout",
     "output_type": "stream",
     "text": [
      "<class 'pandas.core.frame.DataFrame'>\n",
      "RangeIndex: 152 entries, 0 to 151\n",
      "Data columns (total 9 columns):\n",
      " #   Column        Non-Null Count  Dtype \n",
      "---  ------        --------------  ----- \n",
      " 0   Name          152 non-null    object\n",
      " 1   Short         21 non-null     object\n",
      " 2   Korean Name   152 non-null    object\n",
      " 3   Debut         152 non-null    object\n",
      " 4   Company       152 non-null    object\n",
      " 5   Members       152 non-null    int64 \n",
      " 6   Orig. Memb.   152 non-null    int64 \n",
      " 7   Fanclub Name  46 non-null     object\n",
      " 8   Active        152 non-null    object\n",
      "dtypes: int64(2), object(7)\n",
      "memory usage: 10.8+ KB\n"
     ]
    }
   ],
   "source": [
    "# gg information\n",
    "\n",
    "gg.info()"
   ]
  },
  {
   "cell_type": "code",
   "execution_count": 11,
   "id": "8a43fe01",
   "metadata": {},
   "outputs": [
    {
     "name": "stdout",
     "output_type": "stream",
     "text": [
      "<class 'pandas.core.frame.DataFrame'>\n",
      "RangeIndex: 147 entries, 0 to 146\n",
      "Data columns (total 9 columns):\n",
      " #   Column        Non-Null Count  Dtype \n",
      "---  ------        --------------  ----- \n",
      " 0   Name          147 non-null    object\n",
      " 1   Short         18 non-null     object\n",
      " 2   Korean Name   147 non-null    object\n",
      " 3   Debut         147 non-null    object\n",
      " 4   Company       146 non-null    object\n",
      " 5   Members       147 non-null    int64 \n",
      " 6   Orig. Memb.   147 non-null    int64 \n",
      " 7   Fanclub Name  61 non-null     object\n",
      " 8   Active        147 non-null    object\n",
      "dtypes: int64(2), object(7)\n",
      "memory usage: 10.5+ KB\n"
     ]
    }
   ],
   "source": [
    "#  bg information\n",
    "\n",
    "bg.info()"
   ]
  },
  {
   "cell_type": "code",
   "execution_count": 12,
   "id": "4ba70494",
   "metadata": {},
   "outputs": [
    {
     "name": "stdout",
     "output_type": "stream",
     "text": [
      "<class 'pandas.core.frame.DataFrame'>\n",
      "RangeIndex: 1310 entries, 0 to 1309\n",
      "Data columns (total 10 columns):\n",
      " #   Column         Non-Null Count  Dtype \n",
      "---  ------         --------------  ----- \n",
      " 0   Stage Name     1310 non-null   object\n",
      " 1   Full Name      1304 non-null   object\n",
      " 2   Korean Name    1304 non-null   object\n",
      " 3   K. Stage Name  1309 non-null   object\n",
      " 4   Date of Birth  1310 non-null   object\n",
      " 5   Group          1219 non-null   object\n",
      " 6   Country        1310 non-null   object\n",
      " 7   Birthplace     689 non-null    object\n",
      " 8   Other Group    122 non-null    object\n",
      " 9   Gender         1310 non-null   object\n",
      "dtypes: object(10)\n",
      "memory usage: 102.5+ KB\n"
     ]
    }
   ],
   "source": [
    "# idols information\n",
    "\n",
    "idols.info()"
   ]
  },
  {
   "cell_type": "markdown",
   "id": "92baf14c",
   "metadata": {},
   "source": [
    "## Cleaning up the MV dataset"
   ]
  },
  {
   "cell_type": "markdown",
   "id": "dba6e5fb",
   "metadata": {},
   "source": [
    "1. Dropping columns"
   ]
  },
  {
   "cell_type": "code",
   "execution_count": 13,
   "id": "d5cfcc99",
   "metadata": {},
   "outputs": [
    {
     "data": {
      "text/html": [
       "<div>\n",
       "<style scoped>\n",
       "    .dataframe tbody tr th:only-of-type {\n",
       "        vertical-align: middle;\n",
       "    }\n",
       "\n",
       "    .dataframe tbody tr th {\n",
       "        vertical-align: top;\n",
       "    }\n",
       "\n",
       "    .dataframe thead th {\n",
       "        text-align: right;\n",
       "    }\n",
       "</style>\n",
       "<table border=\"1\" class=\"dataframe\">\n",
       "  <thead>\n",
       "    <tr style=\"text-align: right;\">\n",
       "      <th></th>\n",
       "      <th>Date</th>\n",
       "      <th>Artist</th>\n",
       "      <th>Song Name</th>\n",
       "      <th>Type</th>\n",
       "      <th>Release</th>\n",
       "    </tr>\n",
       "  </thead>\n",
       "  <tbody>\n",
       "    <tr>\n",
       "      <th>0</th>\n",
       "      <td>2020-05-22</td>\n",
       "      <td>Agust D</td>\n",
       "      <td>Daechwita</td>\n",
       "      <td>Boy Solo</td>\n",
       "      <td>Major</td>\n",
       "    </tr>\n",
       "    <tr>\n",
       "      <th>1</th>\n",
       "      <td>2020-05-21</td>\n",
       "      <td>Yubin</td>\n",
       "      <td>yaya (Me Time)</td>\n",
       "      <td>Girl Solo</td>\n",
       "      <td>Major</td>\n",
       "    </tr>\n",
       "    <tr>\n",
       "      <th>2</th>\n",
       "      <td>2020-05-21</td>\n",
       "      <td>OnlyOneOf</td>\n",
       "      <td>Angel (prod. GRAY)</td>\n",
       "      <td>Boy</td>\n",
       "      <td>Major</td>\n",
       "    </tr>\n",
       "    <tr>\n",
       "      <th>3</th>\n",
       "      <td>2020-05-20</td>\n",
       "      <td>Ryu Sujeong</td>\n",
       "      <td>Tiger Eyes</td>\n",
       "      <td>Girl Solo</td>\n",
       "      <td>Major</td>\n",
       "    </tr>\n",
       "    <tr>\n",
       "      <th>4</th>\n",
       "      <td>2020-05-20</td>\n",
       "      <td>Crush</td>\n",
       "      <td>Mayday feat. Joy (Red Velvet)</td>\n",
       "      <td>Boy Solo</td>\n",
       "      <td>Major</td>\n",
       "    </tr>\n",
       "  </tbody>\n",
       "</table>\n",
       "</div>"
      ],
      "text/plain": [
       "         Date       Artist                      Song Name       Type Release\n",
       "0  2020-05-22      Agust D                      Daechwita   Boy Solo   Major\n",
       "1  2020-05-21        Yubin                 yaya (Me Time)  Girl Solo   Major\n",
       "2  2020-05-21    OnlyOneOf             Angel (prod. GRAY)        Boy   Major\n",
       "3  2020-05-20  Ryu Sujeong                     Tiger Eyes  Girl Solo   Major\n",
       "4  2020-05-20        Crush  Mayday feat. Joy (Red Velvet)   Boy Solo   Major"
      ]
     },
     "execution_count": 13,
     "metadata": {},
     "output_type": "execute_result"
    }
   ],
   "source": [
    "mv.drop([\"Korean Name\", \"Video\", \"Director\"], axis=1, inplace=True)\n",
    "\n",
    "mv.head()"
   ]
  },
  {
   "cell_type": "markdown",
   "id": "cf382f11",
   "metadata": {},
   "source": [
    "2. Change \"Date\" column dtype"
   ]
  },
  {
   "cell_type": "code",
   "execution_count": 14,
   "id": "6698bfa4",
   "metadata": {},
   "outputs": [
    {
     "data": {
      "text/plain": [
       "dtype('<M8[ns]')"
      ]
     },
     "execution_count": 14,
     "metadata": {},
     "output_type": "execute_result"
    }
   ],
   "source": [
    "mv[\"Date\"] = pd.to_datetime(mv[\"Date\"])\n",
    "mv.Date.dtype"
   ]
  },
  {
   "cell_type": "markdown",
   "id": "482f2f65",
   "metadata": {},
   "source": [
    "3. Type Column in MV contain Co-ed and Co-Ed (Capitalized), replacing the later with the first.\n",
    "3.5 Replacing Girls and Boys values with \"Girl Group\" and \"Boy Group\" respectively"
   ]
  },
  {
   "cell_type": "code",
   "execution_count": 15,
   "id": "a7b96083",
   "metadata": {},
   "outputs": [
    {
     "data": {
      "text/plain": [
       "array(['Boy Solo', 'Girl Solo', 'Boy', 'Girl', 'Co-ed', 'Special',\n",
       "       'Co-Ed'], dtype=object)"
      ]
     },
     "execution_count": 15,
     "metadata": {},
     "output_type": "execute_result"
    }
   ],
   "source": [
    "mv.Type.unique()"
   ]
  },
  {
   "cell_type": "code",
   "execution_count": 16,
   "id": "8dc341c3",
   "metadata": {},
   "outputs": [
    {
     "data": {
      "text/plain": [
       "array(['Boy Solo', 'Girl Solo', 'Boy', 'Girl', 'Co-ed', 'Special'],\n",
       "      dtype=object)"
      ]
     },
     "execution_count": 16,
     "metadata": {},
     "output_type": "execute_result"
    }
   ],
   "source": [
    "mv[\"Type\"] = mv[\"Type\"].replace(\"Co-Ed\", \"Co-ed\")\n",
    "mv.Type.unique() # No more Co-Ed"
   ]
  },
  {
   "cell_type": "code",
   "execution_count": 17,
   "id": "ed7aac21",
   "metadata": {},
   "outputs": [
    {
     "data": {
      "text/plain": [
       "array(['Boy Solo', 'Girl Solo', 'Boy Group', 'Girl Group', 'Co-ed',\n",
       "       'Special'], dtype=object)"
      ]
     },
     "execution_count": 17,
     "metadata": {},
     "output_type": "execute_result"
    }
   ],
   "source": [
    "mv[\"Type\"] = mv[\"Type\"].replace(\"Boy\", \"Boy Group\")\n",
    "mv[\"Type\"] = mv[\"Type\"].replace(\"Girl\", \"Girl Group\")\n",
    "mv.Type.unique() # Girl and Boy only"
   ]
  },
  {
   "cell_type": "markdown",
   "id": "43f3b570",
   "metadata": {},
   "source": [
    "4. Song with NaN title will be dropped"
   ]
  },
  {
   "cell_type": "code",
   "execution_count": 18,
   "id": "85b9b747",
   "metadata": {},
   "outputs": [
    {
     "name": "stdout",
     "output_type": "stream",
     "text": [
      "<class 'pandas.core.frame.DataFrame'>\n",
      "Int64Index: 3771 entries, 0 to 3771\n",
      "Data columns (total 5 columns):\n",
      " #   Column     Non-Null Count  Dtype         \n",
      "---  ------     --------------  -----         \n",
      " 0   Date       3771 non-null   datetime64[ns]\n",
      " 1   Artist     3771 non-null   object        \n",
      " 2   Song Name  3771 non-null   object        \n",
      " 3   Type       3771 non-null   object        \n",
      " 4   Release    3758 non-null   object        \n",
      "dtypes: datetime64[ns](1), object(4)\n",
      "memory usage: 176.8+ KB\n"
     ]
    }
   ],
   "source": [
    "mv.loc[mv[\"Song Name\"].isna()]\n",
    "mv.drop(901, inplace=True)\n",
    "mv.info()"
   ]
  },
  {
   "cell_type": "markdown",
   "id": "05404add",
   "metadata": {},
   "source": [
    "5. MV's with NaN Releases will be dropped as well"
   ]
  },
  {
   "cell_type": "code",
   "execution_count": 19,
   "id": "1812cd11",
   "metadata": {},
   "outputs": [
    {
     "name": "stdout",
     "output_type": "stream",
     "text": [
      "<class 'pandas.core.frame.DataFrame'>\n",
      "Int64Index: 3758 entries, 0 to 3771\n",
      "Data columns (total 5 columns):\n",
      " #   Column     Non-Null Count  Dtype         \n",
      "---  ------     --------------  -----         \n",
      " 0   Date       3758 non-null   datetime64[ns]\n",
      " 1   Artist     3758 non-null   object        \n",
      " 2   Song Name  3758 non-null   object        \n",
      " 3   Type       3758 non-null   object        \n",
      " 4   Release    3758 non-null   object        \n",
      "dtypes: datetime64[ns](1), object(4)\n",
      "memory usage: 176.2+ KB\n"
     ]
    }
   ],
   "source": [
    "rows_to_drop = mv.loc[mv[\"Release\"].isna()].index\n",
    "mv.drop(rows_to_drop, inplace=True)\n",
    "\n",
    "mv.info() # No missing elements now"
   ]
  },
  {
   "cell_type": "code",
   "execution_count": 20,
   "id": "fd8d65ed",
   "metadata": {},
   "outputs": [
    {
     "data": {
      "text/html": [
       "<div>\n",
       "<style scoped>\n",
       "    .dataframe tbody tr th:only-of-type {\n",
       "        vertical-align: middle;\n",
       "    }\n",
       "\n",
       "    .dataframe tbody tr th {\n",
       "        vertical-align: top;\n",
       "    }\n",
       "\n",
       "    .dataframe thead th {\n",
       "        text-align: right;\n",
       "    }\n",
       "</style>\n",
       "<table border=\"1\" class=\"dataframe\">\n",
       "  <thead>\n",
       "    <tr style=\"text-align: right;\">\n",
       "      <th></th>\n",
       "      <th>Date</th>\n",
       "      <th>Artist</th>\n",
       "      <th>Song Name</th>\n",
       "      <th>Type</th>\n",
       "      <th>Release</th>\n",
       "    </tr>\n",
       "  </thead>\n",
       "  <tbody>\n",
       "    <tr>\n",
       "      <th>0</th>\n",
       "      <td>2020-05-22</td>\n",
       "      <td>Agust D</td>\n",
       "      <td>Daechwita</td>\n",
       "      <td>Boy Solo</td>\n",
       "      <td>Major</td>\n",
       "    </tr>\n",
       "    <tr>\n",
       "      <th>1</th>\n",
       "      <td>2020-05-21</td>\n",
       "      <td>Yubin</td>\n",
       "      <td>yaya (Me Time)</td>\n",
       "      <td>Girl Solo</td>\n",
       "      <td>Major</td>\n",
       "    </tr>\n",
       "    <tr>\n",
       "      <th>2</th>\n",
       "      <td>2020-05-21</td>\n",
       "      <td>OnlyOneOf</td>\n",
       "      <td>Angel (prod. GRAY)</td>\n",
       "      <td>Boy Group</td>\n",
       "      <td>Major</td>\n",
       "    </tr>\n",
       "    <tr>\n",
       "      <th>3</th>\n",
       "      <td>2020-05-20</td>\n",
       "      <td>Ryu Sujeong</td>\n",
       "      <td>Tiger Eyes</td>\n",
       "      <td>Girl Solo</td>\n",
       "      <td>Major</td>\n",
       "    </tr>\n",
       "    <tr>\n",
       "      <th>4</th>\n",
       "      <td>2020-05-20</td>\n",
       "      <td>Crush</td>\n",
       "      <td>Mayday feat. Joy (Red Velvet)</td>\n",
       "      <td>Boy Solo</td>\n",
       "      <td>Major</td>\n",
       "    </tr>\n",
       "  </tbody>\n",
       "</table>\n",
       "</div>"
      ],
      "text/plain": [
       "        Date       Artist                      Song Name       Type Release\n",
       "0 2020-05-22      Agust D                      Daechwita   Boy Solo   Major\n",
       "1 2020-05-21        Yubin                 yaya (Me Time)  Girl Solo   Major\n",
       "2 2020-05-21    OnlyOneOf             Angel (prod. GRAY)  Boy Group   Major\n",
       "3 2020-05-20  Ryu Sujeong                     Tiger Eyes  Girl Solo   Major\n",
       "4 2020-05-20        Crush  Mayday feat. Joy (Red Velvet)   Boy Solo   Major"
      ]
     },
     "execution_count": 20,
     "metadata": {},
     "output_type": "execute_result"
    }
   ],
   "source": [
    "mv.head()"
   ]
  },
  {
   "cell_type": "markdown",
   "id": "c51efd06",
   "metadata": {},
   "source": [
    "## Cleaning up GG dataframe"
   ]
  },
  {
   "cell_type": "markdown",
   "id": "8864f31f",
   "metadata": {},
   "source": [
    "1. Dropping unwanted columns "
   ]
  },
  {
   "cell_type": "code",
   "execution_count": 21,
   "id": "accd936c",
   "metadata": {},
   "outputs": [],
   "source": [
    "gg.columns\n",
    "gg.drop([\"Short\", \"Korean Name\", \"Fanclub Name\"], axis=1, inplace=True)"
   ]
  },
  {
   "cell_type": "markdown",
   "id": "f71b7184",
   "metadata": {},
   "source": [
    "2. Changing Debut column to DateTime"
   ]
  },
  {
   "cell_type": "code",
   "execution_count": 22,
   "id": "7ed7049c",
   "metadata": {},
   "outputs": [
    {
     "name": "stdout",
     "output_type": "stream",
     "text": [
      "<class 'pandas.core.frame.DataFrame'>\n",
      "RangeIndex: 152 entries, 0 to 151\n",
      "Data columns (total 6 columns):\n",
      " #   Column       Non-Null Count  Dtype         \n",
      "---  ------       --------------  -----         \n",
      " 0   Name         152 non-null    object        \n",
      " 1   Debut        152 non-null    datetime64[ns]\n",
      " 2   Company      152 non-null    object        \n",
      " 3   Members      152 non-null    int64         \n",
      " 4   Orig. Memb.  152 non-null    int64         \n",
      " 5   Active       152 non-null    object        \n",
      "dtypes: datetime64[ns](1), int64(2), object(3)\n",
      "memory usage: 7.2+ KB\n"
     ]
    }
   ],
   "source": [
    "gg.Debut = pd.to_datetime(gg[\"Debut\"])\n",
    "gg.info()"
   ]
  },
  {
   "cell_type": "code",
   "execution_count": 23,
   "id": "90fc2dec",
   "metadata": {},
   "outputs": [
    {
     "data": {
      "text/html": [
       "<div>\n",
       "<style scoped>\n",
       "    .dataframe tbody tr th:only-of-type {\n",
       "        vertical-align: middle;\n",
       "    }\n",
       "\n",
       "    .dataframe tbody tr th {\n",
       "        vertical-align: top;\n",
       "    }\n",
       "\n",
       "    .dataframe thead th {\n",
       "        text-align: right;\n",
       "    }\n",
       "</style>\n",
       "<table border=\"1\" class=\"dataframe\">\n",
       "  <thead>\n",
       "    <tr style=\"text-align: right;\">\n",
       "      <th></th>\n",
       "      <th>Name</th>\n",
       "      <th>Debut</th>\n",
       "      <th>Company</th>\n",
       "      <th>Members</th>\n",
       "      <th>Orig. Memb.</th>\n",
       "      <th>Active</th>\n",
       "    </tr>\n",
       "  </thead>\n",
       "  <tbody>\n",
       "    <tr>\n",
       "      <th>0</th>\n",
       "      <td>(G)I-DLE</td>\n",
       "      <td>2018-05-02</td>\n",
       "      <td>Cube</td>\n",
       "      <td>6</td>\n",
       "      <td>6</td>\n",
       "      <td>Yes</td>\n",
       "    </tr>\n",
       "    <tr>\n",
       "      <th>1</th>\n",
       "      <td>15&amp;</td>\n",
       "      <td>2012-10-05</td>\n",
       "      <td>JYP</td>\n",
       "      <td>2</td>\n",
       "      <td>2</td>\n",
       "      <td>No</td>\n",
       "    </tr>\n",
       "    <tr>\n",
       "      <th>2</th>\n",
       "      <td>2EYES</td>\n",
       "      <td>2013-07-20</td>\n",
       "      <td>SidusHQ</td>\n",
       "      <td>4</td>\n",
       "      <td>5</td>\n",
       "      <td>No</td>\n",
       "    </tr>\n",
       "    <tr>\n",
       "      <th>3</th>\n",
       "      <td>2NE1</td>\n",
       "      <td>2009-05-06</td>\n",
       "      <td>YG</td>\n",
       "      <td>4</td>\n",
       "      <td>4</td>\n",
       "      <td>No</td>\n",
       "    </tr>\n",
       "    <tr>\n",
       "      <th>4</th>\n",
       "      <td>3YE</td>\n",
       "      <td>2019-05-21</td>\n",
       "      <td>GH</td>\n",
       "      <td>3</td>\n",
       "      <td>3</td>\n",
       "      <td>Yes</td>\n",
       "    </tr>\n",
       "  </tbody>\n",
       "</table>\n",
       "</div>"
      ],
      "text/plain": [
       "       Name      Debut  Company  Members  Orig. Memb. Active\n",
       "0  (G)I-DLE 2018-05-02     Cube        6            6    Yes\n",
       "1       15& 2012-10-05      JYP        2            2     No\n",
       "2     2EYES 2013-07-20  SidusHQ        4            5     No\n",
       "3      2NE1 2009-05-06       YG        4            4     No\n",
       "4       3YE 2019-05-21       GH        3            3    Yes"
      ]
     },
     "execution_count": 23,
     "metadata": {},
     "output_type": "execute_result"
    }
   ],
   "source": [
    "gg.head() # All cleaned up"
   ]
  },
  {
   "cell_type": "markdown",
   "id": "45fc6ebc",
   "metadata": {},
   "source": [
    "## Same thing with BG dataframe"
   ]
  },
  {
   "cell_type": "markdown",
   "id": "092563fc",
   "metadata": {},
   "source": [
    "1. Dropping unwanted columns"
   ]
  },
  {
   "cell_type": "code",
   "execution_count": 24,
   "id": "cfffc0a2",
   "metadata": {},
   "outputs": [],
   "source": [
    "bg.columns\n",
    "bg.drop([\"Short\", \"Korean Name\", \"Fanclub Name\"], axis=1, inplace=True)"
   ]
  },
  {
   "cell_type": "markdown",
   "id": "0e5b4d60",
   "metadata": {},
   "source": [
    "2. Changing Debut column to datetime dtype"
   ]
  },
  {
   "cell_type": "code",
   "execution_count": 25,
   "id": "acec5ac0",
   "metadata": {},
   "outputs": [
    {
     "data": {
      "text/plain": [
       "dtype('<M8[ns]')"
      ]
     },
     "execution_count": 25,
     "metadata": {},
     "output_type": "execute_result"
    }
   ],
   "source": [
    "bg.Debut = pd.to_datetime(bg[\"Debut\"])\n",
    "bg.Debut.dtype"
   ]
  },
  {
   "cell_type": "markdown",
   "id": "468506c0",
   "metadata": {},
   "source": [
    "3. Dropping row with empty Company (row 63)"
   ]
  },
  {
   "cell_type": "code",
   "execution_count": 26,
   "id": "c56e90b7",
   "metadata": {},
   "outputs": [],
   "source": [
    "bg.drop(bg.loc[bg[\"Company\"].isna()].index, inplace=True)"
   ]
  },
  {
   "cell_type": "code",
   "execution_count": 27,
   "id": "29534162",
   "metadata": {},
   "outputs": [
    {
     "data": {
      "text/html": [
       "<div>\n",
       "<style scoped>\n",
       "    .dataframe tbody tr th:only-of-type {\n",
       "        vertical-align: middle;\n",
       "    }\n",
       "\n",
       "    .dataframe tbody tr th {\n",
       "        vertical-align: top;\n",
       "    }\n",
       "\n",
       "    .dataframe thead th {\n",
       "        text-align: right;\n",
       "    }\n",
       "</style>\n",
       "<table border=\"1\" class=\"dataframe\">\n",
       "  <thead>\n",
       "    <tr style=\"text-align: right;\">\n",
       "      <th></th>\n",
       "      <th>Name</th>\n",
       "      <th>Debut</th>\n",
       "      <th>Company</th>\n",
       "      <th>Members</th>\n",
       "      <th>Orig. Memb.</th>\n",
       "      <th>Active</th>\n",
       "    </tr>\n",
       "  </thead>\n",
       "  <tbody>\n",
       "    <tr>\n",
       "      <th>0</th>\n",
       "      <td>100%</td>\n",
       "      <td>2012-09-18</td>\n",
       "      <td>TOP Media</td>\n",
       "      <td>4</td>\n",
       "      <td>7</td>\n",
       "      <td>Yes</td>\n",
       "    </tr>\n",
       "    <tr>\n",
       "      <th>1</th>\n",
       "      <td>14U</td>\n",
       "      <td>2017-04-17</td>\n",
       "      <td>BG</td>\n",
       "      <td>14</td>\n",
       "      <td>14</td>\n",
       "      <td>Yes</td>\n",
       "    </tr>\n",
       "    <tr>\n",
       "      <th>2</th>\n",
       "      <td>1the9</td>\n",
       "      <td>2019-02-09</td>\n",
       "      <td>MBK</td>\n",
       "      <td>9</td>\n",
       "      <td>9</td>\n",
       "      <td>Yes</td>\n",
       "    </tr>\n",
       "    <tr>\n",
       "      <th>3</th>\n",
       "      <td>24K</td>\n",
       "      <td>2012-09-06</td>\n",
       "      <td>Choeun</td>\n",
       "      <td>8</td>\n",
       "      <td>6</td>\n",
       "      <td>Yes</td>\n",
       "    </tr>\n",
       "    <tr>\n",
       "      <th>4</th>\n",
       "      <td>2AM</td>\n",
       "      <td>2008-06-21</td>\n",
       "      <td>JYP, Big Hit</td>\n",
       "      <td>4</td>\n",
       "      <td>4</td>\n",
       "      <td>No</td>\n",
       "    </tr>\n",
       "  </tbody>\n",
       "</table>\n",
       "</div>"
      ],
      "text/plain": [
       "    Name      Debut       Company  Members  Orig. Memb. Active\n",
       "0   100% 2012-09-18     TOP Media        4            7    Yes\n",
       "1    14U 2017-04-17            BG       14           14    Yes\n",
       "2  1the9 2019-02-09           MBK        9            9    Yes\n",
       "3    24K 2012-09-06        Choeun        8            6    Yes\n",
       "4    2AM 2008-06-21  JYP, Big Hit        4            4     No"
      ]
     },
     "execution_count": 27,
     "metadata": {},
     "output_type": "execute_result"
    }
   ],
   "source": [
    "bg.head() # All cleaned up"
   ]
  },
  {
   "cell_type": "markdown",
   "id": "e7090832",
   "metadata": {},
   "source": [
    "## Cleaning up Idols DataFrame"
   ]
  },
  {
   "cell_type": "markdown",
   "id": "95a6f57f",
   "metadata": {},
   "source": [
    "1. Dropping unwanted columns"
   ]
  },
  {
   "cell_type": "code",
   "execution_count": 28,
   "id": "be2c90ee",
   "metadata": {},
   "outputs": [
    {
     "data": {
      "text/html": [
       "<div>\n",
       "<style scoped>\n",
       "    .dataframe tbody tr th:only-of-type {\n",
       "        vertical-align: middle;\n",
       "    }\n",
       "\n",
       "    .dataframe tbody tr th {\n",
       "        vertical-align: top;\n",
       "    }\n",
       "\n",
       "    .dataframe thead th {\n",
       "        text-align: right;\n",
       "    }\n",
       "</style>\n",
       "<table border=\"1\" class=\"dataframe\">\n",
       "  <thead>\n",
       "    <tr style=\"text-align: right;\">\n",
       "      <th></th>\n",
       "      <th>Stage Name</th>\n",
       "      <th>Date of Birth</th>\n",
       "      <th>Group</th>\n",
       "      <th>Country</th>\n",
       "      <th>Birthplace</th>\n",
       "      <th>Gender</th>\n",
       "    </tr>\n",
       "  </thead>\n",
       "  <tbody>\n",
       "    <tr>\n",
       "      <th>0</th>\n",
       "      <td>A.M</td>\n",
       "      <td>1996-12-31</td>\n",
       "      <td>Limitless</td>\n",
       "      <td>South Korea</td>\n",
       "      <td>NaN</td>\n",
       "      <td>M</td>\n",
       "    </tr>\n",
       "    <tr>\n",
       "      <th>1</th>\n",
       "      <td>Ace</td>\n",
       "      <td>1992-08-28</td>\n",
       "      <td>VAV</td>\n",
       "      <td>South Korea</td>\n",
       "      <td>NaN</td>\n",
       "      <td>M</td>\n",
       "    </tr>\n",
       "    <tr>\n",
       "      <th>2</th>\n",
       "      <td>Aeji</td>\n",
       "      <td>1999-10-25</td>\n",
       "      <td>Hashtag</td>\n",
       "      <td>South Korea</td>\n",
       "      <td>Daegu</td>\n",
       "      <td>F</td>\n",
       "    </tr>\n",
       "    <tr>\n",
       "      <th>3</th>\n",
       "      <td>AhIn</td>\n",
       "      <td>1999-09-27</td>\n",
       "      <td>MOMOLAND</td>\n",
       "      <td>South Korea</td>\n",
       "      <td>Wonju</td>\n",
       "      <td>F</td>\n",
       "    </tr>\n",
       "    <tr>\n",
       "      <th>4</th>\n",
       "      <td>Ahra</td>\n",
       "      <td>2001-02-21</td>\n",
       "      <td>Favorite</td>\n",
       "      <td>South Korea</td>\n",
       "      <td>Yeosu</td>\n",
       "      <td>F</td>\n",
       "    </tr>\n",
       "  </tbody>\n",
       "</table>\n",
       "</div>"
      ],
      "text/plain": [
       "  Stage Name Date of Birth      Group      Country Birthplace Gender\n",
       "0        A.M    1996-12-31  Limitless  South Korea        NaN      M\n",
       "1        Ace    1992-08-28        VAV  South Korea        NaN      M\n",
       "2       Aeji    1999-10-25    Hashtag  South Korea      Daegu      F\n",
       "3       AhIn    1999-09-27   MOMOLAND  South Korea      Wonju      F\n",
       "4       Ahra    2001-02-21   Favorite  South Korea      Yeosu      F"
      ]
     },
     "execution_count": 28,
     "metadata": {},
     "output_type": "execute_result"
    }
   ],
   "source": [
    "idols.columns\n",
    "idols.drop([\"Full Name\", \"Korean Name\", \"K. Stage Name\", \"Other Group\"], axis=1, inplace=True)\n",
    "idols.head()"
   ]
  },
  {
   "cell_type": "markdown",
   "id": "1b74a6a1",
   "metadata": {},
   "source": [
    "2. Since I removed the \"Full Name\" column, I renamed \"Stage Name\" as just \"Name\""
   ]
  },
  {
   "cell_type": "code",
   "execution_count": 29,
   "id": "c69e4b75",
   "metadata": {},
   "outputs": [],
   "source": [
    "idols.rename(columns = {\"Stage Name\":\"Name\"}, inplace = True)"
   ]
  },
  {
   "cell_type": "markdown",
   "id": "b992ed8f",
   "metadata": {},
   "source": [
    "3. Filled in N/A rows with some info "
   ]
  },
  {
   "cell_type": "code",
   "execution_count": 30,
   "id": "f7486b40",
   "metadata": {},
   "outputs": [
    {
     "name": "stdout",
     "output_type": "stream",
     "text": [
      "<class 'pandas.core.frame.DataFrame'>\n",
      "RangeIndex: 1310 entries, 0 to 1309\n",
      "Data columns (total 6 columns):\n",
      " #   Column         Non-Null Count  Dtype \n",
      "---  ------         --------------  ----- \n",
      " 0   Name           1310 non-null   object\n",
      " 1   Date of Birth  1310 non-null   object\n",
      " 2   Group          1310 non-null   object\n",
      " 3   Country        1310 non-null   object\n",
      " 4   Birthplace     1310 non-null   object\n",
      " 5   Gender         1310 non-null   object\n",
      "dtypes: object(6)\n",
      "memory usage: 61.5+ KB\n"
     ]
    }
   ],
   "source": [
    "idols[\"Group\"] = idols[\"Group\"].fillna(\"N/A\")\n",
    "idols[\"Birthplace\"] = idols[\"Birthplace\"].fillna(\"Unknown\")\n",
    "\n",
    "idols.info() # No more missing values"
   ]
  },
  {
   "cell_type": "code",
   "execution_count": 31,
   "id": "b6c6c481",
   "metadata": {},
   "outputs": [
    {
     "data": {
      "text/html": [
       "<div>\n",
       "<style scoped>\n",
       "    .dataframe tbody tr th:only-of-type {\n",
       "        vertical-align: middle;\n",
       "    }\n",
       "\n",
       "    .dataframe tbody tr th {\n",
       "        vertical-align: top;\n",
       "    }\n",
       "\n",
       "    .dataframe thead th {\n",
       "        text-align: right;\n",
       "    }\n",
       "</style>\n",
       "<table border=\"1\" class=\"dataframe\">\n",
       "  <thead>\n",
       "    <tr style=\"text-align: right;\">\n",
       "      <th></th>\n",
       "      <th>Name</th>\n",
       "      <th>Date of Birth</th>\n",
       "      <th>Group</th>\n",
       "      <th>Country</th>\n",
       "      <th>Birthplace</th>\n",
       "      <th>Gender</th>\n",
       "    </tr>\n",
       "  </thead>\n",
       "  <tbody>\n",
       "    <tr>\n",
       "      <th>0</th>\n",
       "      <td>A.M</td>\n",
       "      <td>1996-12-31</td>\n",
       "      <td>Limitless</td>\n",
       "      <td>South Korea</td>\n",
       "      <td>Unknown</td>\n",
       "      <td>M</td>\n",
       "    </tr>\n",
       "    <tr>\n",
       "      <th>1</th>\n",
       "      <td>Ace</td>\n",
       "      <td>1992-08-28</td>\n",
       "      <td>VAV</td>\n",
       "      <td>South Korea</td>\n",
       "      <td>Unknown</td>\n",
       "      <td>M</td>\n",
       "    </tr>\n",
       "    <tr>\n",
       "      <th>2</th>\n",
       "      <td>Aeji</td>\n",
       "      <td>1999-10-25</td>\n",
       "      <td>Hashtag</td>\n",
       "      <td>South Korea</td>\n",
       "      <td>Daegu</td>\n",
       "      <td>F</td>\n",
       "    </tr>\n",
       "    <tr>\n",
       "      <th>3</th>\n",
       "      <td>AhIn</td>\n",
       "      <td>1999-09-27</td>\n",
       "      <td>MOMOLAND</td>\n",
       "      <td>South Korea</td>\n",
       "      <td>Wonju</td>\n",
       "      <td>F</td>\n",
       "    </tr>\n",
       "    <tr>\n",
       "      <th>4</th>\n",
       "      <td>Ahra</td>\n",
       "      <td>2001-02-21</td>\n",
       "      <td>Favorite</td>\n",
       "      <td>South Korea</td>\n",
       "      <td>Yeosu</td>\n",
       "      <td>F</td>\n",
       "    </tr>\n",
       "  </tbody>\n",
       "</table>\n",
       "</div>"
      ],
      "text/plain": [
       "   Name Date of Birth      Group      Country Birthplace Gender\n",
       "0   A.M    1996-12-31  Limitless  South Korea    Unknown      M\n",
       "1   Ace    1992-08-28        VAV  South Korea    Unknown      M\n",
       "2  Aeji    1999-10-25    Hashtag  South Korea      Daegu      F\n",
       "3  AhIn    1999-09-27   MOMOLAND  South Korea      Wonju      F\n",
       "4  Ahra    2001-02-21   Favorite  South Korea      Yeosu      F"
      ]
     },
     "execution_count": 31,
     "metadata": {},
     "output_type": "execute_result"
    }
   ],
   "source": [
    "idols.head() # All cleaned up"
   ]
  },
  {
   "cell_type": "markdown",
   "id": "da38087c",
   "metadata": {},
   "source": [
    "# Merging DataFrames"
   ]
  },
  {
   "cell_type": "markdown",
   "id": "ec7bf349",
   "metadata": {},
   "source": [
    "## Female Idols and their Groups"
   ]
  },
  {
   "cell_type": "markdown",
   "id": "174f51a1",
   "metadata": {},
   "source": [
    "1. Merging Female Idols from Idols dframe to GG dframe"
   ]
  },
  {
   "cell_type": "code",
   "execution_count": 32,
   "id": "b1038c66",
   "metadata": {
    "scrolled": true
   },
   "outputs": [],
   "source": [
    "f_idols_n_groups = idols.merge(gg, how=\"left\", left_on=\"Group\", right_on=\"Name\", suffixes=[\"_Idol\", \"_Group\"])"
   ]
  },
  {
   "cell_type": "code",
   "execution_count": 33,
   "id": "a6ccd8fc",
   "metadata": {},
   "outputs": [],
   "source": [
    "# Dropping Male idols\n",
    "f_idols_n_groups.drop(f_idols_n_groups[f_idols_n_groups[\"Gender\"] == \"M\"].index, inplace=True)"
   ]
  },
  {
   "cell_type": "code",
   "execution_count": 34,
   "id": "35b86564",
   "metadata": {},
   "outputs": [
    {
     "data": {
      "text/html": [
       "<div>\n",
       "<style scoped>\n",
       "    .dataframe tbody tr th:only-of-type {\n",
       "        vertical-align: middle;\n",
       "    }\n",
       "\n",
       "    .dataframe tbody tr th {\n",
       "        vertical-align: top;\n",
       "    }\n",
       "\n",
       "    .dataframe thead th {\n",
       "        text-align: right;\n",
       "    }\n",
       "</style>\n",
       "<table border=\"1\" class=\"dataframe\">\n",
       "  <thead>\n",
       "    <tr style=\"text-align: right;\">\n",
       "      <th></th>\n",
       "      <th>Name_Idol</th>\n",
       "      <th>Date of Birth</th>\n",
       "      <th>Group</th>\n",
       "      <th>Country</th>\n",
       "      <th>Birthplace</th>\n",
       "      <th>Gender</th>\n",
       "      <th>Name_Group</th>\n",
       "      <th>Debut</th>\n",
       "      <th>Company</th>\n",
       "      <th>Members</th>\n",
       "      <th>Orig. Memb.</th>\n",
       "      <th>Active</th>\n",
       "    </tr>\n",
       "  </thead>\n",
       "  <tbody>\n",
       "    <tr>\n",
       "      <th>2</th>\n",
       "      <td>Aeji</td>\n",
       "      <td>1999-10-25</td>\n",
       "      <td>Hashtag</td>\n",
       "      <td>South Korea</td>\n",
       "      <td>Daegu</td>\n",
       "      <td>F</td>\n",
       "      <td>NaN</td>\n",
       "      <td>NaT</td>\n",
       "      <td>NaN</td>\n",
       "      <td>NaN</td>\n",
       "      <td>NaN</td>\n",
       "      <td>NaN</td>\n",
       "    </tr>\n",
       "    <tr>\n",
       "      <th>3</th>\n",
       "      <td>AhIn</td>\n",
       "      <td>1999-09-27</td>\n",
       "      <td>MOMOLAND</td>\n",
       "      <td>South Korea</td>\n",
       "      <td>Wonju</td>\n",
       "      <td>F</td>\n",
       "      <td>NaN</td>\n",
       "      <td>NaT</td>\n",
       "      <td>NaN</td>\n",
       "      <td>NaN</td>\n",
       "      <td>NaN</td>\n",
       "      <td>NaN</td>\n",
       "    </tr>\n",
       "    <tr>\n",
       "      <th>4</th>\n",
       "      <td>Ahra</td>\n",
       "      <td>2001-02-21</td>\n",
       "      <td>Favorite</td>\n",
       "      <td>South Korea</td>\n",
       "      <td>Yeosu</td>\n",
       "      <td>F</td>\n",
       "      <td>Favorite</td>\n",
       "      <td>2017-07-05</td>\n",
       "      <td>Astory</td>\n",
       "      <td>6.0</td>\n",
       "      <td>6.0</td>\n",
       "      <td>Yes</td>\n",
       "    </tr>\n",
       "    <tr>\n",
       "      <th>5</th>\n",
       "      <td>Ahyoung</td>\n",
       "      <td>1991-05-26</td>\n",
       "      <td>Dal Shabet</td>\n",
       "      <td>South Korea</td>\n",
       "      <td>Seoul</td>\n",
       "      <td>F</td>\n",
       "      <td>Dal Shabet</td>\n",
       "      <td>2011-01-03</td>\n",
       "      <td>Happy Face</td>\n",
       "      <td>4.0</td>\n",
       "      <td>6.0</td>\n",
       "      <td>Hiatus</td>\n",
       "    </tr>\n",
       "    <tr>\n",
       "      <th>6</th>\n",
       "      <td>Ahyung</td>\n",
       "      <td>1996-08-27</td>\n",
       "      <td>P.O.P</td>\n",
       "      <td>South Korea</td>\n",
       "      <td>Pohang</td>\n",
       "      <td>F</td>\n",
       "      <td>P.O.P</td>\n",
       "      <td>2017-07-26</td>\n",
       "      <td>DWM</td>\n",
       "      <td>6.0</td>\n",
       "      <td>6.0</td>\n",
       "      <td>Yes</td>\n",
       "    </tr>\n",
       "  </tbody>\n",
       "</table>\n",
       "</div>"
      ],
      "text/plain": [
       "  Name_Idol Date of Birth       Group      Country Birthplace Gender  \\\n",
       "2      Aeji    1999-10-25     Hashtag  South Korea      Daegu      F   \n",
       "3      AhIn    1999-09-27    MOMOLAND  South Korea      Wonju      F   \n",
       "4      Ahra    2001-02-21    Favorite  South Korea      Yeosu      F   \n",
       "5   Ahyoung    1991-05-26  Dal Shabet  South Korea      Seoul      F   \n",
       "6    Ahyung    1996-08-27       P.O.P  South Korea     Pohang      F   \n",
       "\n",
       "   Name_Group      Debut     Company  Members  Orig. Memb.  Active  \n",
       "2         NaN        NaT         NaN      NaN          NaN     NaN  \n",
       "3         NaN        NaT         NaN      NaN          NaN     NaN  \n",
       "4    Favorite 2017-07-05      Astory      6.0          6.0     Yes  \n",
       "5  Dal Shabet 2011-01-03  Happy Face      4.0          6.0  Hiatus  \n",
       "6       P.O.P 2017-07-26         DWM      6.0          6.0     Yes  "
      ]
     },
     "execution_count": 34,
     "metadata": {},
     "output_type": "execute_result"
    }
   ],
   "source": [
    "f_idols_n_groups.head()"
   ]
  },
  {
   "cell_type": "code",
   "execution_count": 35,
   "id": "ac53db47",
   "metadata": {},
   "outputs": [
    {
     "name": "stdout",
     "output_type": "stream",
     "text": [
      "<class 'pandas.core.frame.DataFrame'>\n",
      "Int64Index: 634 entries, 2 to 1309\n",
      "Data columns (total 12 columns):\n",
      " #   Column         Non-Null Count  Dtype         \n",
      "---  ------         --------------  -----         \n",
      " 0   Name_Idol      634 non-null    object        \n",
      " 1   Date of Birth  634 non-null    object        \n",
      " 2   Group          634 non-null    object        \n",
      " 3   Country        634 non-null    object        \n",
      " 4   Birthplace     634 non-null    object        \n",
      " 5   Gender         634 non-null    object        \n",
      " 6   Name_Group     381 non-null    object        \n",
      " 7   Debut          381 non-null    datetime64[ns]\n",
      " 8   Company        381 non-null    object        \n",
      " 9   Members        381 non-null    float64       \n",
      " 10  Orig. Memb.    381 non-null    float64       \n",
      " 11  Active         381 non-null    object        \n",
      "dtypes: datetime64[ns](1), float64(2), object(9)\n",
      "memory usage: 64.4+ KB\n"
     ]
    }
   ],
   "source": [
    "f_idols_n_groups.info() # Over 200 missing rows / Soloists in the GG dataframe"
   ]
  },
  {
   "cell_type": "markdown",
   "id": "797921b9",
   "metadata": {},
   "source": [
    "## Male Idols and their Groups"
   ]
  },
  {
   "cell_type": "markdown",
   "id": "fc2b71f0",
   "metadata": {},
   "source": [
    "2. Merging the remaining idols with Boy Groups Dataframe"
   ]
  },
  {
   "cell_type": "code",
   "execution_count": 36,
   "id": "3add610d",
   "metadata": {},
   "outputs": [],
   "source": [
    "m_idols_n_groups = idols.merge(bg, how=\"left\", left_on=\"Group\", right_on=\"Name\", suffixes=[\"_Idol\", \"_Group\"])"
   ]
  },
  {
   "cell_type": "code",
   "execution_count": 37,
   "id": "9c775ed4",
   "metadata": {},
   "outputs": [],
   "source": [
    "m_idols_n_groups.drop(m_idols_n_groups[m_idols_n_groups[\"Gender\"] == \"F\"].index, inplace=True)"
   ]
  },
  {
   "cell_type": "code",
   "execution_count": 38,
   "id": "8cd95ff2",
   "metadata": {},
   "outputs": [
    {
     "data": {
      "text/html": [
       "<div>\n",
       "<style scoped>\n",
       "    .dataframe tbody tr th:only-of-type {\n",
       "        vertical-align: middle;\n",
       "    }\n",
       "\n",
       "    .dataframe tbody tr th {\n",
       "        vertical-align: top;\n",
       "    }\n",
       "\n",
       "    .dataframe thead th {\n",
       "        text-align: right;\n",
       "    }\n",
       "</style>\n",
       "<table border=\"1\" class=\"dataframe\">\n",
       "  <thead>\n",
       "    <tr style=\"text-align: right;\">\n",
       "      <th></th>\n",
       "      <th>Name_Idol</th>\n",
       "      <th>Date of Birth</th>\n",
       "      <th>Group</th>\n",
       "      <th>Country</th>\n",
       "      <th>Birthplace</th>\n",
       "      <th>Gender</th>\n",
       "      <th>Name_Group</th>\n",
       "      <th>Debut</th>\n",
       "      <th>Company</th>\n",
       "      <th>Members</th>\n",
       "      <th>Orig. Memb.</th>\n",
       "      <th>Active</th>\n",
       "    </tr>\n",
       "  </thead>\n",
       "  <tbody>\n",
       "    <tr>\n",
       "      <th>0</th>\n",
       "      <td>A.M</td>\n",
       "      <td>1996-12-31</td>\n",
       "      <td>Limitless</td>\n",
       "      <td>South Korea</td>\n",
       "      <td>Unknown</td>\n",
       "      <td>M</td>\n",
       "      <td>Limitless</td>\n",
       "      <td>2019-07-09</td>\n",
       "      <td>ONO</td>\n",
       "      <td>4.0</td>\n",
       "      <td>4.0</td>\n",
       "      <td>Yes</td>\n",
       "    </tr>\n",
       "    <tr>\n",
       "      <th>1</th>\n",
       "      <td>Ace</td>\n",
       "      <td>1992-08-28</td>\n",
       "      <td>VAV</td>\n",
       "      <td>South Korea</td>\n",
       "      <td>Unknown</td>\n",
       "      <td>M</td>\n",
       "      <td>VAV</td>\n",
       "      <td>2015-10-31</td>\n",
       "      <td>A team</td>\n",
       "      <td>7.0</td>\n",
       "      <td>6.0</td>\n",
       "      <td>Yes</td>\n",
       "    </tr>\n",
       "    <tr>\n",
       "      <th>12</th>\n",
       "      <td>Allen</td>\n",
       "      <td>1999-04-26</td>\n",
       "      <td>CRAVITY</td>\n",
       "      <td>USA</td>\n",
       "      <td>Unknown</td>\n",
       "      <td>M</td>\n",
       "      <td>CRAVITY</td>\n",
       "      <td>2020-04-04</td>\n",
       "      <td>Starship</td>\n",
       "      <td>9.0</td>\n",
       "      <td>9.0</td>\n",
       "      <td>Yes</td>\n",
       "    </tr>\n",
       "    <tr>\n",
       "      <th>15</th>\n",
       "      <td>Anthony</td>\n",
       "      <td>1998-03-12</td>\n",
       "      <td>VARSITY</td>\n",
       "      <td>China</td>\n",
       "      <td>Unknown</td>\n",
       "      <td>M</td>\n",
       "      <td>NaN</td>\n",
       "      <td>NaT</td>\n",
       "      <td>NaN</td>\n",
       "      <td>NaN</td>\n",
       "      <td>NaN</td>\n",
       "      <td>NaN</td>\n",
       "    </tr>\n",
       "    <tr>\n",
       "      <th>22</th>\n",
       "      <td>Aron</td>\n",
       "      <td>1993-05-21</td>\n",
       "      <td>NU'EST</td>\n",
       "      <td>South Korea</td>\n",
       "      <td>California</td>\n",
       "      <td>M</td>\n",
       "      <td>NU'EST</td>\n",
       "      <td>2012-03-15</td>\n",
       "      <td>Pledis</td>\n",
       "      <td>5.0</td>\n",
       "      <td>5.0</td>\n",
       "      <td>Yes</td>\n",
       "    </tr>\n",
       "  </tbody>\n",
       "</table>\n",
       "</div>"
      ],
      "text/plain": [
       "   Name_Idol Date of Birth      Group      Country  Birthplace Gender  \\\n",
       "0        A.M    1996-12-31  Limitless  South Korea     Unknown      M   \n",
       "1        Ace    1992-08-28        VAV  South Korea     Unknown      M   \n",
       "12     Allen    1999-04-26    CRAVITY          USA     Unknown      M   \n",
       "15   Anthony    1998-03-12    VARSITY        China     Unknown      M   \n",
       "22      Aron    1993-05-21     NU'EST  South Korea  California      M   \n",
       "\n",
       "   Name_Group      Debut   Company  Members  Orig. Memb. Active  \n",
       "0   Limitless 2019-07-09       ONO      4.0          4.0    Yes  \n",
       "1         VAV 2015-10-31    A team      7.0          6.0    Yes  \n",
       "12    CRAVITY 2020-04-04  Starship      9.0          9.0    Yes  \n",
       "15        NaN        NaT       NaN      NaN          NaN    NaN  \n",
       "22     NU'EST 2012-03-15    Pledis      5.0          5.0    Yes  "
      ]
     },
     "execution_count": 38,
     "metadata": {},
     "output_type": "execute_result"
    }
   ],
   "source": [
    "m_idols_n_groups.head()"
   ]
  },
  {
   "cell_type": "code",
   "execution_count": 39,
   "id": "62be21c6",
   "metadata": {},
   "outputs": [
    {
     "name": "stdout",
     "output_type": "stream",
     "text": [
      "<class 'pandas.core.frame.DataFrame'>\n",
      "Int64Index: 676 entries, 0 to 1308\n",
      "Data columns (total 12 columns):\n",
      " #   Column         Non-Null Count  Dtype         \n",
      "---  ------         --------------  -----         \n",
      " 0   Name_Idol      676 non-null    object        \n",
      " 1   Date of Birth  676 non-null    object        \n",
      " 2   Group          676 non-null    object        \n",
      " 3   Country        676 non-null    object        \n",
      " 4   Birthplace     676 non-null    object        \n",
      " 5   Gender         676 non-null    object        \n",
      " 6   Name_Group     465 non-null    object        \n",
      " 7   Debut          465 non-null    datetime64[ns]\n",
      " 8   Company        465 non-null    object        \n",
      " 9   Members        465 non-null    float64       \n",
      " 10  Orig. Memb.    465 non-null    float64       \n",
      " 11  Active         465 non-null    object        \n",
      "dtypes: datetime64[ns](1), float64(2), object(9)\n",
      "memory usage: 68.7+ KB\n"
     ]
    }
   ],
   "source": [
    "m_idols_n_groups.info() # 200 missing rows / Soloists in the BG dataframe"
   ]
  },
  {
   "cell_type": "markdown",
   "id": "0457b4b6",
   "metadata": {},
   "source": [
    "# Gathering Insights & Visualizations!!!!"
   ]
  },
  {
   "cell_type": "markdown",
   "id": "9d47bb07",
   "metadata": {},
   "source": [
    "## MV DataFrame"
   ]
  },
  {
   "cell_type": "code",
   "execution_count": 40,
   "id": "8355328f",
   "metadata": {},
   "outputs": [
    {
     "data": {
      "text/html": [
       "<div>\n",
       "<style scoped>\n",
       "    .dataframe tbody tr th:only-of-type {\n",
       "        vertical-align: middle;\n",
       "    }\n",
       "\n",
       "    .dataframe tbody tr th {\n",
       "        vertical-align: top;\n",
       "    }\n",
       "\n",
       "    .dataframe thead th {\n",
       "        text-align: right;\n",
       "    }\n",
       "</style>\n",
       "<table border=\"1\" class=\"dataframe\">\n",
       "  <thead>\n",
       "    <tr style=\"text-align: right;\">\n",
       "      <th></th>\n",
       "      <th>Date</th>\n",
       "      <th>Artist</th>\n",
       "      <th>Song Name</th>\n",
       "      <th>Type</th>\n",
       "      <th>Release</th>\n",
       "    </tr>\n",
       "  </thead>\n",
       "  <tbody>\n",
       "    <tr>\n",
       "      <th>0</th>\n",
       "      <td>2020-05-22</td>\n",
       "      <td>Agust D</td>\n",
       "      <td>Daechwita</td>\n",
       "      <td>Boy Solo</td>\n",
       "      <td>Major</td>\n",
       "    </tr>\n",
       "    <tr>\n",
       "      <th>1</th>\n",
       "      <td>2020-05-21</td>\n",
       "      <td>Yubin</td>\n",
       "      <td>yaya (Me Time)</td>\n",
       "      <td>Girl Solo</td>\n",
       "      <td>Major</td>\n",
       "    </tr>\n",
       "    <tr>\n",
       "      <th>2</th>\n",
       "      <td>2020-05-21</td>\n",
       "      <td>OnlyOneOf</td>\n",
       "      <td>Angel (prod. GRAY)</td>\n",
       "      <td>Boy Group</td>\n",
       "      <td>Major</td>\n",
       "    </tr>\n",
       "    <tr>\n",
       "      <th>3</th>\n",
       "      <td>2020-05-20</td>\n",
       "      <td>Ryu Sujeong</td>\n",
       "      <td>Tiger Eyes</td>\n",
       "      <td>Girl Solo</td>\n",
       "      <td>Major</td>\n",
       "    </tr>\n",
       "    <tr>\n",
       "      <th>4</th>\n",
       "      <td>2020-05-20</td>\n",
       "      <td>Crush</td>\n",
       "      <td>Mayday feat. Joy (Red Velvet)</td>\n",
       "      <td>Boy Solo</td>\n",
       "      <td>Major</td>\n",
       "    </tr>\n",
       "  </tbody>\n",
       "</table>\n",
       "</div>"
      ],
      "text/plain": [
       "        Date       Artist                      Song Name       Type Release\n",
       "0 2020-05-22      Agust D                      Daechwita   Boy Solo   Major\n",
       "1 2020-05-21        Yubin                 yaya (Me Time)  Girl Solo   Major\n",
       "2 2020-05-21    OnlyOneOf             Angel (prod. GRAY)  Boy Group   Major\n",
       "3 2020-05-20  Ryu Sujeong                     Tiger Eyes  Girl Solo   Major\n",
       "4 2020-05-20        Crush  Mayday feat. Joy (Red Velvet)   Boy Solo   Major"
      ]
     },
     "execution_count": 40,
     "metadata": {},
     "output_type": "execute_result"
    }
   ],
   "source": [
    "mv.head()"
   ]
  },
  {
   "cell_type": "markdown",
   "id": "84da88ee",
   "metadata": {},
   "source": [
    "### Music Videos Count by Year"
   ]
  },
  {
   "cell_type": "code",
   "execution_count": 41,
   "id": "4f5ac8bf",
   "metadata": {},
   "outputs": [
    {
     "data": {
      "text/plain": [
       "Year\n",
       "1992      2\n",
       "1993      2\n",
       "1994      2\n",
       "1995      5\n",
       "1996      3\n",
       "1997      3\n",
       "1998      4\n",
       "1999      9\n",
       "2000      4\n",
       "2001      5\n",
       "2002      3\n",
       "2003      6\n",
       "2004     29\n",
       "2005     21\n",
       "2006     27\n",
       "2007     44\n",
       "2008     70\n",
       "2009     85\n",
       "2010    108\n",
       "2011    169\n",
       "2012    245\n",
       "2013    273\n",
       "2014    310\n",
       "2015    316\n",
       "2016    373\n",
       "2017    470\n",
       "2018    500\n",
       "2019    503\n",
       "2020    167\n",
       "Name: Song Name, dtype: int64"
      ]
     },
     "execution_count": 41,
     "metadata": {},
     "output_type": "execute_result"
    },
    {
     "data": {
      "image/png": "[encoded data removed]",
      "text/plain": [
       "<Figure size 460.8x403.2 with 1 Axes>"
      ]
     },
     "metadata": {},
     "output_type": "display_data"
    }
   ],
   "source": [
    "mv[\"Year\"] = mv[\"Date\"].dt.year # Creating new year column\n",
    "mv_by_year = mv.groupby(\"Year\")[\"Song Name\"].count() # Grouping MVs by year, then getting the total count\n",
    "\n",
    "plt.title(\"Kpop MVs releaesed by year\")\n",
    "plt.xlabel(\"Year\")\n",
    "plt.ylabel(\"Count of MVs\") \n",
    "mv_by_year.plot.line()\n",
    "\n",
    "mv_by_year"
   ]
  },
  {
   "cell_type": "markdown",
   "id": "27f2abc5",
   "metadata": {},
   "source": [
    "### Segmentation of Types of Music Videos"
   ]
  },
  {
   "cell_type": "code",
   "execution_count": 42,
   "id": "ca74f664",
   "metadata": {},
   "outputs": [
    {
     "data": {
      "text/plain": [
       "Type\n",
       "Boy Group     1958\n",
       "Boy Solo       139\n",
       "Co-ed          132\n",
       "Girl Group    1324\n",
       "Girl Solo      204\n",
       "Special          1\n",
       "Name: Song Name, dtype: int64"
      ]
     },
     "execution_count": 42,
     "metadata": {},
     "output_type": "execute_result"
    },
    {
     "data": {
      "image/png": "[encoded data removed]",
      "text/plain": [
       "<Figure size 2160x720 with 1 Axes>"
      ]
     },
     "metadata": {},
     "output_type": "display_data"
    }
   ],
   "source": [
    "mv.Type.unique() # As fixed earlier\n",
    "mv_by_type = mv.groupby(\"Type\")[\"Song Name\"].count()\n",
    "\n",
    "plt.rcParams[\"figure.figsize\"] = (30,10)\n",
    "plt.title(\"Types of MV\")\n",
    "\n",
    "mv_by_type.plot.pie(explode=(0.05, 0, 0, 0, 0, 0), autopct='%1.2f%%', shadow=True)\n",
    "plt.legend(labels=mv_by_type.index, loc=\"upper right\")\n",
    "mv_by_type"
   ]
  },
  {
   "cell_type": "markdown",
   "id": "ec6b90b0",
   "metadata": {},
   "source": [
    "## Girl Groups Dataframe"
   ]
  },
  {
   "cell_type": "code",
   "execution_count": 43,
   "id": "8f0ee923",
   "metadata": {},
   "outputs": [
    {
     "data": {
      "text/html": [
       "<div>\n",
       "<style scoped>\n",
       "    .dataframe tbody tr th:only-of-type {\n",
       "        vertical-align: middle;\n",
       "    }\n",
       "\n",
       "    .dataframe tbody tr th {\n",
       "        vertical-align: top;\n",
       "    }\n",
       "\n",
       "    .dataframe thead th {\n",
       "        text-align: right;\n",
       "    }\n",
       "</style>\n",
       "<table border=\"1\" class=\"dataframe\">\n",
       "  <thead>\n",
       "    <tr style=\"text-align: right;\">\n",
       "      <th></th>\n",
       "      <th>Name</th>\n",
       "      <th>Debut</th>\n",
       "      <th>Company</th>\n",
       "      <th>Members</th>\n",
       "      <th>Orig. Memb.</th>\n",
       "      <th>Active</th>\n",
       "    </tr>\n",
       "  </thead>\n",
       "  <tbody>\n",
       "    <tr>\n",
       "      <th>0</th>\n",
       "      <td>(G)I-DLE</td>\n",
       "      <td>2018-05-02</td>\n",
       "      <td>Cube</td>\n",
       "      <td>6</td>\n",
       "      <td>6</td>\n",
       "      <td>Yes</td>\n",
       "    </tr>\n",
       "    <tr>\n",
       "      <th>1</th>\n",
       "      <td>15&amp;</td>\n",
       "      <td>2012-10-05</td>\n",
       "      <td>JYP</td>\n",
       "      <td>2</td>\n",
       "      <td>2</td>\n",
       "      <td>No</td>\n",
       "    </tr>\n",
       "    <tr>\n",
       "      <th>2</th>\n",
       "      <td>2EYES</td>\n",
       "      <td>2013-07-20</td>\n",
       "      <td>SidusHQ</td>\n",
       "      <td>4</td>\n",
       "      <td>5</td>\n",
       "      <td>No</td>\n",
       "    </tr>\n",
       "    <tr>\n",
       "      <th>3</th>\n",
       "      <td>2NE1</td>\n",
       "      <td>2009-05-06</td>\n",
       "      <td>YG</td>\n",
       "      <td>4</td>\n",
       "      <td>4</td>\n",
       "      <td>No</td>\n",
       "    </tr>\n",
       "    <tr>\n",
       "      <th>4</th>\n",
       "      <td>3YE</td>\n",
       "      <td>2019-05-21</td>\n",
       "      <td>GH</td>\n",
       "      <td>3</td>\n",
       "      <td>3</td>\n",
       "      <td>Yes</td>\n",
       "    </tr>\n",
       "  </tbody>\n",
       "</table>\n",
       "</div>"
      ],
      "text/plain": [
       "       Name      Debut  Company  Members  Orig. Memb. Active\n",
       "0  (G)I-DLE 2018-05-02     Cube        6            6    Yes\n",
       "1       15& 2012-10-05      JYP        2            2     No\n",
       "2     2EYES 2013-07-20  SidusHQ        4            5     No\n",
       "3      2NE1 2009-05-06       YG        4            4     No\n",
       "4       3YE 2019-05-21       GH        3            3    Yes"
      ]
     },
     "execution_count": 43,
     "metadata": {},
     "output_type": "execute_result"
    }
   ],
   "source": [
    "gg.head()"
   ]
  },
  {
   "cell_type": "markdown",
   "id": "81efa61c",
   "metadata": {},
   "source": [
    "### 1. Which companies have the most girl groups?"
   ]
  },
  {
   "cell_type": "code",
   "execution_count": 44,
   "id": "2ea96a8a",
   "metadata": {
    "scrolled": false
   },
   "outputs": [
    {
     "data": {
      "text/plain": [
       "SM             5\n",
       "JYP            5\n",
       "Cube           3\n",
       "DSP            3\n",
       "Happy Face     3\n",
       "MBK            3\n",
       "Maroo          3\n",
       "Star Empire    2\n",
       "FNC            2\n",
       "Pledis         2\n",
       "Name: Company, dtype: int64"
      ]
     },
     "execution_count": 44,
     "metadata": {},
     "output_type": "execute_result"
    },
    {
     "data": {
      "image/png": "[encoded data removed]",
      "text/plain": [
       "<Figure size 2160x720 with 1 Axes>"
      ]
     },
     "metadata": {},
     "output_type": "display_data"
    }
   ],
   "source": [
    "topgg = gg[\"Company\"].value_counts().sort_values(ascending=False)\n",
    "\n",
    "topgg[:10].plot.bar()\n",
    "plt.title(\"Top 10 Companies with the most girl groups\")\n",
    "\n",
    "topgg.head(10)"
   ]
  },
  {
   "cell_type": "markdown",
   "id": "8b4ad598",
   "metadata": {},
   "source": [
    "### 2. Girl Group Debuts by year"
   ]
  },
  {
   "cell_type": "code",
   "execution_count": 45,
   "id": "8da13595",
   "metadata": {},
   "outputs": [
    {
     "data": {
      "text/plain": [
       "1997     2\n",
       "2001     1\n",
       "2005     2\n",
       "2006     1\n",
       "2007     4\n",
       "2008     1\n",
       "2009     6\n",
       "2010     4\n",
       "2011    11\n",
       "2012    13\n",
       "2013     6\n",
       "2014    13\n",
       "2015    12\n",
       "2016    17\n",
       "2017    23\n",
       "2018    22\n",
       "2019    12\n",
       "2020     2\n",
       "Name: Year, dtype: int64"
      ]
     },
     "execution_count": 45,
     "metadata": {},
     "output_type": "execute_result"
    },
    {
     "data": {
      "image/png": "[encoded data removed]",
      "text/plain": [
       "<Figure size 2160x720 with 1 Axes>"
      ]
     },
     "metadata": {},
     "output_type": "display_data"
    }
   ],
   "source": [
    "gg[\"Year\"] = gg.Debut.dt.year\n",
    "\n",
    "debut_per_year = gg[\"Year\"].value_counts().sort_index()\n",
    "\n",
    "debut_per_year.plot.line(linewidth = \"5\", color=\"yellow\")\n",
    "plt.title(\"K-Pop Girl Group debuts per year\")\n",
    "\n",
    "debut_per_year"
   ]
  },
  {
   "cell_type": "markdown",
   "id": "ebf955d1",
   "metadata": {},
   "source": [
    "### 3. Average no. of members that have left their girl groups"
   ]
  },
  {
   "cell_type": "code",
   "execution_count": 46,
   "id": "e427a541",
   "metadata": {
    "scrolled": true
   },
   "outputs": [
    {
     "name": "stdout",
     "output_type": "stream",
     "text": [
      "Average: 1.0\n"
     ]
    }
   ],
   "source": [
    "change = gg[gg[\"Orig. Memb.\"] - gg[\"Members\"] > 0][\"Orig. Memb.\"] - gg[gg[\"Orig. Memb.\"] - gg[\"Members\"] > 0][\"Members\"]\n",
    "print(\"Average: \" + str(change.mean() // 1))"
   ]
  },
  {
   "cell_type": "markdown",
   "id": "293d4d2d",
   "metadata": {},
   "source": [
    "### 4. Active vs Inactive Girl Groups"
   ]
  },
  {
   "cell_type": "code",
   "execution_count": 47,
   "id": "5129e9fb",
   "metadata": {
    "scrolled": false
   },
   "outputs": [
    {
     "data": {
      "image/png": "[encoded data removed]",
      "text/plain": [
       "<Figure size 2160x720 with 1 Axes>"
      ]
     },
     "metadata": {},
     "output_type": "display_data"
    }
   ],
   "source": [
    "gg[\"Active\"].value_counts().plot.pie(autopct=\"%1.2f%%\")\n",
    "\n",
    "plt.title(\"Segmentation of Active Girl Groups\")\n",
    "\n",
    "plt.show()"
   ]
  },
  {
   "cell_type": "markdown",
   "id": "246e3da8",
   "metadata": {},
   "source": [
    "### 5. Average members per Girl Group"
   ]
  },
  {
   "cell_type": "code",
   "execution_count": 48,
   "id": "04e065de",
   "metadata": {},
   "outputs": [
    {
     "data": {
      "text/plain": [
       "5.0"
      ]
     },
     "execution_count": 48,
     "metadata": {},
     "output_type": "execute_result"
    }
   ],
   "source": [
    "gg[\"Members\"].mean() // 1"
   ]
  },
  {
   "cell_type": "markdown",
   "id": "d698dc25",
   "metadata": {},
   "source": [
    "# Boy groups Dataframe"
   ]
  },
  {
   "cell_type": "code",
   "execution_count": 49,
   "id": "1ec16125",
   "metadata": {},
   "outputs": [
    {
     "data": {
      "text/html": [
       "<div>\n",
       "<style scoped>\n",
       "    .dataframe tbody tr th:only-of-type {\n",
       "        vertical-align: middle;\n",
       "    }\n",
       "\n",
       "    .dataframe tbody tr th {\n",
       "        vertical-align: top;\n",
       "    }\n",
       "\n",
       "    .dataframe thead th {\n",
       "        text-align: right;\n",
       "    }\n",
       "</style>\n",
       "<table border=\"1\" class=\"dataframe\">\n",
       "  <thead>\n",
       "    <tr style=\"text-align: right;\">\n",
       "      <th></th>\n",
       "      <th>Name</th>\n",
       "      <th>Debut</th>\n",
       "      <th>Company</th>\n",
       "      <th>Members</th>\n",
       "      <th>Orig. Memb.</th>\n",
       "      <th>Active</th>\n",
       "    </tr>\n",
       "  </thead>\n",
       "  <tbody>\n",
       "    <tr>\n",
       "      <th>0</th>\n",
       "      <td>100%</td>\n",
       "      <td>2012-09-18</td>\n",
       "      <td>TOP Media</td>\n",
       "      <td>4</td>\n",
       "      <td>7</td>\n",
       "      <td>Yes</td>\n",
       "    </tr>\n",
       "    <tr>\n",
       "      <th>1</th>\n",
       "      <td>14U</td>\n",
       "      <td>2017-04-17</td>\n",
       "      <td>BG</td>\n",
       "      <td>14</td>\n",
       "      <td>14</td>\n",
       "      <td>Yes</td>\n",
       "    </tr>\n",
       "    <tr>\n",
       "      <th>2</th>\n",
       "      <td>1the9</td>\n",
       "      <td>2019-02-09</td>\n",
       "      <td>MBK</td>\n",
       "      <td>9</td>\n",
       "      <td>9</td>\n",
       "      <td>Yes</td>\n",
       "    </tr>\n",
       "    <tr>\n",
       "      <th>3</th>\n",
       "      <td>24K</td>\n",
       "      <td>2012-09-06</td>\n",
       "      <td>Choeun</td>\n",
       "      <td>8</td>\n",
       "      <td>6</td>\n",
       "      <td>Yes</td>\n",
       "    </tr>\n",
       "    <tr>\n",
       "      <th>4</th>\n",
       "      <td>2AM</td>\n",
       "      <td>2008-06-21</td>\n",
       "      <td>JYP, Big Hit</td>\n",
       "      <td>4</td>\n",
       "      <td>4</td>\n",
       "      <td>No</td>\n",
       "    </tr>\n",
       "  </tbody>\n",
       "</table>\n",
       "</div>"
      ],
      "text/plain": [
       "    Name      Debut       Company  Members  Orig. Memb. Active\n",
       "0   100% 2012-09-18     TOP Media        4            7    Yes\n",
       "1    14U 2017-04-17            BG       14           14    Yes\n",
       "2  1the9 2019-02-09           MBK        9            9    Yes\n",
       "3    24K 2012-09-06        Choeun        8            6    Yes\n",
       "4    2AM 2008-06-21  JYP, Big Hit        4            4     No"
      ]
     },
     "execution_count": 49,
     "metadata": {},
     "output_type": "execute_result"
    }
   ],
   "source": [
    "bg.head()"
   ]
  },
  {
   "cell_type": "markdown",
   "id": "27a5416a",
   "metadata": {},
   "source": [
    "### 1. Small clean up to remove double Company groups"
   ]
  },
  {
   "cell_type": "code",
   "execution_count": 50,
   "id": "f06f0091",
   "metadata": {},
   "outputs": [
    {
     "data": {
      "text/plain": [
       "array(['TOP Media', 'BG', 'MBK', 'Choeun', 'JYP', 'Big Hit', 'DSP',\n",
       "       'Beat', 'Wings', 'DS', 'Brand New', 'Simtong', 'Fantagio', 'KQ',\n",
       "       'TS', 'Poong', 'GH', 'WM', 'Chrome', 'Elen', 'YG', 'HO', 'Brave',\n",
       "       'BLACK HOLE', 'Jackpot', 'Byking', 'Starship', 'Happy Tribe',\n",
       "       'Cube', 'Yedang', 'UPVOTE', 'C9', 'FNC', 'Amuse', 'All-S',\n",
       "       'Monkey Funch', 'KITHEWHALE', 'SM', 'Woollim', 'DNA', 'Rainbow',\n",
       "       'Histar', 'NAP', 'Around Us', 'LOEN', 'Star Crew', 'Star Empire',\n",
       "       'MMO', 'Music K', 'Fave', 'Hunus', 'Jackie Chan Group', 'C-JeS',\n",
       "       'YNB', 'ONO', 'JWK', 'NOGA', 'Jungle', 'FM', 'GNI', 'DreamT',\n",
       "       'JJ Holic', 'J. Tune', 'Midas', 'WinningIn', 'MustM', 'PH', 'H2',\n",
       "       'The Music Works', 'C2K', 'MediaLine', 'J-FLO', 'LUK',\n",
       "       'High Choice', 'Pledis', 'RBW', '(Genie)', 'Coconut', 'CT',\n",
       "       'Staro', 'B2M', 'J-Star', 'Widmay', 'WYNN', 'CJ E&M', 'TNS',\n",
       "       'Cre.Ker', 'SS', 'Stardium', 'Stardom', 'JSL', 'NH Media',\n",
       "       'Unit Culture', 'Yuehua', 'GKC', 'A team', 'Jellyfish', 'JJJ',\n",
       "       'Plan A', 'Evermore', 'YMC', 'Choon'], dtype=object)"
      ]
     },
     "execution_count": 50,
     "metadata": {},
     "output_type": "execute_result"
    }
   ],
   "source": [
    "bg.Company.unique()\n",
    "\n",
    "companies = [x.split(\", \")[0] for x in bg.Company]\n",
    "bg.Company = companies\n",
    "bg.Company.unique()"
   ]
  },
  {
   "cell_type": "markdown",
   "id": "03187a31",
   "metadata": {},
   "source": [
    "### 2. Top 10 Companies with the most Boy Groups"
   ]
  },
  {
   "cell_type": "code",
   "execution_count": 51,
   "id": "030bac99",
   "metadata": {},
   "outputs": [
    {
     "data": {
      "text/plain": [
       "SM           9\n",
       "JYP          6\n",
       "FNC          5\n",
       "Big Hit      4\n",
       "Brand New    3\n",
       "YG           3\n",
       "Starship     3\n",
       "TOP Media    3\n",
       "DSP          3\n",
       "MBK          3\n",
       "Name: Company, dtype: int64"
      ]
     },
     "execution_count": 51,
     "metadata": {},
     "output_type": "execute_result"
    },
    {
     "data": {
      "image/png": "[encoded data removed]",
      "text/plain": [
       "<Figure size 2160x720 with 1 Axes>"
      ]
     },
     "metadata": {},
     "output_type": "display_data"
    }
   ],
   "source": [
    "bg_count = bg[\"Company\"].value_counts()[:10]\n",
    "\n",
    "bg_count.plot.bar()\n",
    "plt.title(\"Number of Boy Groups per Company\")\n",
    "\n",
    "bg_count"
   ]
  },
  {
   "cell_type": "markdown",
   "id": "d5e89aad",
   "metadata": {},
   "source": [
    "### 3. Boy Group debuts by year "
   ]
  },
  {
   "cell_type": "code",
   "execution_count": 52,
   "id": "8b68b662",
   "metadata": {},
   "outputs": [
    {
     "data": {
      "text/plain": [
       "<AxesSubplot:>"
      ]
     },
     "execution_count": 52,
     "metadata": {},
     "output_type": "execute_result"
    },
    {
     "data": {
      "image/png": "[encoded data removed]",
      "text/plain": [
       "<Figure size 2160x720 with 1 Axes>"
      ]
     },
     "metadata": {},
     "output_type": "display_data"
    }
   ],
   "source": [
    "bg[\"Year\"] = bg.Debut.dt.year\n",
    "\n",
    "bg[\"Year\"].value_counts().sort_index().plot.line(linewidth=\"5\", color=\"red\")"
   ]
  },
  {
   "cell_type": "markdown",
   "id": "aec64c40",
   "metadata": {},
   "source": [
    "### 4. Average no. of members per boy group"
   ]
  },
  {
   "cell_type": "code",
   "execution_count": 53,
   "id": "2733d53b",
   "metadata": {},
   "outputs": [
    {
     "data": {
      "text/plain": [
       "5.945205479452055"
      ]
     },
     "execution_count": 53,
     "metadata": {},
     "output_type": "execute_result"
    }
   ],
   "source": [
    "bg[\"Members\"].mean()"
   ]
  },
  {
   "cell_type": "markdown",
   "id": "8b96a2fc",
   "metadata": {},
   "source": [
    "### 5. Average no. of members that left boy groups"
   ]
  },
  {
   "cell_type": "code",
   "execution_count": 54,
   "id": "a6f3137b",
   "metadata": {},
   "outputs": [
    {
     "name": "stdout",
     "output_type": "stream",
     "text": [
      "Average: 1.6923076923076923\n"
     ]
    }
   ],
   "source": [
    "change = bg[bg[\"Orig. Memb.\"] - bg[\"Members\"] > 0][\"Orig. Memb.\"] - bg[bg[\"Orig. Memb.\"] - bg[\"Members\"] > 0][\"Members\"]\n",
    "print(\"Average: {}\".format(change.mean()))"
   ]
  },
  {
   "cell_type": "markdown",
   "id": "d5fb8629",
   "metadata": {},
   "source": [
    "### 6. Active vs Inactive vs Hiatus Boy Groups"
   ]
  },
  {
   "cell_type": "code",
   "execution_count": 55,
   "id": "7755a248",
   "metadata": {},
   "outputs": [
    {
     "data": {
      "text/plain": [
       "array(['Yes', 'No', 'Hiatus'], dtype=object)"
      ]
     },
     "execution_count": 55,
     "metadata": {},
     "output_type": "execute_result"
    }
   ],
   "source": [
    "bg[\"Active\"].unique()"
   ]
  },
  {
   "cell_type": "code",
   "execution_count": 56,
   "id": "4cf3284c",
   "metadata": {},
   "outputs": [
    {
     "data": {
      "text/plain": [
       "Yes       110\n",
       "No         32\n",
       "Hiatus      4\n",
       "Name: Active, dtype: int64"
      ]
     },
     "execution_count": 56,
     "metadata": {},
     "output_type": "execute_result"
    },
    {
     "data": {
      "image/png": "[encoded data removed]",
      "text/plain": [
       "<Figure size 2160x720 with 1 Axes>"
      ]
     },
     "metadata": {},
     "output_type": "display_data"
    }
   ],
   "source": [
    "bg[\"Active\"].value_counts().plot.pie(autopct=\"%1.2f%%\")\n",
    "plt.title(\"Segmentation of Active Boy Groups\")\n",
    "bg[\"Active\"].value_counts()"
   ]
  },
  {
   "cell_type": "markdown",
   "id": "63631c78",
   "metadata": {},
   "source": [
    "## Idols n Groups dataframes"
   ]
  },
  {
   "cell_type": "code",
   "execution_count": 57,
   "id": "3533ff1b",
   "metadata": {
    "scrolled": true
   },
   "outputs": [
    {
     "data": {
      "text/html": [
       "<div>\n",
       "<style scoped>\n",
       "    .dataframe tbody tr th:only-of-type {\n",
       "        vertical-align: middle;\n",
       "    }\n",
       "\n",
       "    .dataframe tbody tr th {\n",
       "        vertical-align: top;\n",
       "    }\n",
       "\n",
       "    .dataframe thead th {\n",
       "        text-align: right;\n",
       "    }\n",
       "</style>\n",
       "<table border=\"1\" class=\"dataframe\">\n",
       "  <thead>\n",
       "    <tr style=\"text-align: right;\">\n",
       "      <th></th>\n",
       "      <th>Name_Idol</th>\n",
       "      <th>Date of Birth</th>\n",
       "      <th>Group</th>\n",
       "      <th>Country</th>\n",
       "      <th>Birthplace</th>\n",
       "      <th>Gender</th>\n",
       "      <th>Name_Group</th>\n",
       "      <th>Debut</th>\n",
       "      <th>Company</th>\n",
       "      <th>Members</th>\n",
       "      <th>Orig. Memb.</th>\n",
       "      <th>Active</th>\n",
       "    </tr>\n",
       "  </thead>\n",
       "  <tbody>\n",
       "    <tr>\n",
       "      <th>2</th>\n",
       "      <td>Aeji</td>\n",
       "      <td>1999-10-25</td>\n",
       "      <td>Hashtag</td>\n",
       "      <td>South Korea</td>\n",
       "      <td>Daegu</td>\n",
       "      <td>F</td>\n",
       "      <td>NaN</td>\n",
       "      <td>NaT</td>\n",
       "      <td>NaN</td>\n",
       "      <td>NaN</td>\n",
       "      <td>NaN</td>\n",
       "      <td>NaN</td>\n",
       "    </tr>\n",
       "    <tr>\n",
       "      <th>3</th>\n",
       "      <td>AhIn</td>\n",
       "      <td>1999-09-27</td>\n",
       "      <td>MOMOLAND</td>\n",
       "      <td>South Korea</td>\n",
       "      <td>Wonju</td>\n",
       "      <td>F</td>\n",
       "      <td>NaN</td>\n",
       "      <td>NaT</td>\n",
       "      <td>NaN</td>\n",
       "      <td>NaN</td>\n",
       "      <td>NaN</td>\n",
       "      <td>NaN</td>\n",
       "    </tr>\n",
       "    <tr>\n",
       "      <th>4</th>\n",
       "      <td>Ahra</td>\n",
       "      <td>2001-02-21</td>\n",
       "      <td>Favorite</td>\n",
       "      <td>South Korea</td>\n",
       "      <td>Yeosu</td>\n",
       "      <td>F</td>\n",
       "      <td>Favorite</td>\n",
       "      <td>2017-07-05</td>\n",
       "      <td>Astory</td>\n",
       "      <td>6.0</td>\n",
       "      <td>6.0</td>\n",
       "      <td>Yes</td>\n",
       "    </tr>\n",
       "    <tr>\n",
       "      <th>5</th>\n",
       "      <td>Ahyoung</td>\n",
       "      <td>1991-05-26</td>\n",
       "      <td>Dal Shabet</td>\n",
       "      <td>South Korea</td>\n",
       "      <td>Seoul</td>\n",
       "      <td>F</td>\n",
       "      <td>Dal Shabet</td>\n",
       "      <td>2011-01-03</td>\n",
       "      <td>Happy Face</td>\n",
       "      <td>4.0</td>\n",
       "      <td>6.0</td>\n",
       "      <td>Hiatus</td>\n",
       "    </tr>\n",
       "    <tr>\n",
       "      <th>6</th>\n",
       "      <td>Ahyung</td>\n",
       "      <td>1996-08-27</td>\n",
       "      <td>P.O.P</td>\n",
       "      <td>South Korea</td>\n",
       "      <td>Pohang</td>\n",
       "      <td>F</td>\n",
       "      <td>P.O.P</td>\n",
       "      <td>2017-07-26</td>\n",
       "      <td>DWM</td>\n",
       "      <td>6.0</td>\n",
       "      <td>6.0</td>\n",
       "      <td>Yes</td>\n",
       "    </tr>\n",
       "  </tbody>\n",
       "</table>\n",
       "</div>"
      ],
      "text/plain": [
       "  Name_Idol Date of Birth       Group      Country Birthplace Gender  \\\n",
       "2      Aeji    1999-10-25     Hashtag  South Korea      Daegu      F   \n",
       "3      AhIn    1999-09-27    MOMOLAND  South Korea      Wonju      F   \n",
       "4      Ahra    2001-02-21    Favorite  South Korea      Yeosu      F   \n",
       "5   Ahyoung    1991-05-26  Dal Shabet  South Korea      Seoul      F   \n",
       "6    Ahyung    1996-08-27       P.O.P  South Korea     Pohang      F   \n",
       "\n",
       "   Name_Group      Debut     Company  Members  Orig. Memb.  Active  \n",
       "2         NaN        NaT         NaN      NaN          NaN     NaN  \n",
       "3         NaN        NaT         NaN      NaN          NaN     NaN  \n",
       "4    Favorite 2017-07-05      Astory      6.0          6.0     Yes  \n",
       "5  Dal Shabet 2011-01-03  Happy Face      4.0          6.0  Hiatus  \n",
       "6       P.O.P 2017-07-26         DWM      6.0          6.0     Yes  "
      ]
     },
     "execution_count": 57,
     "metadata": {},
     "output_type": "execute_result"
    }
   ],
   "source": [
    "f_idols_n_groups.head()"
   ]
  },
  {
   "cell_type": "markdown",
   "id": "4cb17e02",
   "metadata": {},
   "source": [
    "1. Average age of female Kpop Idols"
   ]
  },
  {
   "cell_type": "code",
   "execution_count": 58,
   "id": "e554493a",
   "metadata": {},
   "outputs": [
    {
     "name": "stdout",
     "output_type": "stream",
     "text": [
      "Average age of female Kpop Idols: 26.0\n"
     ]
    }
   ],
   "source": [
    "current_year = datetime.date.today().year\n",
    "current_year\n",
    "\n",
    "f_idols_n_groups[\"Date of Birth\"] = pd.to_datetime(f_idols_n_groups[\"Date of Birth\"])\n",
    "\n",
    "f_idols_n_groups[\"Age\"] = current_year - f_idols_n_groups[\"Date of Birth\"].dt.year\n",
    "\n",
    "print(\"Average age of female Kpop Idols: \" + str(f_idols_n_groups.Age.mean() // 1))"
   ]
  },
  {
   "cell_type": "markdown",
   "id": "a2cdd5a7",
   "metadata": {},
   "source": [
    "2. Average age of debut for female Kpop Idols"
   ]
  },
  {
   "cell_type": "code",
   "execution_count": 59,
   "id": "39bca1c2",
   "metadata": {},
   "outputs": [
    {
     "name": "stdout",
     "output_type": "stream",
     "text": [
      "Average age of debut for female Kpop Idols: 19.0\n"
     ]
    }
   ],
   "source": [
    "f_idols_n_groups[\"Debut Age\"] = f_idols_n_groups.Debut.dt.year - f_idols_n_groups[\"Date of Birth\"].dt.year\n",
    "print(\"Average age of debut for female Kpop Idols: \" + str(f_idols_n_groups[\"Debut Age\"].mean() // 1))"
   ]
  },
  {
   "cell_type": "markdown",
   "id": "7ee8bb0e",
   "metadata": {},
   "source": [
    "3. Foreign Female Kpop Idols"
   ]
  },
  {
   "cell_type": "code",
   "execution_count": 60,
   "id": "aa67e703",
   "metadata": {
    "scrolled": false
   },
   "outputs": [
    {
     "data": {
      "text/html": [
       "<div>\n",
       "<style scoped>\n",
       "    .dataframe tbody tr th:only-of-type {\n",
       "        vertical-align: middle;\n",
       "    }\n",
       "\n",
       "    .dataframe tbody tr th {\n",
       "        vertical-align: top;\n",
       "    }\n",
       "\n",
       "    .dataframe thead th {\n",
       "        text-align: right;\n",
       "    }\n",
       "</style>\n",
       "<table border=\"1\" class=\"dataframe\">\n",
       "  <thead>\n",
       "    <tr style=\"text-align: right;\">\n",
       "      <th></th>\n",
       "      <th>Name_Idol</th>\n",
       "      <th>Date of Birth</th>\n",
       "      <th>Group</th>\n",
       "      <th>Country</th>\n",
       "      <th>Birthplace</th>\n",
       "      <th>Gender</th>\n",
       "      <th>Name_Group</th>\n",
       "      <th>Debut</th>\n",
       "      <th>Company</th>\n",
       "      <th>Members</th>\n",
       "      <th>Orig. Memb.</th>\n",
       "      <th>Active</th>\n",
       "      <th>Age</th>\n",
       "      <th>Debut Age</th>\n",
       "    </tr>\n",
       "  </thead>\n",
       "  <tbody>\n",
       "    <tr>\n",
       "      <th>10</th>\n",
       "      <td>AleXa</td>\n",
       "      <td>1996-12-06</td>\n",
       "      <td>N/A</td>\n",
       "      <td>USA</td>\n",
       "      <td>Unknown</td>\n",
       "      <td>F</td>\n",
       "      <td>NaN</td>\n",
       "      <td>NaT</td>\n",
       "      <td>NaN</td>\n",
       "      <td>NaN</td>\n",
       "      <td>NaN</td>\n",
       "      <td>NaN</td>\n",
       "      <td>26</td>\n",
       "      <td>NaN</td>\n",
       "    </tr>\n",
       "    <tr>\n",
       "      <th>13</th>\n",
       "      <td>Amber</td>\n",
       "      <td>1992-09-18</td>\n",
       "      <td>f(x)</td>\n",
       "      <td>USA</td>\n",
       "      <td>Los Angeles</td>\n",
       "      <td>F</td>\n",
       "      <td>f(x)</td>\n",
       "      <td>2009-08-24</td>\n",
       "      <td>SM</td>\n",
       "      <td>4.0</td>\n",
       "      <td>5.0</td>\n",
       "      <td>No</td>\n",
       "      <td>30</td>\n",
       "      <td>17.0</td>\n",
       "    </tr>\n",
       "    <tr>\n",
       "      <th>25</th>\n",
       "      <td>Aurora</td>\n",
       "      <td>1997-01-14</td>\n",
       "      <td>NATURE</td>\n",
       "      <td>China</td>\n",
       "      <td>Unknown</td>\n",
       "      <td>F</td>\n",
       "      <td>NaN</td>\n",
       "      <td>NaT</td>\n",
       "      <td>NaN</td>\n",
       "      <td>NaN</td>\n",
       "      <td>NaN</td>\n",
       "      <td>NaN</td>\n",
       "      <td>25</td>\n",
       "      <td>NaN</td>\n",
       "    </tr>\n",
       "    <tr>\n",
       "      <th>74</th>\n",
       "      <td>Cao Lu</td>\n",
       "      <td>1987-08-30</td>\n",
       "      <td>Fiestar</td>\n",
       "      <td>China</td>\n",
       "      <td>Zhangjiajie</td>\n",
       "      <td>F</td>\n",
       "      <td>Fiestar</td>\n",
       "      <td>2012-08-31</td>\n",
       "      <td>LOEN</td>\n",
       "      <td>5.0</td>\n",
       "      <td>6.0</td>\n",
       "      <td>No</td>\n",
       "      <td>35</td>\n",
       "      <td>25.0</td>\n",
       "    </tr>\n",
       "    <tr>\n",
       "      <th>112</th>\n",
       "      <td>Cheng Xiao</td>\n",
       "      <td>1998-07-15</td>\n",
       "      <td>Cosmic Girls</td>\n",
       "      <td>China</td>\n",
       "      <td>Shenzhen</td>\n",
       "      <td>F</td>\n",
       "      <td>NaN</td>\n",
       "      <td>NaT</td>\n",
       "      <td>NaN</td>\n",
       "      <td>NaN</td>\n",
       "      <td>NaN</td>\n",
       "      <td>NaN</td>\n",
       "      <td>24</td>\n",
       "      <td>NaN</td>\n",
       "    </tr>\n",
       "  </tbody>\n",
       "</table>\n",
       "</div>"
      ],
      "text/plain": [
       "      Name_Idol Date of Birth         Group Country   Birthplace Gender  \\\n",
       "10        AleXa    1996-12-06           N/A     USA      Unknown      F   \n",
       "13        Amber    1992-09-18          f(x)     USA  Los Angeles      F   \n",
       "25       Aurora    1997-01-14        NATURE   China      Unknown      F   \n",
       "74       Cao Lu    1987-08-30       Fiestar   China  Zhangjiajie      F   \n",
       "112  Cheng Xiao    1998-07-15  Cosmic Girls   China     Shenzhen      F   \n",
       "\n",
       "    Name_Group      Debut Company  Members  Orig. Memb. Active  Age  Debut Age  \n",
       "10         NaN        NaT     NaN      NaN          NaN    NaN   26        NaN  \n",
       "13        f(x) 2009-08-24      SM      4.0          5.0     No   30       17.0  \n",
       "25         NaN        NaT     NaN      NaN          NaN    NaN   25        NaN  \n",
       "74     Fiestar 2012-08-31    LOEN      5.0          6.0     No   35       25.0  \n",
       "112        NaN        NaT     NaN      NaN          NaN    NaN   24        NaN  "
      ]
     },
     "execution_count": 60,
     "metadata": {},
     "output_type": "execute_result"
    }
   ],
   "source": [
    "foreign_f_idols = f_idols_n_groups[f_idols_n_groups[\"Country\"] != \"South Korea\"]\n",
    "foreign_f_idols.head()"
   ]
  },
  {
   "cell_type": "markdown",
   "id": "87e7eb5a",
   "metadata": {},
   "source": [
    "    3.1 Segmentation of COO (Country Of Origin) of Foreign Female Idols"
   ]
  },
  {
   "cell_type": "code",
   "execution_count": 61,
   "id": "a8b73bae",
   "metadata": {},
   "outputs": [
    {
     "data": {
      "image/png": "[encoded data removed]",
      "text/plain": [
       "<Figure size 2160x720 with 1 Axes>"
      ]
     },
     "metadata": {},
     "output_type": "display_data"
    },
    {
     "data": {
      "text/plain": [
       "Indonesia       1\n",
       "Canada          1\n",
       "Philippines     1\n",
       "Hong Kong       2\n",
       "Thailand        3\n",
       "USA             5\n",
       "Taiwan          5\n",
       "China          15\n",
       "Japan          18\n",
       "Name: Country, dtype: int64"
      ]
     },
     "execution_count": 61,
     "metadata": {},
     "output_type": "execute_result"
    }
   ],
   "source": [
    "coo = foreign_f_idols.Country.value_counts().sort_values()\n",
    "\n",
    "\n",
    "coo.plot.pie(colors=[\"red\", \"cyan\", \"orange\", \"purple\", \"blue\", \"green\", \"yellow\", \"brown\",\"darkgreen\"],\n",
    "            autopct=\"%1.2f%%\")\n",
    "\n",
    "plt.show()\n",
    "coo"
   ]
  },
  {
   "cell_type": "markdown",
   "id": "ebb677d1",
   "metadata": {},
   "source": [
    "4. Local Female Kpop Idols"
   ]
  },
  {
   "cell_type": "code",
   "execution_count": 65,
   "id": "9c03d984",
   "metadata": {},
   "outputs": [
    {
     "data": {
      "text/html": [
       "<div>\n",
       "<style scoped>\n",
       "    .dataframe tbody tr th:only-of-type {\n",
       "        vertical-align: middle;\n",
       "    }\n",
       "\n",
       "    .dataframe tbody tr th {\n",
       "        vertical-align: top;\n",
       "    }\n",
       "\n",
       "    .dataframe thead th {\n",
       "        text-align: right;\n",
       "    }\n",
       "</style>\n",
       "<table border=\"1\" class=\"dataframe\">\n",
       "  <thead>\n",
       "    <tr style=\"text-align: right;\">\n",
       "      <th></th>\n",
       "      <th>Name_Idol</th>\n",
       "      <th>Date of Birth</th>\n",
       "      <th>Group</th>\n",
       "      <th>Country</th>\n",
       "      <th>Birthplace</th>\n",
       "      <th>Gender</th>\n",
       "      <th>Name_Group</th>\n",
       "      <th>Debut</th>\n",
       "      <th>Company</th>\n",
       "      <th>Members</th>\n",
       "      <th>Orig. Memb.</th>\n",
       "      <th>Active</th>\n",
       "      <th>Age</th>\n",
       "      <th>Debut Age</th>\n",
       "    </tr>\n",
       "  </thead>\n",
       "  <tbody>\n",
       "    <tr>\n",
       "      <th>2</th>\n",
       "      <td>Aeji</td>\n",
       "      <td>1999-10-25</td>\n",
       "      <td>Hashtag</td>\n",
       "      <td>South Korea</td>\n",
       "      <td>Daegu</td>\n",
       "      <td>F</td>\n",
       "      <td>NaN</td>\n",
       "      <td>NaT</td>\n",
       "      <td>NaN</td>\n",
       "      <td>NaN</td>\n",
       "      <td>NaN</td>\n",
       "      <td>NaN</td>\n",
       "      <td>23</td>\n",
       "      <td>NaN</td>\n",
       "    </tr>\n",
       "    <tr>\n",
       "      <th>3</th>\n",
       "      <td>AhIn</td>\n",
       "      <td>1999-09-27</td>\n",
       "      <td>MOMOLAND</td>\n",
       "      <td>South Korea</td>\n",
       "      <td>Wonju</td>\n",
       "      <td>F</td>\n",
       "      <td>NaN</td>\n",
       "      <td>NaT</td>\n",
       "      <td>NaN</td>\n",
       "      <td>NaN</td>\n",
       "      <td>NaN</td>\n",
       "      <td>NaN</td>\n",
       "      <td>23</td>\n",
       "      <td>NaN</td>\n",
       "    </tr>\n",
       "    <tr>\n",
       "      <th>4</th>\n",
       "      <td>Ahra</td>\n",
       "      <td>2001-02-21</td>\n",
       "      <td>Favorite</td>\n",
       "      <td>South Korea</td>\n",
       "      <td>Yeosu</td>\n",
       "      <td>F</td>\n",
       "      <td>Favorite</td>\n",
       "      <td>2017-07-05</td>\n",
       "      <td>Astory</td>\n",
       "      <td>6.0</td>\n",
       "      <td>6.0</td>\n",
       "      <td>Yes</td>\n",
       "      <td>21</td>\n",
       "      <td>16.0</td>\n",
       "    </tr>\n",
       "    <tr>\n",
       "      <th>5</th>\n",
       "      <td>Ahyoung</td>\n",
       "      <td>1991-05-26</td>\n",
       "      <td>Dal Shabet</td>\n",
       "      <td>South Korea</td>\n",
       "      <td>Seoul</td>\n",
       "      <td>F</td>\n",
       "      <td>Dal Shabet</td>\n",
       "      <td>2011-01-03</td>\n",
       "      <td>Happy Face</td>\n",
       "      <td>4.0</td>\n",
       "      <td>6.0</td>\n",
       "      <td>Hiatus</td>\n",
       "      <td>31</td>\n",
       "      <td>20.0</td>\n",
       "    </tr>\n",
       "    <tr>\n",
       "      <th>6</th>\n",
       "      <td>Ahyung</td>\n",
       "      <td>1996-08-27</td>\n",
       "      <td>P.O.P</td>\n",
       "      <td>South Korea</td>\n",
       "      <td>Pohang</td>\n",
       "      <td>F</td>\n",
       "      <td>P.O.P</td>\n",
       "      <td>2017-07-26</td>\n",
       "      <td>DWM</td>\n",
       "      <td>6.0</td>\n",
       "      <td>6.0</td>\n",
       "      <td>Yes</td>\n",
       "      <td>26</td>\n",
       "      <td>21.0</td>\n",
       "    </tr>\n",
       "  </tbody>\n",
       "</table>\n",
       "</div>"
      ],
      "text/plain": [
       "  Name_Idol Date of Birth       Group      Country Birthplace Gender  \\\n",
       "2      Aeji    1999-10-25     Hashtag  South Korea      Daegu      F   \n",
       "3      AhIn    1999-09-27    MOMOLAND  South Korea      Wonju      F   \n",
       "4      Ahra    2001-02-21    Favorite  South Korea      Yeosu      F   \n",
       "5   Ahyoung    1991-05-26  Dal Shabet  South Korea      Seoul      F   \n",
       "6    Ahyung    1996-08-27       P.O.P  South Korea     Pohang      F   \n",
       "\n",
       "   Name_Group      Debut     Company  Members  Orig. Memb.  Active  Age  \\\n",
       "2         NaN        NaT         NaN      NaN          NaN     NaN   23   \n",
       "3         NaN        NaT         NaN      NaN          NaN     NaN   23   \n",
       "4    Favorite 2017-07-05      Astory      6.0          6.0     Yes   21   \n",
       "5  Dal Shabet 2011-01-03  Happy Face      4.0          6.0  Hiatus   31   \n",
       "6       P.O.P 2017-07-26         DWM      6.0          6.0     Yes   26   \n",
       "\n",
       "   Debut Age  \n",
       "2        NaN  \n",
       "3        NaN  \n",
       "4       16.0  \n",
       "5       20.0  \n",
       "6       21.0  "
      ]
     },
     "execution_count": 65,
     "metadata": {},
     "output_type": "execute_result"
    }
   ],
   "source": [
    "local_f_idols = f_idols_n_groups[f_idols_n_groups[\"Country\"] == \"South Korea\"]\n",
    "local_f_idols.head()"
   ]
  },
  {
   "cell_type": "markdown",
   "id": "20a3eb8d",
   "metadata": {},
   "source": [
    "    4.1 Popular Birthplace of Korean Female Kpop Idols"
   ]
  },
  {
   "cell_type": "code",
   "execution_count": 84,
   "id": "3ef91acd",
   "metadata": {},
   "outputs": [
    {
     "data": {
      "image/png": "[encoded data removed]",
      "text/plain": [
       "<Figure size 2160x720 with 1 Axes>"
      ]
     },
     "metadata": {},
     "output_type": "display_data"
    },
    {
     "data": {
      "text/plain": [
       "Seoul       99\n",
       "Busan       27\n",
       "Gwangju     20\n",
       "Incheon     19\n",
       "Daegu       14\n",
       "Jeonju       9\n",
       "Goyang       8\n",
       "Seongnam     8\n",
       "Bucheon      8\n",
       "Changwon     7\n",
       "Name: Birthplace, dtype: int64"
      ]
     },
     "execution_count": 84,
     "metadata": {},
     "output_type": "execute_result"
    }
   ],
   "source": [
    "origin = local_f_idols.Birthplace.value_counts()[1:] # Slice 1 onwards to remove \"Unknown\"\n",
    "\n",
    "origin[:10].plot.pie(autopct=\"%1.2f%%\")\n",
    "plt.title(\"Top 10 most popular Cities of Origin of Korean Female Kpop Idols\")\n",
    "\n",
    "plt.show()\n",
    "origin[:10]"
   ]
  },
  {
   "cell_type": "code",
   "execution_count": null,
   "id": "71c0a809",
   "metadata": {},
   "outputs": [],
   "source": []
  }
 ],
 "metadata": {
  "kernelspec": {
   "display_name": "Python 3 (ipykernel)",
   "language": "python",
   "name": "python3"
  },
  "language_info": {
   "codemirror_mode": {
    "name": "ipython",
    "version": 3
   },
   "file_extension": ".py",
   "mimetype": "text/x-python",
   "name": "python",
   "nbconvert_exporter": "python",
   "pygments_lexer": "ipython3",
   "version": "3.9.7"
  }
 },
 "nbformat": 4,
 "nbformat_minor": 5
}
